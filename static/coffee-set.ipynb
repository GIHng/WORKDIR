{
 "cells": [
  {
   "cell_type": "code",
   "execution_count": 1,
   "metadata": {},
   "outputs": [],
   "source": [
    "import numpy as np\n",
    "import pandas as pd\n",
    "#시각화 패키지\n",
    "import matplotlib.pyplot as plt\n",
    "import platform\n",
    "from matplotlib import font_manager, rc\n",
    "\n",
    "if platform.system() == 'Darwin': rc('font', family='AppleGothic')\n",
    "\n",
    "import matplotlib \n",
    "matplotlib.rcParams['axes.unicode_minus'] = False"
   ]
  },
  {
   "cell_type": "code",
   "execution_count": 3,
   "metadata": {},
   "outputs": [
    {
     "name": "stdout",
     "output_type": "stream",
     "text": [
      "<class 'pandas.core.frame.DataFrame'>\n",
      "RangeIndex: 2974 entries, 0 to 2973\n",
      "Data columns (total 4 columns):\n",
      " #   Column         Non-Null Count  Dtype  \n",
      "---  ------         --------------  -----  \n",
      " 0   user_id        2974 non-null   int64  \n",
      " 1   age            2974 non-null   object \n",
      " 2   drinks_coffee  2974 non-null   bool   \n",
      " 3   height         2974 non-null   float64\n",
      "dtypes: bool(1), float64(1), int64(1), object(1)\n",
      "memory usage: 72.7+ KB\n"
     ]
    }
   ],
   "source": [
    "np.random.seed(42)\n",
    "\n",
    "df = pd.read_csv('../data/coffee_dataset.csv')\n",
    "\n",
    "df.info()"
   ]
  },
  {
   "cell_type": "code",
   "execution_count": 53,
   "metadata": {},
   "outputs": [
    {
     "name": "stdout",
     "output_type": "stream",
     "text": [
      "      user_id   age  drinks_coffee     height\n",
      "2626     5517   <21          False  63.171236\n",
      "2031     2345   <21          False  67.181693\n",
      "2745     6152   <21          False  69.210097\n",
      "367      3628  >=21           True  70.064833\n",
      "2491     6913  >=21           True  66.212633\n",
      "...       ...   ...            ...        ...\n",
      "1762     2597   <21          False  63.857288\n",
      "1312     7168   <21          False  67.000965\n",
      "2195     3897  >=21           True  66.539729\n",
      "51       5490  >=21           True  67.512575\n",
      "1804     6649   <21           True  64.260188\n",
      "\n",
      "[2000 rows x 4 columns]\n"
     ]
    }
   ],
   "source": [
    "df_sample = df.sample(2000)\n",
    "\n",
    "print(df_sample)"
   ]
  },
  {
   "cell_type": "code",
   "execution_count": 43,
   "metadata": {},
   "outputs": [
    {
     "name": "stdout",
     "output_type": "stream",
     "text": [
      "-2.2147560171433587 -1.4640921952897439\n"
     ]
    }
   ],
   "source": [
    "iterationNum = 10000\n",
    "\n",
    "diffHeightList = []\n",
    "for _ in range(iterationNum):\n",
    "    bootSample = df_sample.sample(2000, replace=True) # 복원 추출\n",
    "\n",
    "    # 커피를 마시지 않는 사람 평균 키\n",
    "    nonCoffeeHeightMean = bootSample[bootSample['drinks_coffee'] == False].height.mean()\n",
    "\n",
    "    # 커피를 마시는 사람 평균 키\n",
    "    CoffeeHeightMean = bootSample[bootSample['drinks_coffee'] == True].height.mean()\n",
    "\n",
    "    # 차이 구하기\n",
    "    diff = nonCoffeeHeightMean - CoffeeHeightMean\n",
    "    \n",
    "    # 리스트에 추가\n",
    "    diffHeightList.append(diff)\n",
    "\n",
    "# 신뢰구간 99.5% 인 평균 키 차이에 대한 신뢰구간\n",
    "print(np.percentile(diffHeightList, 0.5), np.percentile(diffHeightList, 99.5))\n"
   ]
  },
  {
   "cell_type": "code",
   "execution_count": 57,
   "metadata": {},
   "outputs": [
    {
     "name": "stdout",
     "output_type": "stream",
     "text": [
      "3.097375509862835 4.960564285355574\n"
     ]
    }
   ],
   "source": [
    "# 21세 이상과 21세 미만의 키 평균 차이\n",
    "\n",
    "iterationNum = 10000\n",
    "\n",
    "ageList = []\n",
    "for _ in range(iterationNum):\n",
    "    bootSample = df_sample.sample(200, replace=True) # 복원 추출\n",
    "\n",
    "    over21HeightMean = bootSample[bootSample['age'] == '>=21'].height.mean()\n",
    "\n",
    "    under21HeightMean = bootSample[bootSample['age'] == '<21'].height.mean()\n",
    "\n",
    "    # 차이 구하기\n",
    "    diff = over21HeightMean - under21HeightMean\n",
    "    \n",
    "    # 리스트에 추가\n",
    "    ageList.append(diff)\n",
    "\n",
    "# 신뢰구간 99.5% 인 평균 키 차이에 대한 신뢰구간\n",
    "print(np.percentile(ageList, 0.5), np.percentile(ageList, 99.5))\n",
    "\n"
   ]
  },
  {
   "attachments": {},
   "cell_type": "markdown",
   "metadata": {},
   "source": []
  },
  {
   "cell_type": "code",
   "execution_count": null,
   "metadata": {},
   "outputs": [],
   "source": [
    "import scipy as sp\n",
    "from scipy import stats\n",
    "import statsmodels.api as sm\n",
    "import statsmodels.formula.api as smf\n",
    "from statsmodels.stats import power\n",
    "\n"
   ]
  }
 ],
 "metadata": {
  "kernelspec": {
   "display_name": "Python 3",
   "language": "python",
   "name": "python3"
  },
  "language_info": {
   "codemirror_mode": {
    "name": "ipython",
    "version": 3
   },
   "file_extension": ".py",
   "mimetype": "text/x-python",
   "name": "python",
   "nbconvert_exporter": "python",
   "pygments_lexer": "ipython3",
   "version": "3.11.4"
  },
  "orig_nbformat": 4
 },
 "nbformat": 4,
 "nbformat_minor": 2
}
