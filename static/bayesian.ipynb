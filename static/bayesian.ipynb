{
 "cells": [
  {
   "attachments": {},
   "cell_type": "markdown",
   "metadata": {},
   "source": [
    "## 베이즈 정리\n",
    "\n",
    "검사 시약 문제: 제약사에서 환자가 특정한 병에 걸렸는지 확인하는 시약을 만듦. \n",
    "환자에게 시약을 테스트한 결과 99%의 정확도를 나타 냄.\n",
    "\n",
    "이 때, 일반적인 사람의 시약 테스트가 양성이 나타난 경우 실제 이 병에 걸렸을 확률?\n",
    "\n",
    "- 이 병은 전체 인구 중 걸린 사람이 `0.2%`\n",
    "- 이 병에 걸리지 않은 사람의 시약 테스트가 양성으로 나온 확률은`5%`"
   ]
  },
  {
   "cell_type": "code",
   "execution_count": 7,
   "metadata": {},
   "outputs": [
    {
     "name": "stdout",
     "output_type": "stream",
     "text": [
      "+------+-------+\n",
      "| X(0) | 0.998 |\n",
      "+------+-------+\n",
      "| X(1) | 0.002 |\n",
      "+------+-------+\n"
     ]
    }
   ],
   "source": [
    "from pgmpy.factors.discrete import TabularCPD\n",
    "\n",
    "cpd_X = TabularCPD('X', 2, [[0.998], [0.002]])\n",
    "print(cpd_X)"
   ]
  },
  {
   "cell_type": "code",
   "execution_count": 8,
   "metadata": {},
   "outputs": [],
   "source": [
    "import numpy as np\n",
    "import pandas as pd\n",
    "#시각화 패키지\n",
    "import matplotlib.pyplot as plt\n",
    "import platform\n",
    "from matplotlib import font_manager, rc\n",
    "\n",
    "if platform.system() == 'Darwin': rc('font', family='AppleGothic')\n",
    "\n",
    "import matplotlib \n",
    "matplotlib.rcParams['axes.unicode_minus'] = False"
   ]
  },
  {
   "cell_type": "code",
   "execution_count": 10,
   "metadata": {},
   "outputs": [
    {
     "name": "stdout",
     "output_type": "stream",
     "text": [
      "+------+------+------+\n",
      "| X    | X(0) | X(1) |\n",
      "+------+------+------+\n",
      "| Y(0) | 0.95 | 0.01 |\n",
      "+------+------+------+\n",
      "| Y(1) | 0.05 | 0.99 |\n",
      "+------+------+------+\n"
     ]
    },
    {
     "name": "stderr",
     "output_type": "stream",
     "text": [
      "/var/folders/8y/qly304_55c1cf35dff76v_lh0000gn/T/ipykernel_17943/1185197337.py:5: DeprecationWarning: `product` is deprecated as of NumPy 1.25.0, and will be removed in NumPy 2.0. Please use `prod` instead.\n",
      "  cpd_Y_on_X = TabularCPD('Y', 2, np.array([[0.95, 0.01], [0.05, 0.99]]),\n"
     ]
    }
   ],
   "source": [
    "# 진단 시약의 판단 여부를 대입해서 확률 모형을 생성\n",
    "# 정상인 경우 정상으로 판단 95% 잘못 판단 5%\n",
    "# 병에 걸린 경우 병에 걸리지 않았다고 판단 1%, 양성으로 판단 99%\n",
    "\n",
    "# (X(0), Y(0)): 정상인 경우 정상으로 판단.\n",
    "# (X(0), Y(1)): 정상인 경우 잘못 판단.\n",
    "# (X(1), Y(0)): 병에 걸린 경우 잘못 판단.\n",
    "# (X(1), Y(1)): 병에 걸린 경우 양성으로 판단.\n",
    "\n",
    "cpd_Y_on_X = TabularCPD('Y', 2, np.array([[0.95, 0.01], [0.05, 0.99]]),\n",
    "                        evidence=['X'], evidence_card=[2])\n",
    "\n",
    "print(cpd_Y_on_X)"
   ]
  },
  {
   "cell_type": "code",
   "execution_count": 14,
   "metadata": {},
   "outputs": [
    {
     "name": "stdout",
     "output_type": "stream",
     "text": [
      "+------+----------+\n",
      "| X    |   phi(X) |\n",
      "+======+==========+\n",
      "| X(0) |   0.9618 |\n",
      "+------+----------+\n",
      "| X(1) |   0.0382 |\n",
      "+------+----------+\n"
     ]
    }
   ],
   "source": [
    "from pgmpy.models import BayesianNetwork\n",
    "\n",
    "model = BayesianNetwork([('X', 'Y')])\n",
    "model.add_cpds(cpd_X, cpd_Y_on_X)\n",
    "\n",
    "from pgmpy.inference import VariableElimination\n",
    "inference = VariableElimination(model)\n",
    "\n",
    "# Y값이 1이면 양성으로 나왔을 때 X(0): 병에 걸리지 않았을 확률, X(1): 병에 걸릴 확률\n",
    "# Y값이 0이면 음성으로 나왔을 때 X(0): 병에 걸리지 않았을 확률, X(1): 병에 걸릴 확률\n",
    "print(inference.query(['X'], evidence={'Y': 1}))"
   ]
  },
  {
   "cell_type": "code",
   "execution_count": null,
   "metadata": {},
   "outputs": [],
   "source": []
  }
 ],
 "metadata": {
  "kernelspec": {
   "display_name": "Python 3",
   "language": "python",
   "name": "python3"
  },
  "language_info": {
   "codemirror_mode": {
    "name": "ipython",
    "version": 3
   },
   "file_extension": ".py",
   "mimetype": "text/x-python",
   "name": "python",
   "nbconvert_exporter": "python",
   "pygments_lexer": "ipython3",
   "version": "3.11.4"
  },
  "orig_nbformat": 4
 },
 "nbformat": 4,
 "nbformat_minor": 2
}
