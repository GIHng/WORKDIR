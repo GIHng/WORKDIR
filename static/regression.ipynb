{
 "cells": [
  {
   "cell_type": "code",
   "execution_count": 1,
   "metadata": {},
   "outputs": [
    {
     "name": "stdout",
     "output_type": "stream",
     "text": [
      "[[0. 1. 0.]\n",
      " [0. 0. 1.]\n",
      " [0. 0. 0.]]\n"
     ]
    }
   ],
   "source": [
    "import seaborn as sns\n",
    "import scipy as sp\n",
    "import scipy.stats\n",
    "\n",
    "import numpy as np\n",
    "import pandas as pd\n",
    "\n",
    "# import pandas_datareader.data as web\n",
    "#시각화 패키지\n",
    "import matplotlib.pyplot as plt\n",
    "import platform\n",
    "from matplotlib import font_manager, rc\n",
    "\n",
    "if platform.system() == 'Darwin': rc('font', family='AppleGothic')\n",
    "\n",
    "import matplotlib \n",
    "matplotlib.rcParams['axes.unicode_minus'] = False\n",
    "\n",
    "from scipy import sparse\n",
    "\n",
    "ar = np.eye(3, k=1)\n",
    "print (ar)\n"
   ]
  },
  {
   "cell_type": "code",
   "execution_count": 2,
   "metadata": {},
   "outputs": [],
   "source": [
    "# 스칼라, 벡터, 형렬의 산술 연산\n",
    "x = np.array([10, 11, 20, 13, 14])"
   ]
  },
  {
   "cell_type": "code",
   "execution_count": null,
   "metadata": {},
   "outputs": [],
   "source": []
  },
  {
   "cell_type": "code",
   "execution_count": 3,
   "metadata": {},
   "outputs": [],
   "source": [
    "y = np.array({20,30,22, 11, 13})"
   ]
  },
  {
   "cell_type": "code",
   "execution_count": 4,
   "metadata": {},
   "outputs": [],
   "source": [
    "\n",
    "      # 다른 차원의 벡터를 shafe가 다르면 작은 쪽의 shape를 큰 폭에 맞춰어서 수행함\n",
    "      # 벡터와 행렬의 연산\n",
    "      # 벡터의 대이터 개수과 행렬의 열의 개수를 알아야함.)"
   ]
  }
 ],
 "metadata": {
  "kernelspec": {
   "display_name": "Python 3",
   "language": "python",
   "name": "python3"
  },
  "language_info": {
   "codemirror_mode": {
    "name": "ipython",
    "version": 3
   },
   "file_extension": ".py",
   "mimetype": "text/x-python",
   "name": "python",
   "nbconvert_exporter": "python",
   "pygments_lexer": "ipython3",
   "version": "3.11.4"
  },
  "orig_nbformat": 4
 },
 "nbformat": 4,
 "nbformat_minor": 2
}
