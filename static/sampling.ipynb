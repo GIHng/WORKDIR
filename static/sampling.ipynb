{
 "cells": [
  {
   "cell_type": "code",
   "execution_count": 2,
   "metadata": {},
   "outputs": [],
   "source": [
    "import seaborn as sns\n",
    "import scipy as sp\n",
    "import scipy.stats\n",
    "\n",
    "import numpy as np\n",
    "import pandas as pd\n",
    "\n",
    "# import pandas_datareader.data as web\n",
    "#시각화 패키지\n",
    "import matplotlib.pyplot as plt\n",
    "import platform\n",
    "from matplotlib import font_manager, rc\n",
    "\n",
    "if platform.system() == 'Darwin': rc('font', family='AppleGothic')\n",
    "\n",
    "import matplotlib \n",
    "matplotlib.rcParams['axes.unicode_minus'] = False"
   ]
  },
  {
   "cell_type": "code",
   "execution_count": 3,
   "metadata": {},
   "outputs": [
    {
     "name": "stdout",
     "output_type": "stream",
     "text": [
      "30 30 30 10 10 [10, 50, 20, 40, 30]\n",
      "['위치' '오미크론' '위치' '나즈' '위치']\n",
      "['오미크론' '위치' '라투' '나즈']\n",
      "['다크스펙터']\n"
     ]
    }
   ],
   "source": [
    "import random\n",
    "# 데이터 집단\n",
    "li = [10,20,30,40,50]\n",
    "\n",
    "# 복원 추출\n",
    "# randint (시작위치, 종료위치) -> 면 특정 범위 내의 정수를 리턴\n",
    "for i in range(5):\n",
    "    print(li[random.randint(0, len(li)-1)], end=' ')\n",
    "    \n",
    "# 비복원 추출\n",
    "result = random.sample(li, k=5)\n",
    "print(result)\n",
    "\n",
    "ar = [\"오미크론\", \"다크스펙터\", \"나즈\", \"라투\", \"위치\"]\n",
    "# 복원 추출\n",
    "print(np.random.choice(ar,5))\n",
    "# 8:2 비복원 추출 - 일반적인 머신러닝에서 훈련 데이터와 검증 데이터 분리\n",
    "sample = np.random.choice(ar,int(len(ar) * 0.8), replace=False)\n",
    "print(sample)\n",
    "validation=[]\n",
    "#데이터를 순회하면서 속하지 않은 데이터만 validation 에 추가\n",
    "for i in ar :\n",
    "    if i not in sample :\n",
    "        validation.append(i)\n",
    "print(validation)"
   ]
  },
  {
   "cell_type": "code",
   "execution_count": 10,
   "metadata": {},
   "outputs": [
    {
     "name": "stdout",
     "output_type": "stream",
     "text": [
      "      0    1    2\n",
      "34  102  103  104\n",
      "39  117  118  119\n",
      "14   42   43   44\n",
      "26   78   79   80\n",
      "10   30   31   32\n",
      "2     6    7    8\n",
      "17   51   52   53\n",
      "27   81   82   83\n",
      "19   57   58   59\n",
      "28   84   85   86\n",
      "9    27   28   29\n",
      "21   63   64   65\n",
      "25   75   76   77\n",
      "18   54   55   56\n",
      "32   96   97   98\n",
      "3     9   10   11\n",
      "11   33   34   35\n",
      "31   93   94   95\n",
      "22   66   67   68\n",
      "0     0    1    2\n",
      "35  105  106  107\n",
      "12   36   37   38\n",
      "6    18   19   20\n",
      "16   48   49   50\n",
      "5    15   16   17\n",
      "7    21   22   23\n",
      "36  108  109  110\n",
      "4    12   13   14\n",
      "37  111  112  113\n",
      "24   72   73   74\n",
      "8    24   25   26\n",
      "1     3    4    5\n"
     ]
    }
   ],
   "source": [
    "ex_df = pd.DataFrame(np.arange(0, 120).reshape(40, 3))\n",
    "\n",
    "# 10개의 데이터 샘플링\n",
    "print(ex_df.sample(frac=0.8))"
   ]
  },
  {
   "cell_type": "code",
   "execution_count": 14,
   "metadata": {},
   "outputs": [
    {
     "name": "stdout",
     "output_type": "stream",
     "text": [
      "[[ 0  1]\n",
      " [ 2  3]\n",
      " [ 4  5]\n",
      " [ 6  7]\n",
      " [ 8  9]\n",
      " [10 11]\n",
      " [12 13]\n",
      " [14 15]\n",
      " [16 17]\n",
      " [18 19]]\n",
      "[0 1 2 3 4 5 6 7 8 9]\n"
     ]
    }
   ],
   "source": [
    "# 순차적 분할 - 데이터를 순서대로 분할: shuffle 옵션을 False로 설정\n",
    "\n",
    "X = np.arange(20).reshape(10, 2)\n",
    "print(X)\n",
    "\n",
    "y = np.arange(10)\n",
    "print(y)"
   ]
  },
  {
   "cell_type": "code",
   "execution_count": 21,
   "metadata": {},
   "outputs": [],
   "source": [
    "# 랜덤 추출\n",
    "# 이를 가지고 실제 훈련에 사용한다면 시드는 고정시켜야 한다\n",
    "# 시드를 고정시키지 않으면 선택된 데이터에 따라 다른 모델이 ㅁ나들어지고\n",
    "# 검증해야 하는 데이터도 랜덤하게 생성되므로 평가지표가 매번 달라지게 된다.\n",
    "from sklearn.model_selection import train_test_split\n",
    "\n",
    "X_train, X_test, y_train, y_test = train_test_split(X, y, test_size=0.3, shuffle=False, random_state=42)\n"
   ]
  },
  {
   "cell_type": "code",
   "execution_count": 29,
   "metadata": {},
   "outputs": [
    {
     "name": "stdout",
     "output_type": "stream",
     "text": [
      "(10, 2)\n",
      "(5, 2)\n",
      "[[ 2  3]\n",
      " [14 15]\n",
      " [26 27]\n",
      " [16 17]\n",
      " [ 8  9]\n",
      " [28 29]\n",
      " [10 11]\n",
      " [ 4  5]\n",
      " [12 13]\n",
      " [20 21]]\n"
     ]
    }
   ],
   "source": [
    "X = np.arange(30).reshape(15, 2)\n",
    "y = np.arange(15)\n",
    "\n",
    "grep = [0, 0, 0, 0, 0, 1, 1, 1, 1, 1, 1, 1, 1, 1, 1]\n",
    "\n",
    "X_train, X_test, y_train, y_test = train_test_split(X, y, test_size=0.3, shuffle=True, stratify=grep,random_state=42)\n",
    "\n",
    "\n",
    "print (X_train.shape)\n",
    "print (X_test.shape)\n",
    "print (X_train)"
   ]
  },
  {
   "cell_type": "code",
   "execution_count": null,
   "metadata": {},
   "outputs": [],
   "source": []
  },
  {
   "cell_type": "code",
   "execution_count": null,
   "metadata": {},
   "outputs": [],
   "source": []
  }
 ],
 "metadata": {
  "kernelspec": {
   "display_name": "Python 3 (ipykernel)",
   "language": "python",
   "name": "python3"
  },
  "language_info": {
   "codemirror_mode": {
    "name": "ipython",
    "version": 3
   },
   "file_extension": ".py",
   "mimetype": "text/x-python",
   "name": "python",
   "nbconvert_exporter": "python",
   "pygments_lexer": "ipython3",
   "version": "3.11.4"
  }
 },
 "nbformat": 4,
 "nbformat_minor": 4
}
