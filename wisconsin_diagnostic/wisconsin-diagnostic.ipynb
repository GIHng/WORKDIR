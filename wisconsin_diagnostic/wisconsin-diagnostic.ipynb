{
 "cells": [
  {
   "cell_type": "code",
   "execution_count": 26,
   "metadata": {},
   "outputs": [],
   "source": [
    "# 파이썬 ≥3.5 필수\n",
    "import sys\n",
    "assert sys.version_info >= (3, 5)\n",
    "\n",
    "\n",
    "# 공통 모듈 임포트\n",
    "import numpy as np\n",
    "import pandas as pd\n",
    "import os\n",
    "\n",
    "\n",
    "# 깔끔한 그래프 출력을 위해\n",
    "%matplotlib inline\n",
    "import matplotlib as mpl\n",
    "import matplotlib.pyplot as plt\n",
    "mpl.rc('axes', labelsize=14)\n",
    "mpl.rc('xtick', labelsize=12)\n",
    "mpl.rc('ytick', labelsize=12)\n",
    "\n",
    "\n",
    "# 그림을 저장할 위치\n",
    "PROJECT_ROOT_DIR = \".\"\n",
    "CHAPTER_ID = \"classification\"\n",
    "IMAGES_PATH = os.path.join(PROJECT_ROOT_DIR, \"images\", CHAPTER_ID)\n",
    "os.makedirs(IMAGES_PATH, exist_ok=True)\n",
    "\n",
    "\n",
    "def save_fig(fig_id, tight_layout=True, fig_extension=\"png\", resolution=300):\n",
    "    path = os.path.join(IMAGES_PATH, fig_id + \".\" + fig_extension)\n",
    "    print(\"그림 저장:\", fig_id)\n",
    "    if tight_layout:\n",
    "        plt.tight_layout()\n",
    "    plt.savefig(path, format=fig_extension, dpi=resolution)\n",
    "    \n",
    "\n",
    "from matplotlib import font_manager, rc\n",
    "import platform\n",
    "\n",
    "\n",
    "path = \"c:/Windows/Fonts/malgun.ttf\"\n",
    "if platform.system() == 'Darwin':\n",
    "    rc('font', family='AppleGothic')\n",
    "elif platform.system() == 'Windows':\n",
    "    font_name = font_manager.FontProperties(fname=path).get_name()\n",
    "    rc('font', family=font_name)\n",
    "\n",
    "\n",
    "mpl.rcParams['axes.unicode_minus'] = False\n",
    "\n",
    "\n",
    "# Jupyter Notebook의 출력을 소수점 이하 3자리로 제한 \n",
    "%precision 3\n",
    "\n",
    "\n",
    "import seaborn as sns\n",
    "\n",
    "import scipy as sp\n",
    "from scipy import stats\n",
    "\n",
    "\n",
    "# 사이킷런 ≥0.20 필수\n",
    "import sklearn\n",
    "assert sklearn.__version__ >= \"0.20\"\n",
    "\n",
    "\n",
    "# 노트북 실행 결과를 동일하게 유지하기 위해\n",
    "# 데이터를 분할할 때 동일한 분할을 만들기 위해서\n",
    "# 모델을 만드는 작업을 여러 번에 걸쳐서 하는 경우 시드가 변경되면\n",
    "# 훈련용 데이터가 자주 변경되면 결국 모든 데터를 가지고 모델을 생성하는 결과\n",
    "# Outfit을 만드는 효과를 가져옴.\n",
    "np.random.seed(42)"
   ]
  },
  {
   "cell_type": "code",
   "execution_count": 27,
   "metadata": {},
   "outputs": [
    {
     "name": "stdout",
     "output_type": "stream",
     "text": [
      "<class 'pandas.core.frame.DataFrame'>\n",
      "RangeIndex: 569 entries, 0 to 568\n",
      "Data columns (total 31 columns):\n",
      " #   Column                   Non-Null Count  Dtype  \n",
      "---  ------                   --------------  -----  \n",
      " 0   mean radius              569 non-null    float64\n",
      " 1   mean texture             569 non-null    float64\n",
      " 2   mean perimeter           569 non-null    float64\n",
      " 3   mean area                569 non-null    float64\n",
      " 4   mean smoothness          569 non-null    float64\n",
      " 5   mean compactness         569 non-null    float64\n",
      " 6   mean concavity           569 non-null    float64\n",
      " 7   mean concave points      569 non-null    float64\n",
      " 8   mean symmetry            569 non-null    float64\n",
      " 9   mean fractal dimension   569 non-null    float64\n",
      " 10  radius error             569 non-null    float64\n",
      " 11  texture error            569 non-null    float64\n",
      " 12  perimeter error          569 non-null    float64\n",
      " 13  area error               569 non-null    float64\n",
      " 14  smoothness error         569 non-null    float64\n",
      " 15  compactness error        569 non-null    float64\n",
      " 16  concavity error          569 non-null    float64\n",
      " 17  concave points error     569 non-null    float64\n",
      " 18  symmetry error           569 non-null    float64\n",
      " 19  fractal dimension error  569 non-null    float64\n",
      " 20  worst radius             569 non-null    float64\n",
      " 21  worst texture            569 non-null    float64\n",
      " 22  worst perimeter          569 non-null    float64\n",
      " 23  worst area               569 non-null    float64\n",
      " 24  worst smoothness         569 non-null    float64\n",
      " 25  worst compactness        569 non-null    float64\n",
      " 26  worst concavity          569 non-null    float64\n",
      " 27  worst concave points     569 non-null    float64\n",
      " 28  worst symmetry           569 non-null    float64\n",
      " 29  worst fractal dimension  569 non-null    float64\n",
      " 30  target                   569 non-null    int64  \n",
      "dtypes: float64(30), int64(1)\n",
      "memory usage: 137.9 KB\n",
      "None\n"
     ]
    }
   ],
   "source": [
    "from sklearn.datasets import load_breast_cancer\n",
    "\n",
    "dataset = load_breast_cancer()\n",
    "\n",
    "X_feature = dataset.data\n",
    "y_label = dataset.target\n",
    "\n",
    "cancer_df = pd.DataFrame(data=X_feature, columns=dataset.feature_names)\n",
    "cancer_df['target'] = y_label\n",
    "print(cancer_df.info())"
   ]
  },
  {
   "attachments": {},
   "cell_type": "markdown",
   "metadata": {},
   "source": [
    "# 데이터의 분포 확인"
   ]
  },
  {
   "cell_type": "code",
   "execution_count": 28,
   "metadata": {},
   "outputs": [
    {
     "name": "stdout",
     "output_type": "stream",
     "text": [
      "1    357\n",
      "0    212\n",
      "Name: target, dtype: int64\n"
     ]
    }
   ],
   "source": [
    "# 타겟 데이터의 분포 확인 - 이 비율이 한쪽으로 치우치면 가중치를 적용하거나 층화 추출을 고려해야 함.\n",
    "print(cancer_df['target'].value_counts())"
   ]
  },
  {
   "cell_type": "code",
   "execution_count": 29,
   "metadata": {},
   "outputs": [
    {
     "name": "stdout",
     "output_type": "stream",
     "text": [
      "(512, 30) (57, 30)\n",
      "(512,) (57,)\n"
     ]
    }
   ],
   "source": [
    "# 학습 데이터와 훈련 데이터 분할\n",
    "from sklearn.model_selection import train_test_split\n",
    "\n",
    "X_train, X_test, y_train, y_test = train_test_split(X_feature, y_label, test_size=0.1, random_state=42)\n",
    "\n",
    "# (데이터 개수, column 개수)\n",
    "print(X_train.shape, X_test.shape)\n",
    "print(y_train.shape, y_test.shape)"
   ]
  },
  {
   "attachments": {},
   "cell_type": "markdown",
   "metadata": {},
   "source": [
    "## XGBoost를 이용하여 데이터 생성"
   ]
  },
  {
   "cell_type": "code",
   "execution_count": 30,
   "metadata": {},
   "outputs": [],
   "source": [
    "import xgboost as xgb\n",
    "dtrain = xgb.DMatrix(data=X_train, label=y_train)\n",
    "dtest = xgb.DMatrix(data=X_test, label=y_test)"
   ]
  },
  {
   "cell_type": "code",
   "execution_count": 31,
   "metadata": {},
   "outputs": [],
   "source": [
    "params = {\n",
    "    'max_depth': 3,\n",
    "    'eta': 1,\n",
    "    'objective':'binary:logistic',\n",
    "    'eval_metric':'logloss'\n",
    "}\n",
    "num_rounds = 400"
   ]
  },
  {
   "cell_type": "code",
   "execution_count": 32,
   "metadata": {},
   "outputs": [
    {
     "name": "stdout",
     "output_type": "stream",
     "text": [
      "[0]\ttrain-logloss:0.19404\teval-logloss:0.24686\n",
      "[1]\ttrain-logloss:0.08964\teval-logloss:0.18027\n",
      "[2]\ttrain-logloss:0.05455\teval-logloss:0.15600\n",
      "[3]\ttrain-logloss:0.03359\teval-logloss:0.15126\n",
      "[4]\ttrain-logloss:0.02214\teval-logloss:0.14433\n",
      "[5]\ttrain-logloss:0.01720\teval-logloss:0.14218\n",
      "[6]\ttrain-logloss:0.01357\teval-logloss:0.13925\n",
      "[7]\ttrain-logloss:0.01134\teval-logloss:0.12533\n",
      "[8]\ttrain-logloss:0.00984\teval-logloss:0.11654\n",
      "[9]\ttrain-logloss:0.00908\teval-logloss:0.11707\n",
      "[10]\ttrain-logloss:0.00826\teval-logloss:0.12371\n",
      "[11]\ttrain-logloss:0.00741\teval-logloss:0.12267\n",
      "[12]\ttrain-logloss:0.00676\teval-logloss:0.13281\n",
      "[13]\ttrain-logloss:0.00648\teval-logloss:0.13872\n",
      "[14]\ttrain-logloss:0.00629\teval-logloss:0.14407\n",
      "[15]\ttrain-logloss:0.00608\teval-logloss:0.13830\n",
      "[16]\ttrain-logloss:0.00592\teval-logloss:0.13825\n",
      "[17]\ttrain-logloss:0.00575\teval-logloss:0.14187\n",
      "[18]\ttrain-logloss:0.00563\teval-logloss:0.14277\n",
      "[19]\ttrain-logloss:0.00549\teval-logloss:0.14746\n",
      "[20]\ttrain-logloss:0.00535\teval-logloss:0.14086\n",
      "[21]\ttrain-logloss:0.00520\teval-logloss:0.14170\n",
      "[22]\ttrain-logloss:0.00507\teval-logloss:0.14264\n",
      "[23]\ttrain-logloss:0.00496\teval-logloss:0.14297\n",
      "[24]\ttrain-logloss:0.00485\teval-logloss:0.14319\n",
      "[25]\ttrain-logloss:0.00477\teval-logloss:0.14026\n",
      "[26]\ttrain-logloss:0.00469\teval-logloss:0.14433\n",
      "[27]\ttrain-logloss:0.00459\teval-logloss:0.14815\n",
      "[28]\ttrain-logloss:0.00452\teval-logloss:0.14341\n",
      "[29]\ttrain-logloss:0.00445\teval-logloss:0.14438\n",
      "[30]\ttrain-logloss:0.00441\teval-logloss:0.14708\n",
      "[31]\ttrain-logloss:0.00436\teval-logloss:0.14740\n",
      "[32]\ttrain-logloss:0.00432\teval-logloss:0.14541\n",
      "[33]\ttrain-logloss:0.00427\teval-logloss:0.14449\n",
      "[34]\ttrain-logloss:0.00424\teval-logloss:0.14573\n",
      "[35]\ttrain-logloss:0.00420\teval-logloss:0.14803\n",
      "[36]\ttrain-logloss:0.00417\teval-logloss:0.14641\n",
      "[37]\ttrain-logloss:0.00414\teval-logloss:0.14561\n",
      "[38]\ttrain-logloss:0.00414\teval-logloss:0.14561\n",
      "[39]\ttrain-logloss:0.00414\teval-logloss:0.14561\n",
      "[40]\ttrain-logloss:0.00414\teval-logloss:0.14561\n",
      "[41]\ttrain-logloss:0.00414\teval-logloss:0.14561\n",
      "[42]\ttrain-logloss:0.00414\teval-logloss:0.14561\n",
      "[43]\ttrain-logloss:0.00414\teval-logloss:0.14561\n",
      "[44]\ttrain-logloss:0.00414\teval-logloss:0.14561\n",
      "[45]\ttrain-logloss:0.00414\teval-logloss:0.14561\n",
      "[46]\ttrain-logloss:0.00414\teval-logloss:0.14561\n",
      "[47]\ttrain-logloss:0.00414\teval-logloss:0.14561\n",
      "[48]\ttrain-logloss:0.00414\teval-logloss:0.14561\n",
      "[49]\ttrain-logloss:0.00414\teval-logloss:0.14561\n",
      "[50]\ttrain-logloss:0.00414\teval-logloss:0.14561\n",
      "[51]\ttrain-logloss:0.00414\teval-logloss:0.14561\n",
      "[52]\ttrain-logloss:0.00414\teval-logloss:0.14561\n",
      "[53]\ttrain-logloss:0.00414\teval-logloss:0.14561\n",
      "[54]\ttrain-logloss:0.00414\teval-logloss:0.14561\n",
      "[55]\ttrain-logloss:0.00414\teval-logloss:0.14561\n",
      "[56]\ttrain-logloss:0.00414\teval-logloss:0.14561\n",
      "[57]\ttrain-logloss:0.00414\teval-logloss:0.14561\n",
      "[58]\ttrain-logloss:0.00414\teval-logloss:0.14561\n",
      "[59]\ttrain-logloss:0.00414\teval-logloss:0.14561\n",
      "[60]\ttrain-logloss:0.00414\teval-logloss:0.14561\n",
      "[61]\ttrain-logloss:0.00414\teval-logloss:0.14561\n",
      "[62]\ttrain-logloss:0.00414\teval-logloss:0.14561\n",
      "[63]\ttrain-logloss:0.00414\teval-logloss:0.14561\n",
      "[64]\ttrain-logloss:0.00414\teval-logloss:0.14561\n",
      "[65]\ttrain-logloss:0.00414\teval-logloss:0.14561\n",
      "[66]\ttrain-logloss:0.00414\teval-logloss:0.14561\n",
      "[67]\ttrain-logloss:0.00414\teval-logloss:0.14561\n",
      "[68]\ttrain-logloss:0.00414\teval-logloss:0.14561\n",
      "[69]\ttrain-logloss:0.00414\teval-logloss:0.14561\n",
      "[70]\ttrain-logloss:0.00414\teval-logloss:0.14561\n",
      "[71]\ttrain-logloss:0.00414\teval-logloss:0.14561\n",
      "[72]\ttrain-logloss:0.00414\teval-logloss:0.14561\n",
      "[73]\ttrain-logloss:0.00414\teval-logloss:0.14561\n",
      "[74]\ttrain-logloss:0.00414\teval-logloss:0.14561\n",
      "[75]\ttrain-logloss:0.00414\teval-logloss:0.14561\n",
      "[76]\ttrain-logloss:0.00414\teval-logloss:0.14561\n",
      "[77]\ttrain-logloss:0.00414\teval-logloss:0.14561\n",
      "[78]\ttrain-logloss:0.00414\teval-logloss:0.14561\n",
      "[79]\ttrain-logloss:0.00414\teval-logloss:0.14561\n",
      "[80]\ttrain-logloss:0.00414\teval-logloss:0.14561\n",
      "[81]\ttrain-logloss:0.00414\teval-logloss:0.14561\n",
      "[82]\ttrain-logloss:0.00414\teval-logloss:0.14561\n",
      "[83]\ttrain-logloss:0.00414\teval-logloss:0.14561\n",
      "[84]\ttrain-logloss:0.00414\teval-logloss:0.14561\n",
      "[85]\ttrain-logloss:0.00414\teval-logloss:0.14561\n",
      "[86]\ttrain-logloss:0.00414\teval-logloss:0.14561\n",
      "[87]\ttrain-logloss:0.00414\teval-logloss:0.14561\n",
      "[88]\ttrain-logloss:0.00414\teval-logloss:0.14561\n",
      "[89]\ttrain-logloss:0.00414\teval-logloss:0.14561\n",
      "[90]\ttrain-logloss:0.00414\teval-logloss:0.14561\n",
      "[91]\ttrain-logloss:0.00414\teval-logloss:0.14561\n",
      "[92]\ttrain-logloss:0.00414\teval-logloss:0.14561\n",
      "[93]\ttrain-logloss:0.00414\teval-logloss:0.14561\n",
      "[94]\ttrain-logloss:0.00414\teval-logloss:0.14561\n",
      "[95]\ttrain-logloss:0.00414\teval-logloss:0.14561\n",
      "[96]\ttrain-logloss:0.00414\teval-logloss:0.14561\n",
      "[97]\ttrain-logloss:0.00414\teval-logloss:0.14561\n",
      "[98]\ttrain-logloss:0.00414\teval-logloss:0.14561\n",
      "[99]\ttrain-logloss:0.00414\teval-logloss:0.14561\n",
      "[100]\ttrain-logloss:0.00414\teval-logloss:0.14561\n",
      "[101]\ttrain-logloss:0.00414\teval-logloss:0.14561\n",
      "[102]\ttrain-logloss:0.00414\teval-logloss:0.14561\n",
      "[103]\ttrain-logloss:0.00414\teval-logloss:0.14561\n",
      "[104]\ttrain-logloss:0.00414\teval-logloss:0.14561\n",
      "[105]\ttrain-logloss:0.00414\teval-logloss:0.14561\n",
      "[106]\ttrain-logloss:0.00414\teval-logloss:0.14561\n",
      "[107]\ttrain-logloss:0.00414\teval-logloss:0.14561\n",
      "[9.979e-01 1.131e-04 4.896e-05 9.999e-01 1.000e+00 5.793e-05 1.006e-03\n",
      " 7.702e-02 1.835e-01 9.991e-01]\n"
     ]
    }
   ],
   "source": [
    "# 훈련 데이터와 검증 데이터 생성\n",
    "wlist = [(dtrain, 'train'), (dtest, 'eval')]\n",
    "\n",
    "# 모델 생성\n",
    "xgb_model = xgb.train(params=params, dtrain=dtrain, evals=wlist, \n",
    "                      num_boost_round=num_rounds, early_stopping_rounds=100)\n",
    "# early_stopping_rounds 조기종료 옵션\n",
    "\n",
    "pred_probs = xgb_model.predict(dtest)\n",
    "print(pred_probs[0:10])\n",
    "\n"
   ]
  },
  {
   "cell_type": "code",
   "execution_count": 33,
   "metadata": {},
   "outputs": [
    {
     "data": {
      "text/plain": [
       "[1, 0, 0, 1, 1, 0, 0, 0, 0, 1]"
      ]
     },
     "execution_count": 33,
     "metadata": {},
     "output_type": "execute_result"
    }
   ],
   "source": [
    "# 확률을 가지고 실제 클래스를 예측\n",
    "preds = [1 if x > 0.5 else 0 for x in pred_probs]\n",
    "preds[:10]"
   ]
  },
  {
   "attachments": {},
   "cell_type": "markdown",
   "metadata": {},
   "source": [
    "# 평가지표 확인"
   ]
  },
  {
   "cell_type": "code",
   "execution_count": 34,
   "metadata": {},
   "outputs": [],
   "source": [
    "from sklearn.metrics import confusion_matrix, accuracy_score, precision_score,recall_score, f1_score, roc_auc_score"
   ]
  },
  {
   "cell_type": "code",
   "execution_count": 35,
   "metadata": {},
   "outputs": [
    {
     "name": "stdout",
     "output_type": "stream",
     "text": [
      "[[16  1]\n",
      " [ 1 39]]\n",
      "0.9649122807017544\n",
      "0.975\n",
      "0.975\n",
      "0.975\n",
      "0.9852941176470588\n"
     ]
    }
   ],
   "source": [
    "# 오차 행렬\n",
    "confusion = confusion_matrix(y_test, preds)\n",
    "print(confusion)\n",
    "\n",
    "# 정확도\n",
    "accuracy = accuracy_score(y_test, preds)\n",
    "print(accuracy)\n",
    "\n",
    "# 정밀도 - True로 판정한 것 중에서 실제 True인 비율 - 잘못 검색되면 안 되는 경우 중요\n",
    "precision = precision_score(y_test, preds)\n",
    "print(precision)\n",
    "\n",
    "# 재현율 - 실제로 True 인 것 중에서 True로 판정한 비율 - 정보 검색에서 중요\n",
    "recall = recall_score(y_test, preds)\n",
    "print(recall)\n",
    "\n",
    "# f1 score: 정밀도와 재현율의 조화 평균 - 데이터가 불균형할 때 중요\n",
    "f1 = f1_score(y_test, preds)\n",
    "print(f1)\n",
    "\n",
    "# roc_auc: 확률을 매개변수로 넘겨줘야 함. 1에 가까울수록 좋음\n",
    "roc_auc = roc_auc_score(y_test, pred_probs)\n",
    "print(roc_auc)"
   ]
  },
  {
   "cell_type": "code",
   "execution_count": 36,
   "metadata": {},
   "outputs": [
    {
     "data": {
      "text/plain": [
       "<Axes: title={'center': 'Feature importance'}, xlabel='F score', ylabel='Features'>"
      ]
     },
     "execution_count": 36,
     "metadata": {},
     "output_type": "execute_result"
    },
    {
     "data": {
      "image/png": "[encoded data removed]",
      "text/plain": [
       "<Figure size 400x600 with 1 Axes>"
      ]
     },
     "metadata": {},
     "output_type": "display_data"
    }
   ],
   "source": [
    "# 피처의 중요도 확인\n",
    "from xgboost import plot_importance\n",
    "import matplotlib.pyplot as plt\n",
    "\n",
    "fig, ax = plt.subplots(figsize=(4, 6))\n",
    "plot_importance(xgb_model, ax=ax)"
   ]
  },
  {
   "cell_type": "code",
   "execution_count": null,
   "metadata": {},
   "outputs": [],
   "source": []
  }
 ],
 "metadata": {
  "kernelspec": {
   "display_name": "Python 3",
   "language": "python",
   "name": "python3"
  },
  "language_info": {
   "codemirror_mode": {
    "name": "ipython",
    "version": 3
   },
   "file_extension": ".py",
   "mimetype": "text/x-python",
   "name": "python",
   "nbconvert_exporter": "python",
   "pygments_lexer": "ipython3",
   "version": "3.11.4"
  },
  "orig_nbformat": 4
 },
 "nbformat": 4,
 "nbformat_minor": 2
}
