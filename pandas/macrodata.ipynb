{
 "cells": [
  {
   "cell_type": "code",
   "execution_count": 17,
   "metadata": {},
   "outputs": [],
   "source": [
    "import numpy as np\n",
    "import pandas as pd"
   ]
  },
  {
   "cell_type": "code",
   "execution_count": 18,
   "metadata": {},
   "outputs": [],
   "source": [
    "data = pd.read_csv('./data/macrodata.csv')\n",
    "# print(data.head())"
   ]
  },
  {
   "cell_type": "code",
   "execution_count": 19,
   "metadata": {},
   "outputs": [],
   "source": [
    "# 시계열 인덱스 생성\n",
    "periods = pd.PeriodIndex(year=data['year'], quarter=data['quarter'], name='date')\n",
    "# print(periods.head())\n"
   ]
  },
  {
   "cell_type": "code",
   "execution_count": 20,
   "metadata": {},
   "outputs": [],
   "source": [
    "columns = pd.Index(['readgdp', 'infl', 'unemp'], name='item')\n",
    "\n",
    "data = data.reindex(columns=columns)\n",
    "# print(data)"
   ]
  },
  {
   "cell_type": "code",
   "execution_count": 21,
   "metadata": {},
   "outputs": [
    {
     "name": "stdout",
     "output_type": "stream",
     "text": [
      "item                           readgdp  infl  unemp\n",
      "date                                               \n",
      "1959-03-31 23:59:59.999999999      NaN  0.00    5.8\n",
      "1959-06-30 23:59:59.999999999      NaN  2.34    5.1\n",
      "1959-09-30 23:59:59.999999999      NaN  2.74    5.3\n",
      "1959-12-31 23:59:59.999999999      NaN  0.27    5.6\n",
      "1960-03-31 23:59:59.999999999      NaN  2.31    5.2\n",
      "...                                ...   ...    ...\n",
      "2008-09-30 23:59:59.999999999      NaN -3.16    6.0\n",
      "2008-12-31 23:59:59.999999999      NaN -8.79    6.9\n",
      "2009-03-31 23:59:59.999999999      NaN  0.94    8.1\n",
      "2009-06-30 23:59:59.999999999      NaN  3.37    9.2\n",
      "2009-09-30 23:59:59.999999999      NaN  3.56    9.6\n",
      "\n",
      "[203 rows x 3 columns]\n"
     ]
    }
   ],
   "source": [
    "# 쿼터의 마지막 날을 세부 데이터로 설정\n",
    "data.index = periods.to_timestamp('D', 'end')\n",
    "print(data)"
   ]
  },
  {
   "cell_type": "code",
   "execution_count": 24,
   "metadata": {},
   "outputs": [
    {
     "name": "stdout",
     "output_type": "stream",
     "text": [
      "                             date   item  value\n",
      "0   1959-03-31 23:59:59.999999999   infl   0.00\n",
      "1   1959-03-31 23:59:59.999999999  unemp   5.80\n",
      "2   1959-06-30 23:59:59.999999999   infl   2.34\n",
      "3   1959-06-30 23:59:59.999999999  unemp   5.10\n",
      "4   1959-09-30 23:59:59.999999999   infl   2.74\n",
      "..                            ...    ...    ...\n",
      "401 2009-03-31 23:59:59.999999999  unemp   8.10\n",
      "402 2009-06-30 23:59:59.999999999   infl   3.37\n",
      "403 2009-06-30 23:59:59.999999999  unemp   9.20\n",
      "404 2009-09-30 23:59:59.999999999   infl   3.56\n",
      "405 2009-09-30 23:59:59.999999999  unemp   9.60\n",
      "\n",
      "[406 rows x 3 columns]\n"
     ]
    }
   ],
   "source": [
    "# 날짜를 데이터로 사용\n",
    "ldata = data.stack().reset_index().rename(columns={0:'value'})\n",
    "print(ldata)"
   ]
  },
  {
   "cell_type": "code",
   "execution_count": 28,
   "metadata": {},
   "outputs": [
    {
     "name": "stdout",
     "output_type": "stream",
     "text": [
      "   cust_id prod_id  pch_cnt  poh_price  pch_amt\n",
      "0        1       A        1        100       10\n",
      "1        2       B        2        200       20\n",
      "2        3       C        3        300       30\n",
      "3        4       D        4        400       40\n"
     ]
    }
   ],
   "source": [
    "data = pd.DataFrame({\"cust_id\":[1, 2, 3, 4], \"prod_id\":[\"A\", \"B\", \"C\", \"D\"],\n",
    "                     'pch_cnt':[1, 2, 3, 4], \"poh_price\":[100, 200, 300, 400],\n",
    "                     \"pch_amt\":[10, 20, 30, 40]})\n",
    "\n",
    "print(data)"
   ]
  },
  {
   "cell_type": "code",
   "execution_count": 30,
   "metadata": {},
   "outputs": [
    {
     "name": "stdout",
     "output_type": "stream",
     "text": [
      "    cust_id prod_id   variable  value\n",
      "0         1       A    pch_cnt      1\n",
      "1         2       B    pch_cnt      2\n",
      "2         3       C    pch_cnt      3\n",
      "3         4       D    pch_cnt      4\n",
      "4         1       A  poh_price    100\n",
      "5         2       B  poh_price    200\n",
      "6         3       C  poh_price    300\n",
      "7         4       D  poh_price    400\n",
      "8         1       A    pch_amt     10\n",
      "9         2       B    pch_amt     20\n",
      "10        3       C    pch_amt     30\n",
      "11        4       D    pch_amt     40\n"
     ]
    }
   ],
   "source": [
    "result = pd.melt(data, id_vars=['cust_id', 'prod_id'])\n",
    "print(result)\n"
   ]
  },
  {
   "cell_type": "code",
   "execution_count": 35,
   "metadata": {},
   "outputs": [
    {
     "name": "stdout",
     "output_type": "stream",
     "text": [
      "거짓         c         d\n",
      "사실                    \n",
      "a   0.000000  0.500000\n",
      "b   0.333333  0.166667\n",
      "fac_1  a  b   \n",
      "fac_2  d  c  d\n",
      "id            \n",
      "id1    3  0  0\n",
      "id2    0  2  0\n",
      "id3    0  0  1\n"
     ]
    }
   ],
   "source": [
    "data = pd.DataFrame({\"id\":['id1', 'id1', 'id1', 'id2', 'id2', 'id3'],\n",
    "                     'fac_1':['a', 'a', 'a', 'b', 'b', 'b'],\n",
    "                     'fac_2':['d', 'd', 'd', 'c', 'c', 'd']})\n",
    "# fac_1 과 fac_2 의 빈도 분석\n",
    "print(pd.crosstab(data['fac_1'], data['fac_2'], rownames=['사실'], colnames=['거짓'], normalize=True))\n",
    "print(pd.crosstab(data.id, [data['fac_1'], data['fac_2']]))"
   ]
  },
  {
   "cell_type": "code",
   "execution_count": null,
   "metadata": {},
   "outputs": [],
   "source": []
  }
 ],
 "metadata": {
  "kernelspec": {
   "display_name": "Python 3",
   "language": "python",
   "name": "python3"
  },
  "language_info": {
   "codemirror_mode": {
    "name": "ipython",
    "version": 3
   },
   "file_extension": ".py",
   "mimetype": "text/x-python",
   "name": "python",
   "nbconvert_exporter": "python",
   "pygments_lexer": "ipython3",
   "version": "3.11.4"
  },
  "orig_nbformat": 4
 },
 "nbformat": 4,
 "nbformat_minor": 2
}
