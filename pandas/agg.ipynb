{
 "cells": [
  {
   "cell_type": "code",
   "execution_count": null,
   "id": "b5b982a5-ce32-4508-928b-a273b58facef",
   "metadata": {},
   "outputs": [],
   "source": [
    "# 사용자 정의 함수\n",
    "import numpy as np\n",
    "import pandas as pd\n",
    "import seaborn as sns"
   ]
  },
  {
   "cell_type": "code",
   "execution_count": null,
   "id": "0b010a1c-e755-4cd7-84a8-8e517ceb3e06",
   "metadata": {},
   "outputs": [],
   "source": [
    "titanic = sns.load_dataset('titanic')\n",
    "\n",
    "df = titanic[['age', 'sex', 'class', 'fare', 'survived']]\n",
    "print(df.head())"
   ]
  },
  {
   "cell_type": "code",
   "execution_count": null,
   "id": "e099dcfa-112a-4f2e-abdd-1bcc859f7c30",
   "metadata": {},
   "outputs": [],
   "source": [
    "grouped = df.groupby(['class']) # iterator의 구조를 가짐.\n",
    "print(grouped)\n",
    "# dir(grouped)  # '__iter__'가 있으면 for을 쓸 수 있다.\n",
    "# groupd에 agg이 이용해서 적용하게 되면 매개변수로 각 그룹이 ㅐ입되느 ㄴㄱ곶"
   ]
  },
  {
   "cell_type": "code",
   "execution_count": null,
   "id": "cf2491b0-4945-497d-a9ac-fd8b016c461d",
   "metadata": {},
   "outputs": [],
   "source": [
    "def f(group):\n",
    "    return group.max()\n",
    "\n",
    "agg_two = grouped.agg([min, max])\n",
    "print(agg_two)\n",
    "\n",
    "# 집계 함수와 사용자 정의 함수만 사용해야 함.\n",
    "# 오류 발생 (upper 함수는 집계함수가 아니기 때문)\n",
    "# agg_three = grouped.add({'fare':min, 'sex': str.upper})"
   ]
  },
  {
   "cell_type": "code",
   "execution_count": null,
   "id": "36802451-c32d-4d93-be9b-8dbbd5568242",
   "metadata": {},
   "outputs": [],
   "source": [
    "# 셀 단위로 함수 적용 - transform 이나 apply를 사용해야 함.\n",
    "# 데이터 별로 구함.\n",
    "def z_score(x):\n",
    "    return (x - x.mean()) / x.std()\n",
    "\n",
    "age_zscore = grouped.age.transform(z_score)\n",
    "print(age_zscore.head())\n",
    "\n",
    "# 그룹별 항목이 300개 이상인 항목.\n",
    "group_filter = grouped.filter(lambda x : len(x) >= 300)\n",
    "print(group_filter.head())\n",
    "\n",
    "# SQL의 Having을 만들고자 할 때는 filter 함수를 이용\n",
    "# 그룹화한 항목에 filtering 해야 함"
   ]
  },
  {
   "cell_type": "code",
   "execution_count": null,
   "id": "2d5581c6",
   "metadata": {},
   "outputs": [],
   "source": []
  },
  {
   "cell_type": "code",
   "execution_count": null,
   "id": "68ce927c-c54b-491f-b18e-097e311f7bea",
   "metadata": {},
   "outputs": [],
   "source": [
    "print(pd.pivot_table(df, index='sex', columns='class', values='age', aggfunc='mean'))"
   ]
  },
  {
   "cell_type": "code",
   "execution_count": null,
   "id": "32f3766c-503f-4e95-9d3c-5588a2e31891",
   "metadata": {},
   "outputs": [],
   "source": []
  }
 ],
 "metadata": {
  "kernelspec": {
   "display_name": "Python 3 (ipykernel)",
   "language": "python",
   "name": "python3"
  },
  "language_info": {
   "codemirror_mode": {
    "name": "ipython",
    "version": 3
   },
   "file_extension": ".py",
   "mimetype": "text/x-python",
   "name": "python",
   "nbconvert_exporter": "python",
   "pygments_lexer": "ipython3",
   "version": "3.11.4"
  }
 },
 "nbformat": 4,
 "nbformat_minor": 5
}
