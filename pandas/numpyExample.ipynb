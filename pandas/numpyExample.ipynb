{
 "cells": [
  {
   "cell_type": "code",
   "execution_count": 1,
   "id": "594d388a",
   "metadata": {},
   "outputs": [],
   "source": [
    "import numpy as np\n",
    "import datetime"
   ]
  },
  {
   "cell_type": "code",
   "execution_count": 2,
   "id": "dc4bf80a",
   "metadata": {},
   "outputs": [
    {
     "name": "stdout",
     "output_type": "stream",
     "text": [
      "2023-08-07 17:39:14.204032\n",
      "2023-08-07 17:39:14.332772\n"
     ]
    }
   ],
   "source": [
    "li = range(1, 1000000)\n",
    "\n",
    "s = datetime.datetime.now()\n",
    "print(s)\n",
    "\n",
    "for i in li:\n",
    "    i = i * 10\n",
    "s = datetime.datetime.now()\n",
    "print(s)"
   ]
  },
  {
   "cell_type": "code",
   "execution_count": 3,
   "id": "9094f6b6",
   "metadata": {},
   "outputs": [
    {
     "name": "stdout",
     "output_type": "stream",
     "text": [
      "시작시간 2023-08-07 17:39:14.355550\n",
      "종료시간 2023-08-07 17:39:14.358787\n"
     ]
    }
   ],
   "source": [
    "ar = np.arange(1, 1000000)\n",
    "s = datetime.datetime.now()\n",
    "print(\"시작시간\", s)\n",
    "\n",
    "ar = ar * 10\n",
    "s = datetime.datetime.now()\n",
    "print(\"종료시간\", s)"
   ]
  },
  {
   "cell_type": "code",
   "execution_count": 4,
   "id": "5a4090f3",
   "metadata": {},
   "outputs": [
    {
     "name": "stdout",
     "output_type": "stream",
     "text": [
      "<class 'numpy.ndarray'>\n",
      "int64\n",
      "1\n",
      "(3,)\n"
     ]
    }
   ],
   "source": [
    "ar = np.array([1, 2, 3])\n",
    "print(type(ar)) # ar의 dataType\n",
    "print(ar.dtype) # dataType\n",
    "print(ar.ndim) # 몇 차원인지: 1\n",
    "print(ar.shape) # 3행 0열"
   ]
  },
  {
   "cell_type": "code",
   "execution_count": 5,
   "id": "69f218b1",
   "metadata": {},
   "outputs": [
    {
     "name": "stdout",
     "output_type": "stream",
     "text": [
      "2\n",
      "(2, 3)\n"
     ]
    }
   ],
   "source": [
    "ar = np.array([[1, 2, 3], [4, 5, 6]])\n",
    "\n",
    "print(ar.ndim) # 몇 차원인지: 2\n",
    "print(ar.shape) # 2행 3열\n"
   ]
  },
  {
   "cell_type": "code",
   "execution_count": 6,
   "id": "6007e812",
   "metadata": {},
   "outputs": [
    {
     "name": "stdout",
     "output_type": "stream",
     "text": [
      "[ 1  3  5  7  9 11 13 15 17 19 21 23 25 27 29 31 33 35 37 39 41 43 45 47\n",
      " 49 51 53 55 57 59 61 63 65 67 69 71 73 75 77 79 81 83 85 87 89 91 93 95\n",
      " 97 99]\n",
      "[  1.     13.375  25.75   38.125  50.5    62.875  75.25   87.625 100.   ]\n"
     ]
    }
   ],
   "source": [
    "ar = np.arange(1, 100, 2)\n",
    "print(ar)\n",
    "ar = np.linspace(1, 100, num=9)\n",
    "print(ar)"
   ]
  },
  {
   "cell_type": "code",
   "execution_count": 7,
   "id": "136cce24",
   "metadata": {},
   "outputs": [
    {
     "name": "stdout",
     "output_type": "stream",
     "text": [
      "[[1. 0. 0.]\n",
      " [0. 1. 0.]\n",
      " [0. 0. 1.]]\n",
      "[[0. 1. 0.]\n",
      " [0. 0. 1.]\n",
      " [0. 0. 0.]]\n",
      "[[0. 0. 0.]\n",
      " [1. 0. 0.]\n",
      " [0. 1. 0.]]\n"
     ]
    }
   ],
   "source": [
    "# eye - 대각선 방향으로 1을 채운 행렬\n",
    "ar = np.eye(3)\n",
    "print(ar)\n",
    "\n",
    "# [[1. 0. 0.]\n",
    "# [0. 1. 0.]\n",
    "# [0. 0. 1.]]\n",
    "\n",
    "ar = np.eye(3, k=1) # # identity matrix의 시작은 1열부터 시작\n",
    "print(ar)\n",
    "\n",
    "# [[0. 1. 0.]\n",
    "#  [0. 0. 1.]\n",
    "#  [0. 0. 0.]]\n",
    "\n",
    "ar = np.eye(3, k=-1) # # identity matrix의 시작은 -1열부터 시작\n",
    "print(ar)\n",
    "\n",
    "# [[0. 0. 0.]\n",
    "#  [1. 0. 0.]\n",
    "#  [0. 1. 0.]]"
   ]
  },
  {
   "cell_type": "code",
   "execution_count": 8,
   "id": "6df926bc",
   "metadata": {},
   "outputs": [
    {
     "name": "stdout",
     "output_type": "stream",
     "text": [
      "[[1 2 3]\n",
      " [4 5 6]\n",
      " [7 8 9]]\n",
      "[1 5 9]\n",
      "[4 8]\n"
     ]
    }
   ],
   "source": [
    "ar = np.array([[1, 2, 3], [4, 5, 6], [7, 8, 9]])\n",
    "print(ar)\n",
    "\n",
    "# [[1 2 3]\n",
    "#  [4 5 6]\n",
    "#  [7 8 9]]\n",
    "\n",
    "br = np.diag(ar)\n",
    "print(br)\n",
    "\n",
    "# [1 5 9]\n",
    "\n",
    "cr = np.diag(ar, k=-1)\n",
    "print(cr)\n",
    "\n",
    "# [4 8]"
   ]
  },
  {
   "cell_type": "code",
   "execution_count": 9,
   "id": "b1de7b7b",
   "metadata": {},
   "outputs": [
    {
     "name": "stdout",
     "output_type": "stream",
     "text": [
      "['1' '2' '3']\n",
      "[1 2 3]\n",
      "['1' '2' '3']\n",
      "[1 2 3]\n"
     ]
    }
   ],
   "source": [
    "ar = np.array([1, 2, '3'])\n",
    "print(ar)\n",
    "# ['1' '2' '3']\n",
    "\n",
    "ar = np.array([1, 2, '3'], dtype=np.int32)\n",
    "print(ar)\n",
    "# [1 2 3]\n",
    "\n",
    "ar = np.array([1, 2, '3'])\n",
    "print(ar)\n",
    "# ['1' '2' '3']\n",
    "\n",
    "br = ar.astype(np.int32)\n",
    "print(br)\n",
    "# [1 2 3]"
   ]
  },
  {
   "cell_type": "code",
   "execution_count": 10,
   "id": "8677ab13",
   "metadata": {},
   "outputs": [
    {
     "name": "stdout",
     "output_type": "stream",
     "text": [
      "[[1 2 3]\n",
      " [4 5 6]\n",
      " [7 8 9]]\n",
      "[1 2 3 4 5 6 7 8 9]\n",
      "[[101   2   3]\n",
      " [  4   5   6]\n",
      " [  7   8   9]]\n"
     ]
    }
   ],
   "source": [
    "matrix = np.array([[1, 2, 3], [4, 5, 6], [7, 8, 9]])\n",
    "print(matrix)\n",
    "\n",
    "# 1차원으로 변환: 접근 방법을 변환한 것. 이전과 동일한 데이터\n",
    "ar = matrix.reshape(-1)\n",
    "print(ar)\n",
    "ar[0] = 101\n",
    "print(matrix)\n",
    "# 두 배열은 같다는 의미. 2차원 배열은 [행, 열], 1차원 배열은 [인덱스]\n",
    "# 2차원 배열은 1차원 배열의 나열을 의미. \n",
    "\n",
    "# [[1 2 3]\n",
    "#  [4 5 6]\n",
    "#  [7 8 9]]\n",
    "# [1 2 3 4 5 6 7 8 9]\n",
    "# [[101   2   3]\n",
    "#  [  4   5   6]\n",
    "#  [  7   8   9]]"
   ]
  },
  {
   "cell_type": "code",
   "execution_count": 11,
   "id": "c8e30a31",
   "metadata": {},
   "outputs": [
    {
     "name": "stdout",
     "output_type": "stream",
     "text": [
      "[[1 2 3]\n",
      " [4 5 6]\n",
      " [7 8 9]]\n",
      "[1 2 3 4 5 6 7 8 9]\n",
      "[[1 2 3]\n",
      " [4 5 6]\n",
      " [7 8 9]]\n"
     ]
    }
   ],
   "source": [
    "matrix = np.array([[1, 2, 3], [4, 5, 6], [7, 8, 9]])\n",
    "print(matrix)\n",
    "\n",
    "# 복제를 해서 1차원으로 변경 - 원본과 다른 데이터를 생성.\n",
    "br = matrix.flatten()\n",
    "print(br)\n",
    "br[0] = 201\n",
    "print(matrix)\n",
    "\n",
    "# [[1 2 3]\n",
    "#  [4 5 6]\n",
    "#  [7 8 9]]\n",
    "# [1 2 3 4 5 6 7 8 9]\n",
    "# [[1 2 3]\n",
    "#  [4 5 6]\n",
    "#  [7 8 9]]"
   ]
  },
  {
   "cell_type": "code",
   "execution_count": 12,
   "id": "bbea1487",
   "metadata": {},
   "outputs": [
    {
     "name": "stdout",
     "output_type": "stream",
     "text": [
      "[[1 2 3]\n",
      " [4 5 6]\n",
      " [7 8 9]]\n",
      "2\n",
      "[4 5 6]\n",
      "[[1 2 3]\n",
      " [4 5 6]]\n",
      "101 1\n"
     ]
    }
   ],
   "source": [
    "matrix = np.array([[1, 2, 3], [4, 5, 6], [7, 8, 9]])\n",
    "print(matrix)\n",
    "print(matrix[0][1]) # 0번째 행, 1번째 열.\n",
    "print(matrix[:][1]) # 전체 행, 1번째 열.\n",
    "print(matrix[0:2]) # 0 ~ 2번째 행, 전체 열\n",
    "\n",
    "x = matrix[0][0]\n",
    "x = 101\n",
    "print(x, matrix[0][0])\n",
    "# 행렬 구조는 행을 먼저 선택하고 열을 선택함. -> 행을 생략할 수 없음."
   ]
  },
  {
   "cell_type": "code",
   "execution_count": 13,
   "id": "206d6cab",
   "metadata": {},
   "outputs": [
    {
     "name": "stdout",
     "output_type": "stream",
     "text": [
      "101 1\n",
      "[1 2 3]\n",
      "[1 2 3]\n",
      "------------------\n",
      "<indexing>\n",
      "[100   2   3]\n",
      "[100   2   3]\n",
      "[100   2   3]\n",
      "------------------\n",
      "<slicing>\n",
      "[[101   2   3]]\n",
      "[100   2   3]\n",
      "[[100   2   3]\n",
      " [  4   5   6]\n",
      " [  7   8   9]]\n",
      "------------------\n"
     ]
    }
   ],
   "source": [
    "matrix = np.array([[1, 2, 3], [4, 5, 6], [7, 8, 9]])\n",
    "\n",
    "x = matrix[0][0]\n",
    "x = 101\n",
    "# [행][열] 이렇게 접근하는 경우 slicing. -> 데이터 원본을 복제해서 사용. (데이터 변경 시 데이터 원본 영향 없음)\n",
    "# [행, 열] 이렇게 접근하는 경우 indexing.\n",
    "print(x, matrix[0][0])\n",
    "\n",
    "# Indexing할 때, list를 사용하는 경우 Fancy indexing -> 데이터 원본을 복제해서 사용. (데이터 변경 시 데이터 원본 영향 없음)\n",
    "# ------------------------------------------------------------------------------------------\n",
    "# 0번 행을 indexing\n",
    "ar = matrix[0] \n",
    "# 0번 행을 indexing\n",
    "br = matrix[0 ,]\n",
    "print(ar, br, sep='\\n', end='\\n------------------\\n')\n",
    "\n",
    "ar[0] = 100\n",
    "print('<indexing>',ar, br, matrix[0], sep='\\n', end='\\n------------------\\n')\n",
    "# ------------------------------------------------------------------------------------------\n",
    "cr = matrix[[0]]\n",
    "dr = matrix[0][:]\n",
    "\n",
    "cr[0, 0] = 101\n",
    "print('<slicing>', cr, dr, matrix, sep='\\n', end='\\n------------------\\n')\n",
    "# ------------------------------------------------------------------------------------------\n",
    "\n",
    "# 101 1\n",
    "# [1 2 3]\n",
    "# [1 2 3]\n",
    "# ------------------\n",
    "# <indexing>\n",
    "# [100   2   3]\n",
    "# [100   2   3]\n",
    "# [100   2   3]\n",
    "# ------------------\n",
    "# <slicing>\n",
    "# [[101   2   3]]\n",
    "# [100   2   3]\n",
    "# [[100   2   3]\n",
    "#  [  4   5   6]\n",
    "#  [  7   8   9]]\n",
    "# ------------------\n"
   ]
  },
  {
   "cell_type": "code",
   "execution_count": 17,
   "id": "bfd09699",
   "metadata": {},
   "outputs": [
    {
     "name": "stdout",
     "output_type": "stream",
     "text": [
      "[3 4 5 6]\n"
     ]
    }
   ],
   "source": [
    "ar = np.array([10, 2, 213, 64, 235, 137])\n",
    "br = np.array([1, 2, 3, 4, 5, 6])\n",
    "\n",
    "# ndarray는 조건을 줘서 필터링할 수 있다.\n",
    "\n",
    "print(br[ar >= 30])"
   ]
  }
 ],
 "metadata": {
  "kernelspec": {
   "display_name": "Python 3 (ipykernel)",
   "language": "python",
   "name": "python3"
  },
  "language_info": {
   "codemirror_mode": {
    "name": "ipython",
    "version": 3
   },
   "file_extension": ".py",
   "mimetype": "text/x-python",
   "name": "python",
   "nbconvert_exporter": "python",
   "pygments_lexer": "ipython3",
   "version": "3.9.6"
  }
 },
 "nbformat": 4,
 "nbformat_minor": 5
}
