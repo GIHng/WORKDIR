{
 "cells": [
  {
   "cell_type": "code",
   "execution_count": 2,
   "id": "5452b886-aa40-466c-9a1f-a4ce2630b9bb",
   "metadata": {},
   "outputs": [],
   "source": [
    "import numpy as np\n",
    "import pandas as pd\n",
    "import platform\n",
    "import matplotlib.pyplot as plt\n",
    "from matplotlib imp\n"
   ]
  },
  {
   "cell_type": "code",
   "execution_count": 17,
   "id": "c612cd77-b64d-49e8-aa2b-e1923c352a3f",
   "metadata": {},
   "outputs": [
    {
     "name": "stdout",
     "output_type": "stream",
     "text": [
      "0    [2018, 07, 02]\n",
      "1    [2018, 06, 29]\n",
      "2    [2018, 06, 28]\n",
      "3    [2018, 06, 27]\n",
      "4    [2018, 06, 26]\n",
      "Name: 연월일, dtype: object\n",
      "<class 'pandas.core.series.Series'>\n",
      "          연월일   당일종가  전일종가     시가     고가     저가     거래량     연   월   일\n",
      "0  2018-07-02  10100   600  10850  10900  10000  137977  2018  07  02\n",
      "1  2018-06-29  10700   300  10550  10900   9990  170253  2018  06  29\n",
      "2  2018-06-28  10400   500  10900  10950  10150  155769  2018  06  28\n",
      "3  2018-06-27  10900   100  10800  11050  10500  133548  2018  06  27\n",
      "4  2018-06-26  10800   350  10900  11000  10700   63039  2018  06  26\n"
     ]
    }
   ],
   "source": [
    "df = pd.read_excel('./data/주가데이터.xlsx')\n",
    "# 연월일에 '-'로 구분됨.\n",
    "\n",
    "# 데이터 타입 변경\n",
    "# astype을 호출해서 변경\n",
    "# map 함수에 형을 변경할 수 있는 함수를 대입\n",
    "\n",
    "# df['연월일'] = map(str, df['연월일'])\n",
    "# dates = df['연월일'].str.split('-')\n",
    "# print(dates.head())\n",
    "\n",
    "df['연월일'] = df['연월일'].astype('str')\n",
    "dates = df['연월일'].str.split('-')\n",
    "print(dates.head())\n",
    "print(type(dates))\n",
    "\n",
    "df['연'] = dates.str.get(0)\n",
    "df['월'] = dates.str.get(1)\n",
    "df['일'] = dates.str.get(2)\n",
    "\n",
    "print(df.head())"
   ]
  },
  {
   "cell_type": "code",
   "execution_count": 27,
   "id": "584556ad-cdfa-4e44-9bac-7b2c60dc3438",
   "metadata": {},
   "outputs": [],
   "source": [
    "df1 = pd.DataFrame({\n",
    "    'a':['a0', 'a1', 'a2', 'a3'],\n",
    "    'b':['b0', 'b1', 'b2', 'b3'],\n",
    "    'c':['c0', 'c1', 'c2', 'c3']},\n",
    "    index = [1, 2, 3, 4])\n",
    "\n",
    "df2 = pd.DataFrame({\n",
    "    'a':['a1', 'a2', 'a3', 'a4'],\n",
    "    'b':['b1', 'b2', 'b3', 'b4'],\n",
    "    'd':['d1', 'd2', 'd3', 'd4']}, \n",
    "    index = [2, 3, 4, 5])\n"
   ]
  },
  {
   "cell_type": "code",
   "execution_count": 26,
   "id": "a643b37b-f90f-4b48-ada5-abc96733b59b",
   "metadata": {},
   "outputs": [
    {
     "name": "stdout",
     "output_type": "stream",
     "text": [
      "    a   b   c\n",
      "1  a0  b0  c0\n",
      "2  a1  b1  c1\n",
      "3  a2  b2  c2\n",
      "4  a3  b3  c3\n",
      "    a   b   d\n",
      "2  a1  b1  d1\n",
      "3  a2  b2  d2\n",
      "4  a3  b3  d3\n",
      "5  a4  b4  d4\n",
      "    a   b    c    d\n",
      "1  a0  b0   c0  NaN\n",
      "2  a1  b1   c1  NaN\n",
      "3  a2  b2   c2  NaN\n",
      "4  a3  b3   c3  NaN\n",
      "2  a1  b1  NaN   d1\n",
      "3  a2  b2  NaN   d2\n",
      "4  a3  b3  NaN   d3\n",
      "5  a4  b4  NaN   d4\n"
     ]
    }
   ],
   "source": [
    "print(df1, df2, sep='\\n')\n",
    "\n",
    "# 동일한 컬럼은 값이 있지만 한쪽에만 존재하는 컬럼은 없는 쪽은 NaN\n",
    "print(pd.concat([df1, df2]))"
   ]
  },
  {
   "cell_type": "code",
   "execution_count": 28,
   "id": "0f27cbc9-fd89-476a-9b18-134760e5dda2",
   "metadata": {},
   "outputs": [
    {
     "name": "stdout",
     "output_type": "stream",
     "text": [
      "    a   b   c\n",
      "1  a0  b0  c0\n",
      "2  a1  b1  c1\n",
      "3  a2  b2  c2\n",
      "4  a3  b3  c3\n",
      "    a   b   d\n",
      "2  a1  b1  d1\n",
      "3  a2  b2  d2\n",
      "4  a3  b3  d3\n",
      "5  a4  b4  d4\n",
      "     a    b    c    a    b    d\n",
      "1   a0   b0   c0  NaN  NaN  NaN\n",
      "2   a1   b1   c1   a1   b1   d1\n",
      "3   a2   b2   c2   a2   b2   d2\n",
      "4   a3   b3   c3   a3   b3   d3\n",
      "5  NaN  NaN  NaN   a4   b4   d4\n"
     ]
    }
   ],
   "source": [
    "print(df1, df2, sep='\\n')\n",
    "\n",
    "# 동일한 인덱스끼리 옆으로 결합\n",
    "print(pd.concat([df1, df2], axis=1))"
   ]
  },
  {
   "cell_type": "code",
   "execution_count": 29,
   "id": "9a076b7b-7014-41dc-8c22-86fe6cbc239f",
   "metadata": {},
   "outputs": [
    {
     "name": "stdout",
     "output_type": "stream",
     "text": [
      "    a   b   c   a   b   d\n",
      "2  a1  b1  c1  a1  b1  d1\n",
      "3  a2  b2  c2  a2  b2  d2\n",
      "4  a3  b3  c3  a3  b3  d3\n"
     ]
    }
   ],
   "source": [
    "# 한 쪽에만 있는 데이터 결합 - Outer Join\n",
    "print(pd.concat([df1, df2], axis=1, join='inner'))"
   ]
  }
 ],
 "metadata": {
  "kernelspec": {
   "display_name": "Python 3 (ipykernel)",
   "language": "python",
   "name": "python3"
  },
  "language_info": {
   "codemirror_mode": {
    "name": "ipython",
    "version": 3
   },
   "file_extension": ".py",
   "mimetype": "text/x-python",
   "name": "python",
   "nbconvert_exporter": "python",
   "pygments_lexer": "ipython3",
   "version": "3.11.4"
  }
 },
 "nbformat": 4,
 "nbformat_minor": 5
}
