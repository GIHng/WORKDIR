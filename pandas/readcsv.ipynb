{
 "cells": [
  {
   "cell_type": "code",
   "execution_count": 11,
   "metadata": {},
   "outputs": [
    {
     "name": "stdout",
     "output_type": "stream",
     "text": [
      "/Users/hyeongihong/Untitled Folder 1\n"
     ]
    }
   ],
   "source": [
    "import numpy as np\n",
    "import pandas as pd\n",
    "import os\n",
    "print(os.getcwd())"
   ]
  },
  {
   "cell_type": "code",
   "execution_count": 13,
   "metadata": {},
   "outputs": [
    {
     "name": "stdout",
     "output_type": "stream",
     "text": [
      "     manu  price\n",
      "code            \n",
      "1       A  10000\n",
      "2       B  10000\n",
      "3       C  10000\n",
      "4       D  10000\n",
      "5       E  10000\n",
      "6       F  10000\n"
     ]
    }
   ],
   "source": [
    "items = pd.read_csv(\"./data/items.csv\", index_col=\"code\")\n",
    "print(items)"
   ]
  },
  {
   "cell_type": "code",
   "execution_count": 16,
   "metadata": {},
   "outputs": [
    {
     "name": "stdout",
     "output_type": "stream",
     "text": [
      "  제품명     가격\n",
      "1   A  10000\n",
      "2   B  10000\n",
      "3   C  10000\n",
      "4   D  10000\n",
      "5   E  10000\n",
      "6   F  10000\n"
     ]
    }
   ],
   "source": [
    "# 첫 번째 행이 헤더가 아니라고 설정하고 names를 이용해서 헤더 이름을 설정함.\n",
    "goods = pd.read_csv(\"./data/goods.csv\", header=None, names=['제품명', '가격'])\n",
    "print(goods)"
   ]
  },
  {
   "cell_type": "code",
   "execution_count": null,
   "metadata": {},
   "outputs": [],
   "source": [
    "    "
   ]
  }
 ],
 "metadata": {
  "kernelspec": {
   "display_name": "Python 3 (ipykernel)",
   "language": "python",
   "name": "python3"
  },
  "language_info": {
   "codemirror_mode": {
    "name": "ipython",
    "version": 3
   },
   "file_extension": ".py",
   "mimetype": "text/x-python",
   "name": "python",
   "nbconvert_exporter": "python",
   "pygments_lexer": "ipython3",
   "version": "3.11.4"
  }
 },
 "nbformat": 4,
 "nbformat_minor": 4
}
