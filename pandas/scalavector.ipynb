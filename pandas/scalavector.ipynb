{
 "cells": [
  {
   "cell_type": "code",
   "execution_count": 1,
   "id": "cd1daf9c-b592-4c86-9feb-afcf49ebf7ec",
   "metadata": {},
   "outputs": [
    {
     "name": "stdout",
     "output_type": "stream",
     "text": [
      "/Users/hyeongihong/Untitled Folder 1\n"
     ]
    }
   ],
   "source": [
    "import pandas as pd\n",
    "import numpy as np\n",
    "\n",
    "import os\n",
    "print(os.getcwd())"
   ]
  },
  {
   "cell_type": "code",
   "execution_count": 7,
   "id": "d9d26259-3bc6-4173-b5e0-38bcc041ed20",
   "metadata": {},
   "outputs": [
    {
     "name": "stdout",
     "output_type": "stream",
     "text": [
      "   price\n",
      "1   1500\n",
      "2  15000\n",
      "3   1000\n",
      "   price\n",
      "1   2300\n",
      "2   2800\n"
     ]
    }
   ],
   "source": [
    "items1 = {'1':{'price':1500}, '2':{'price':15000}, '3':{'price':1000}}\n",
    "items2 = {'1':{'price':2300}, '2':{'price':2800}}\n",
    "\n",
    "data1 = pd.DataFrame(items1).T\n",
    "data2= pd.DataFrame(items2).T\n",
    "\n",
    "print(data1)\n",
    "print(data2)"
   ]
  },
  {
   "cell_type": "code",
   "execution_count": 8,
   "id": "fb8ddc1a-6006-419f-a6ba-73588c972fdd",
   "metadata": {},
   "outputs": [
    {
     "name": "stdout",
     "output_type": "stream",
     "text": [
      "   price\n",
      "1   1510\n",
      "2  15010\n",
      "3   1010\n",
      "     price\n",
      "1   3800.0\n",
      "2  17800.0\n",
      "3      NaN\n"
     ]
    }
   ],
   "source": [
    "# 스칼라 데이터와의 연산은 모든 셀에 적용\n",
    "print(data1 + 10) \n",
    "\n",
    "# DataFrame 이나 Series 끼리의 연산은 동일한 인덱스끼리 수행\n",
    "print(data1 + data2)\n"
   ]
  },
  {
   "cell_type": "code",
   "execution_count": 10,
   "id": "b5d4649b-c959-41b3-90f1-17412acff6d4",
   "metadata": {},
   "outputs": [
    {
     "name": "stdout",
     "output_type": "stream",
     "text": [
      "     price\n",
      "1   3800.0\n",
      "2  17800.0\n",
      "3   1000.0\n"
     ]
    }
   ],
   "source": [
    "# 인덱스에 안맞는 값은 0으로 채움. (fill_value=0)\n",
    "print(data1.add(data2, fill_value=0))"
   ]
  },
  {
   "cell_type": "code",
   "execution_count": 18,
   "id": "72bf3770-f600-4e2d-bc20-d548ec52fa1d",
   "metadata": {},
   "outputs": [
    {
     "name": "stdout",
     "output_type": "stream",
     "text": [
      "23.514572864321607\n",
      "mpg          23.514573\n",
      "cylinders     5.454774\n",
      "dtype: float64\n",
      "      mpg  cylinders\n",
      "0     NaN        NaN\n",
      "1    -3.0        0.0\n",
      "2     3.0        0.0\n",
      "3    -2.0        0.0\n",
      "4     1.0        0.0\n",
      "..    ...        ...\n",
      "393   0.0        0.0\n",
      "394  17.0        0.0\n",
      "395 -12.0        0.0\n",
      "396  -4.0        0.0\n",
      "397   3.0        0.0\n",
      "\n",
      "[398 rows x 2 columns]\n",
      "          mpg  cylinders\n",
      "0         NaN        NaN\n",
      "1   -0.166667        0.0\n",
      "2    0.200000        0.0\n",
      "3   -0.111111        0.0\n",
      "4    0.062500        0.0\n",
      "..        ...        ...\n",
      "393  0.000000        0.0\n",
      "394  0.629630        0.0\n",
      "395 -0.272727        0.0\n",
      "396 -0.125000        0.0\n",
      "397  0.107143        0.0\n",
      "\n",
      "[398 rows x 2 columns]\n"
     ]
    }
   ],
   "source": [
    "df = pd.read_csv('./data/noheader_auto-mpg.csv', header = None)\n",
    "df.columns = ['mpg', 'cylinders', 'displacement', 'horsepower', 'weight', 'acceleration', 'model year', 'origin', 'name' ]\n",
    "print(df['mpg'].mean())\n",
    "\n",
    "print(df[['mpg', 'cylinders']].mean())\n",
    "\n",
    "# 이전 데이터와의 차이점\n",
    "print(df[['mpg', 'cylinders']].diff())\n",
    "\n",
    "# 이전 데이터와의 차이 (백분율)\n",
    "print(df[['mpg', 'cylinders']].pct_change())"
   ]
  },
  {
   "cell_type": "code",
   "execution_count": 21,
   "id": "2a22b11b-e22e-4075-b5f1-d20d0ccb1cbe",
   "metadata": {},
   "outputs": [
    {
     "name": "stdout",
     "output_type": "stream",
     "text": [
      "      mpg  weight\n",
      "0    18.0  3504.0\n",
      "1    15.0  3693.0\n",
      "2    18.0  3436.0\n",
      "3    16.0  3433.0\n",
      "4    17.0  3449.0\n",
      "..    ...     ...\n",
      "393  27.0  2790.0\n",
      "394  44.0  2130.0\n",
      "395  32.0  2295.0\n",
      "396  28.0  2625.0\n",
      "397  31.0  2720.0\n",
      "\n",
      "[398 rows x 2 columns]\n"
     ]
    },
    {
     "ename": "AttributeError",
     "evalue": "'NoneType' object has no attribute 'corr'",
     "output_type": "error",
     "traceback": [
      "\u001b[0;31m---------------------------------------------------------------------------\u001b[0m",
      "\u001b[0;31mAttributeError\u001b[0m                            Traceback (most recent call last)",
      "Cell \u001b[0;32mIn[21], line 2\u001b[0m\n\u001b[1;32m      1\u001b[0m \u001b[38;5;66;03m# 모든 숫자 컬럼의 상관 계수를 전부 구하기\u001b[39;00m\n\u001b[0;32m----> 2\u001b[0m \u001b[38;5;28;43mprint\u001b[39;49m\u001b[43m(\u001b[49m\u001b[43mdf\u001b[49m\u001b[43m[\u001b[49m\u001b[43m[\u001b[49m\u001b[38;5;124;43m'\u001b[39;49m\u001b[38;5;124;43mmpg\u001b[39;49m\u001b[38;5;124;43m'\u001b[39;49m\u001b[43m,\u001b[49m\u001b[43m \u001b[49m\u001b[38;5;124;43m'\u001b[39;49m\u001b[38;5;124;43mweight\u001b[39;49m\u001b[38;5;124;43m'\u001b[39;49m\u001b[43m]\u001b[49m\u001b[43m]\u001b[49m\u001b[43m)\u001b[49m\u001b[38;5;241;43m.\u001b[39;49m\u001b[43mcorr\u001b[49m()\n",
      "\u001b[0;31mAttributeError\u001b[0m: 'NoneType' object has no attribute 'corr'"
     ]
    }
   ],
   "source": [
    "# 모든 숫자 컬럼의 상관 계수를 전부 구하기\n",
    "print(df[['mpg', 'weight']]).corr()"
   ]
  },
  {
   "cell_type": "code",
   "execution_count": null,
   "id": "69248eff-9d15-4969-96fb-72fdc32e04cb",
   "metadata": {},
   "outputs": [],
   "source": []
  }
 ],
 "metadata": {
  "kernelspec": {
   "display_name": "Python 3 (ipykernel)",
   "language": "python",
   "name": "python3"
  },
  "language_info": {
   "codemirror_mode": {
    "name": "ipython",
    "version": 3
   },
   "file_extension": ".py",
   "mimetype": "text/x-python",
   "name": "python",
   "nbconvert_exporter": "python",
   "pygments_lexer": "ipython3",
   "version": "3.11.4"
  }
 },
 "nbformat": 4,
 "nbformat_minor": 5
}
