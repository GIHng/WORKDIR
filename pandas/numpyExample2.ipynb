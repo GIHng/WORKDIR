{
 "cells": [
  {
   "cell_type": "code",
   "execution_count": 2,
   "id": "6aad00ee",
   "metadata": {},
   "outputs": [],
   "source": [
    "import numpy as np"
   ]
  },
  {
   "cell_type": "code",
   "execution_count": 3,
   "id": "2c94c409",
   "metadata": {},
   "outputs": [
    {
     "name": "stdout",
     "output_type": "stream",
     "text": [
      "[1, 2, 3, 4, 5, 6, 7, 8, 9]\n",
      "[1 2 3 4 5 6 7 8 9]\n",
      "[[1 2 3]\n",
      " [4 5 6]\n",
      " [7 8 9]]\n",
      "[[1 2 3]\n",
      " [4 5 6]\n",
      " [7 8 9]]\n"
     ]
    }
   ],
   "source": [
    "li = list(range(1, 10))\n",
    "print(li)\n",
    "\n",
    "#listfmf \n",
    "ar = np.array(li)\n",
    "print(ar)\n",
    "\n",
    "# 일차원 배열을 생성한 후 행과 열의 개수를 3*3 으로 변경.\n",
    "matrix = np.array(li).reshape((3, 3)) \n",
    "print(matrix)\n",
    "\n",
    "# ndarray의 copy()는 깊은 복사. (원본 영향 없음.)\n",
    "clone = matrix.copy()\n",
    "clone[0] = 100\n",
    "print(matrix)"
   ]
  },
  {
   "cell_type": "code",
   "execution_count": 4,
   "id": "b8164f4b",
   "metadata": {},
   "outputs": [
    {
     "name": "stdout",
     "output_type": "stream",
     "text": [
      "1\n",
      "1\n",
      "1\n",
      "[1 2 3]\n",
      "[1 4 7]\n"
     ]
    }
   ],
   "source": [
    "data1 = ar[0]\n",
    "print(data1)\n",
    "\n",
    "# 2차원 배열에서 데이터 1개 찾아오기\n",
    "data2 = matrix[0, 0]\n",
    "data3 = matrix[0][0]\n",
    "print(data2)\n",
    "print(data3)\n",
    "\n",
    "# 이원 배열에서 행 하나 찾아오기\n",
    "row = matrix[0] # matrix[0][:]\n",
    "print(row)\n",
    "\n",
    "# 열 전체를 찾아올 때는 :, 를 사용함. (:은 전체를 의미)\n",
    "column = matrix[:, 0]\n",
    "print(column)"
   ]
  },
  {
   "cell_type": "code",
   "execution_count": 5,
   "id": "76d811ec",
   "metadata": {},
   "outputs": [
    {
     "name": "stdout",
     "output_type": "stream",
     "text": [
      "10\n",
      "[100, 2, 3]\n"
     ]
    }
   ],
   "source": [
    "# 일반 인덱싱한 데이터는 파이썬의 기본 데이터와 동일하게 동작한다\n",
    "# scala data를 복사하는 경우는 원본의 값을 복사해서 대입하기 때문에 서로 영향이 없음.\n",
    "a = 10\n",
    "b = a\n",
    "b = 20\n",
    "print(a)\n",
    "\n",
    "\n",
    "# 파이썬의 vector data는 다른 변수에 대입할 때 참조를 복사해서 대입한다.\n",
    "ax = [1, 2, 3]\n",
    "# 얕은 복사를 하기 때문에 참조를 대입받는다. \n",
    "bx = ax \n",
    "bx[0] = 100\n",
    "print(ax)"
   ]
  },
  {
   "cell_type": "code",
   "execution_count": 6,
   "id": "b3347f5f",
   "metadata": {},
   "outputs": [
    {
     "name": "stdout",
     "output_type": "stream",
     "text": [
      "[1, 2, 3]\n",
      "[[100, 2, 3], [4, 5, 6]]\n",
      "[[100, 2, 3], [4, 5, 6]]\n"
     ]
    }
   ],
   "source": [
    "# 파이썬에서의 데이터 복제\n",
    "# copy 모듈의 copy(shallow copy)와 deepcopy 함수 이용\n",
    "# 얕은 복사는 한 번 복제를 하지만 재귀적으로 수행하지 않음.\n",
    "# 깊은 복사는 재귀적으로 수행함.\n",
    "\n",
    "# shallow data\n",
    "\n",
    "import copy\n",
    "li = [1, 2, 3]\n",
    "c = li.copy()\n",
    "c[0] = 100\n",
    "print(li)\n",
    "\n",
    "m = [[1, 2, 3], [4, 5, 6]]\n",
    "# copy는 1중 중첩까지만 복사하는 것이기 때문에 2중으로 중첨되어 있는 곳의 원소는 복사되지 않\n",
    "c = m.copy()\n",
    "c[0][0] = 100\n",
    "print(m)\n",
    "\n",
    "d = copy.deepcopy(m)\n",
    "d[0][0] = 101\n",
    "print(m)"
   ]
  },
  {
   "attachments": {},
   "cell_type": "markdown",
   "id": "65273829",
   "metadata": {},
   "source": [
    "## 슬라이싱"
   ]
  },
  {
   "cell_type": "code",
   "execution_count": 7,
   "id": "dfde3ffd",
   "metadata": {},
   "outputs": [
    {
     "name": "stdout",
     "output_type": "stream",
     "text": [
      "[[1, 2, 3], [4, 5, 6]]\n",
      "[[1, 2, 3], [4, 5, 6]]\n",
      "[[1 2 3]\n",
      " [4 5 6]]\n",
      "[[100000 100000 100000]\n",
      " [     4      5      6]]\n",
      "False\n"
     ]
    }
   ],
   "source": [
    "li = [[1, 2, 3],[4, 5, 6]]\n",
    "c = li[0:3]\n",
    "print(c)\n",
    "c[0] = 100\n",
    "print(li)\n",
    "\n",
    "ar = np.array(li)\n",
    "d = ar[0:3] # 배열에서 0 ~ 2번째 데이터 복사 - vector data(참조가 복사)\n",
    "print(d)\n",
    "d[0] = 100000\n",
    "print(ar)\n",
    "print(c is d)"
   ]
  },
  {
   "attachments": {},
   "cell_type": "markdown",
   "id": "76640d24",
   "metadata": {},
   "source": [
    "## Fancy Indexing"
   ]
  },
  {
   "cell_type": "code",
   "execution_count": 8,
   "id": "56d62a1b",
   "metadata": {},
   "outputs": [
    {
     "name": "stdout",
     "output_type": "stream",
     "text": [
      "[100 300]\n",
      "[100 200 300 400 500]\n"
     ]
    }
   ],
   "source": [
    "# 인덱싱할 때 list를 이용하는 것\n",
    "ar = np.array([100, 200, 300, 400, 500])\n",
    " # 복제 (원본 영향 없음)\n",
    "f = ar[[0, 2]] \n",
    "print(f)\n",
    "f[0] = 1004\n",
    "print(ar)"
   ]
  },
  {
   "attachments": {},
   "cell_type": "markdown",
   "id": "3bad11ab",
   "metadata": {},
   "source": [
    "## boolean indexing\n",
    "bool 배열을 대입해서 True 요소만 추출하는 것\n",
    "\n",
    "and, or: bool 데이터를 가지고 연산을 수행.\n",
    "boolean index는 array의 인덱승에 bool 배열을 대입해서 True데이터만 가져오기"
   ]
  },
  {
   "cell_type": "code",
   "execution_count": 9,
   "id": "79583f22",
   "metadata": {},
   "outputs": [
    {
     "name": "stdout",
     "output_type": "stream",
     "text": [
      "[1 2 5 7]\n",
      "[]\n"
     ]
    }
   ],
   "source": [
    "ar = np.array([1, 2, 3, 4, 5, 6, 7])\n",
    "result = ar[[True, True, False, False, True, False, True]]\n",
    "print(result)\n",
    "\n",
    "br = np.array([1, 2, 3, 4, 5, 7, 6])\n",
    "result = ar[(br >= 70) & (br <= 90)]\n",
    "print(result)"
   ]
  },
  {
   "attachments": {},
   "cell_type": "markdown",
   "id": "a417ec0c",
   "metadata": {},
   "source": [
    "## ndarray의 연산\n",
    "- 일반적 연산은 순차적으로 연산\n",
    "- vectorized된 연산은 코어 개수만큼 계산 가능. [1, 2, 3, 4, 5] + [1, 2, 3, 4, 5] = 한 번에 계산\n",
    "- broadcast 연산 -> scala 데이터와 vector 데이터 연산할 때 저차원의 데이터를 고차원에 맞춰서 계산함."
   ]
  },
  {
   "cell_type": "code",
   "execution_count": 10,
   "id": "82fce775",
   "metadata": {},
   "outputs": [
    {
     "name": "stdout",
     "output_type": "stream",
     "text": [
      "[[ 2  4  6  8 10]\n",
      " [ 7  9 11 13 15]]\n"
     ]
    }
   ],
   "source": [
    "ar = np.array([1, 2, 3, 4, 5])\n",
    "br = np.array([1, 2, 3, 4, 5])\n",
    "\n",
    "result = ar + br\n",
    "\n",
    "result = ar + 4\n",
    "\n",
    "k = (range(1, 11))\n",
    "# 1차원 배열을 2행 5열로 변경해서 연산을 수행\n",
    "cr = np.array(k).reshape((2, 5))\n",
    "print(ar + cr)"
   ]
  },
  {
   "cell_type": "code",
   "execution_count": 11,
   "id": "c06e0565",
   "metadata": {},
   "outputs": [
    {
     "name": "stdout",
     "output_type": "stream",
     "text": [
      "[False False  True False  True]\n",
      "[ True  True  True  True  True]\n",
      "[False False  True False  True]\n"
     ]
    }
   ],
   "source": [
    "ar = np.array([1, 2, 3, 4, 5])\n",
    "br = np.array([10, 20, False, 40, 0])\n",
    "\n",
    "print(ar > br)\n",
    "print(np.not_equal(ar, br))\n",
    "print(np.logical_xor(ar, br))\n"
   ]
  },
  {
   "cell_type": "code",
   "execution_count": 12,
   "id": "49bcbc42",
   "metadata": {},
   "outputs": [
    {
     "name": "stdout",
     "output_type": "stream",
     "text": [
      "[101 102 103 104 105]\n",
      "[101 102 103 104 105]\n"
     ]
    }
   ],
   "source": [
    "# 벡터화된 함수 적용\n",
    "# 매개변수에 100을 더해서 리턴하는 함수\n",
    "\n",
    "def f(i):\n",
    "    return i + 100\n",
    "vector_f = np.vectorize(f)\n",
    "print(vector_f(ar))\n",
    "print(np.vectorize(lambda i: i+100)(ar))"
   ]
  },
  {
   "cell_type": "code",
   "execution_count": 13,
   "id": "4dd7197b",
   "metadata": {},
   "outputs": [
    {
     "name": "stdout",
     "output_type": "stream",
     "text": [
      "[[ 1  2]\n",
      " [ 3  4]\n",
      " [ 5  6]\n",
      " [ 7  8]\n",
      " [ 9 10]]\n",
      "[[ 1  2  3  4  5]\n",
      " [ 6  7  8  9 10]]\n",
      "[[ 1  3  5  7  9]\n",
      " [ 2  4  6  8 10]]\n"
     ]
    }
   ],
   "source": [
    "matrix = np.array(range(1, 11)).reshape((5, 2))\n",
    "print(matrix)\n",
    "print(matrix.reshape((2, 5)))\n",
    "# 행과 열을 변경.\n",
    "print(matrix.T)"
   ]
  },
  {
   "cell_type": "code",
   "execution_count": 14,
   "id": "f06c6fca",
   "metadata": {},
   "outputs": [
    {
     "name": "stdout",
     "output_type": "stream",
     "text": [
      "[ 1  2  3  4  5  6  7  8  9 10 11 12 13 14 15 16 17 18 19 20 21 22 23 24\n",
      " 25 26 27 28 29 30 31 32 33 34 35 36 37 38 39 40 41 42 43 44 45 46 47 48]\n",
      "[32 48  9 42 36  1 15 44 17 24 35 18 46 16 29 28 40 26  5 13  3 12 38 43\n",
      "  4 41 10  2  8 11 19 21 34 14 25  7 39 37 22 47 31  6 33 27 45 23 20 30]\n"
     ]
    }
   ],
   "source": [
    "cards = np.array(range(1, 49))\n",
    "print(cards)\n",
    "\n",
    "print(np.random.permutation(cards))"
   ]
  },
  {
   "cell_type": "code",
   "execution_count": 15,
   "id": "e5c2637d",
   "metadata": {},
   "outputs": [
    {
     "name": "stdout",
     "output_type": "stream",
     "text": [
      "[[10 20]\n",
      " [30 40]\n",
      " [50 60]]\n",
      "210\n",
      "17.07825127659933\n",
      "18.708286933869708\n",
      "47.5\n",
      "[ 90 120]\n",
      "[ 30  70 110]\n",
      "[[ 30]\n",
      " [ 70]\n",
      " [110]]\n",
      "[1 1 1]\n",
      "[15000 48000]\n"
     ]
    }
   ],
   "source": [
    "matrix = np.array([[10, 20], [30, 40], [50, 60]])\n",
    "print(matrix)\n",
    "print(matrix.sum())\n",
    "\n",
    "# 표준 편차\n",
    "print(matrix.std())\n",
    "\n",
    "# 표준 편차 - 자유도 1 적용\n",
    "print(matrix.std(ddof=1))\n",
    "\n",
    "# 75%에 해당하는 값.\n",
    "print(np.percentile(matrix, 75))\n",
    "\n",
    "# axis = 0: 열단위, 1: 행단위\n",
    "print(matrix.sum(axis=0)) \n",
    "print(matrix.sum(axis=1))\n",
    "\n",
    "# 행 단위 - matrix와 동일한 차원으로 리턴\n",
    "print(matrix.sum(axis=1, keepdims=True))\n",
    "\n",
    "print(matrix.argmax(axis=1))\n",
    "print(matrix.prod(axis=0))"
   ]
  },
  {
   "cell_type": "code",
   "execution_count": 17,
   "id": "c01c4bfb",
   "metadata": {},
   "outputs": [
    {
     "name": "stdout",
     "output_type": "stream",
     "text": [
      "[ 10  17  20  25  30 100]\n"
     ]
    }
   ],
   "source": [
    "ar = np.array([20, 30, 10, 25, 17])\n",
    "result = np.sort(ar)\n",
    "print(result)"
   ]
  },
  {
   "cell_type": "code",
   "execution_count": 23,
   "id": "699e3f97",
   "metadata": {},
   "outputs": [
    {
     "name": "stdout",
     "output_type": "stream",
     "text": [
      "[[ 0  1  2  3  4]\n",
      " [ 5  6  7  8  9]\n",
      " [10 11 12 13 14]\n",
      " [15 16 17 18 19]\n",
      " [20 21 22 23 24]\n",
      " [25 26 27 28 29]\n",
      " [30 31 32 33 34]\n",
      " [35 36 37 38 39]\n",
      " [40 41 42 43 44]\n",
      " [45 46 47 48 49]]\n"
     ]
    }
   ],
   "source": [
    "x = range(0, 50)\n",
    "matrix = np.array(x).reshape((10, 5))\n",
    "print(matrix)"
   ]
  },
  {
   "cell_type": "code",
   "execution_count": 29,
   "id": "4ca227a9",
   "metadata": {},
   "outputs": [
    {
     "name": "stdout",
     "output_type": "stream",
     "text": [
      "10\n",
      "[array([[ 0,  1,  2,  3,  4],\n",
      "       [ 5,  6,  7,  8,  9],\n",
      "       [10, 11, 12, 13, 14],\n",
      "       [15, 16, 17, 18, 19],\n",
      "       [20, 21, 22, 23, 24],\n",
      "       [25, 26, 27, 28, 29],\n",
      "       [30, 31, 32, 33, 34]]), array([[35, 36, 37, 38, 39],\n",
      "       [40, 41, 42, 43, 44],\n",
      "       [45, 46, 47, 48, 49]])]\n"
     ]
    }
   ],
   "source": [
    "cnt = matrix.shape[0]\n",
    "print(cnt)\n",
    "\n",
    "k = np.split(matrix, [int(cnt * 0.7)])\n",
    "print(k)"
   ]
  },
  {
   "cell_type": "code",
   "execution_count": null,
   "id": "8d208f74",
   "metadata": {},
   "outputs": [],
   "source": []
  }
 ],
 "metadata": {
  "kernelspec": {
   "display_name": "Python 3 (ipykernel)",
   "language": "python",
   "name": "python3"
  },
  "language_info": {
   "codemirror_mode": {
    "name": "ipython",
    "version": 3
   },
   "file_extension": ".py",
   "mimetype": "text/x-python",
   "name": "python",
   "nbconvert_exporter": "python",
   "pygments_lexer": "ipython3",
   "version": "3.11.4"
  }
 },
 "nbformat": 4,
 "nbformat_minor": 5
}
