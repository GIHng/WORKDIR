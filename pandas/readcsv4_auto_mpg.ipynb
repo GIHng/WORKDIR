{
 "cells": [
  {
   "cell_type": "code",
   "execution_count": 1,
   "metadata": {},
   "outputs": [],
   "source": [
    "import pandas as pd\n",
    "import numpy as np"
   ]
  },
  {
   "cell_type": "code",
   "execution_count": 15,
   "metadata": {},
   "outputs": [
    {
     "name": "stdout",
     "output_type": "stream",
     "text": [
      "mpg             float64\n",
      "cylinders         int64\n",
      "displacement    float64\n",
      "horsepower       object\n",
      "weight          float64\n",
      "acceleration    float64\n",
      "model year        int64\n",
      "origin            int64\n",
      "name             object\n",
      "dtype: object\n"
     ]
    }
   ],
   "source": [
    "df = pd.read_csv('./data/auto-mpg.csv')\n",
    "df.columns = ['mpg', 'cylinders', 'displacement', 'horsepower', 'weight', 'acceleration', 'model year', 'origin', 'name']\n",
    "\n",
    "# horsepower는 object type -> 숫자 데이터로 변환\n",
    "print(df.dtypes)"
   ]
  },
  {
   "cell_type": "code",
   "execution_count": 30,
   "metadata": {},
   "outputs": [
    {
     "name": "stdout",
     "output_type": "stream",
     "text": [
      "<class 'pandas.core.frame.DataFrame'>\n",
      "RangeIndex: 397 entries, 0 to 396\n",
      "Data columns (total 9 columns):\n",
      " #   Column        Non-Null Count  Dtype  \n",
      "---  ------        --------------  -----  \n",
      " 0   mpg           397 non-null    float64\n",
      " 1   cylinders     397 non-null    int64  \n",
      " 2   displacement  397 non-null    float64\n",
      " 3   horsepower    391 non-null    float64\n",
      " 4   weight        397 non-null    float64\n",
      " 5   acceleration  397 non-null    float64\n",
      " 6   model year    397 non-null    int64  \n",
      " 7   origin        397 non-null    int64  \n",
      " 8   name          397 non-null    object \n",
      "dtypes: float64(5), int64(3), object(1)\n",
      "memory usage: 28.0+ KB\n",
      "None\n"
     ]
    }
   ],
   "source": [
    "# 데이터의 자료형 확인은 dtpyes 속성이나 info()를 호출하면 된다.\n",
    "# '?'라는 값을 가진 데이터 때문에 오류 발생.\n",
    "# df['horsepower'] = df['horsepower'].astype('float')\n",
    "\n",
    "# '?'라는 값을 가진 데이터를 어떻게 할 것인지?\n",
    "# '?'값을 NaN으로 바꾼 후 제거\n",
    "df['horsepower'].replace('?', np.NaN, inplace=True)\n",
    "\n",
    "df['horsepower'] = df['horsepower'].astype('float')\n",
    "print(df.info())\n"
   ]
  },
  {
   "cell_type": "code",
   "execution_count": 34,
   "metadata": {},
   "outputs": [
    {
     "name": "stdout",
     "output_type": "stream",
     "text": [
      "<class 'pandas.core.series.Series'>\n",
      "RangeIndex: 397 entries, 0 to 396\n",
      "Series name: origin\n",
      "Non-Null Count  Dtype   \n",
      "--------------  -----   \n",
      "397 non-null    category\n",
      "dtypes: category(1)\n",
      "memory usage: 661.0 bytes\n",
      "None\n"
     ]
    }
   ],
   "source": [
    "# origin 이라는 열은 1, 2, 3, 이라는 값만 가지고 있다.\n",
    "# 각각 미국(=1), 유럽(=2), 일본(=3)을 의미하는 숫자\n",
    "# 보여질 때 미국, 유럽, 일본으로 표시하는 것이 좋음. (새로운 컬럼 추가, 컬럼 값 변경)\n",
    "# 범주형으로 변경하는 것이 분석 속도를 높임.\n",
    "\n",
    "# 여러 컬럼 값을 바꿀 때는 dictionary 형태로 넘김..ㅣㅣㅣㅣ\n",
    "df['origin'].replace({1:'미국', 2:'영국', 3:'일본'}, inplace=True)\n",
    "df['origin'] = df['origin'].astype('category')\n",
    "\n",
    "print(df['origin'].info())"
   ]
  },
  {
   "cell_type": "code",
   "execution_count": null,
   "metadata": {},
   "outputs": [],
   "source": []
  }
 ],
 "metadata": {
  "kernelspec": {
   "display_name": "Python 3",
   "language": "python",
   "name": "python3"
  },
  "language_info": {
   "codemirror_mode": {
    "name": "ipython",
    "version": 3
   },
   "file_extension": ".py",
   "mimetype": "text/x-python",
   "name": "python",
   "nbconvert_exporter": "python",
   "pygments_lexer": "ipython3",
   "version": "3.11.4"
  },
  "orig_nbformat": 4
 },
 "nbformat": 4,
 "nbformat_minor": 2
}
