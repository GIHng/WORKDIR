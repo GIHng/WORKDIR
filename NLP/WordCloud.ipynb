{
 "cells": [
  {
   "cell_type": "code",
   "execution_count": null,
   "metadata": {},
   "outputs": [],
   "source": [
    "import pytagcloud\n",
    "import collections\n",
    "import matplotlib.pyplot as plt\n",
    "import numpy as np\n",
    "\n",
    "#데이터 생성\n",
    "nouns = list()\n",
    "nouns.extend(['불고기' for t in range(8)])\n",
    "nouns.extend(['비빔밥' for t in range(7)])\n",
    "nouns.extend(['김치찌개' for t in range(7)])\n",
    "nouns.extend(['돈까스' for t in range(6)])\n",
    "nouns.extend(['순두부백반' for t in range(6)])\n",
    "nouns.extend(['짬뽕' for t in range(6)])\n",
    "nouns.extend(['짜장면' for t in range(6)])\n",
    "nouns.extend(['삼겹살' for t in range(5)])\n",
    "nouns.extend(['초밥' for t in range(5)])\n",
    "nouns.extend(['우동' for t in range(5)])\n",
    "\n",
    "#데이터 개수 세기\n",
    "count = collections.Counter(nouns)\n",
    "tag2 = count.most_common(100)\n",
    "\n",
    "#태그 목록 만들기\n",
    "taglist = pytagcloud.make_tags(tag2, maxsize=50)\n",
    "print(taglist)\n",
    "\n",
    "#태그 클라우드 생성\n",
    "pytagcloud.create_tag_image(taglist, 'wordcloud.png', size=(900, 600), fontname='NanumSquare', rectangular=False)"
   ]
  },
  {
   "cell_type": "markdown",
   "metadata": {},
   "source": [
    "## WordCloud 패키지를 이용한 이미지 안에 워드클라우드 출력"
   ]
  },
  {
   "cell_type": "code",
   "execution_count": null,
   "metadata": {},
   "outputs": [],
   "source": [
    "from PIL import Image\n",
    "\n",
    "mask = np.array(Image.open('../data/ladybug.png'))\n",
    "plt.figure(figsize=(8, 8))\n",
    "plt.imshow(mask, cmap=plt.cm.gray, interpolation='bilinear')\n",
    "plt.axis('off')\n",
    "plt.show()"
   ]
  },
  {
   "cell_type": "code",
   "execution_count": null,
   "metadata": {},
   "outputs": [],
   "source": [
    "# 문자열 만들기\n",
    "text = ''\n",
    "\n",
    "for i in range(8):\n",
    "    text = text + 'Python '\n",
    "\n",
    "for i in range(17):\n",
    "    text = text + 'Go '\n",
    "\n",
    "for i in range(6):\n",
    "    text = text + 'Java '\n",
    "\n",
    "for i in range(9):\n",
    "    text = text + 'C '\n",
    "\n",
    "for i in range(6):\n",
    "    text = text + 'C++ '\n",
    "\n",
    "for i in range(10):\n",
    "    text = text + 'C# '\n",
    "\n",
    "for i in range(7):\n",
    "    text = text + 'Ruby '\n",
    "\n",
    "for i in range(8):\n",
    "    text = text + 'SQL '\n",
    "\n",
    "\n",
    "from wordcloud import WordCloud, STOPWORDS\n",
    "stopwords = set(STOPWORDS)\n",
    "stopwords.add('Solidity')\n"
   ]
  },
  {
   "cell_type": "code",
   "execution_count": null,
   "metadata": {},
   "outputs": [],
   "source": [
    "\n",
    "#워드 클라우드 만들기\n",
    "wordcloud = WordCloud(background_color='white', max_words=2000, mask=mask,\n",
    "              stopwords = stopwords)\n",
    "#특수문자를 무시하므로 C 와 C#을 동일한 단어로 판단\n",
    "wordcloud = wordcloud.generate(text)\n",
    "wordcloud.words_"
   ]
  },
  {
   "cell_type": "markdown",
   "metadata": {},
   "source": [
    "## 동아일보에서 검색한 내용을 가지고 WordCloud 만들기"
   ]
  },
  {
   "cell_type": "code",
   "execution_count": 1,
   "metadata": {},
   "outputs": [
    {
     "name": "stderr",
     "output_type": "stream",
     "text": [
      "/Users/hyeongihong/Library/Python/3.9/lib/python/site-packages/urllib3/__init__.py:34: NotOpenSSLWarning: urllib3 v2.0 only supports OpenSSL 1.1.1+, currently the 'ssl' module is compiled with 'LibreSSL 2.8.3'. See: https://github.com/urllib3/urllib3/issues/3020\n",
      "  warnings.warn(\n"
     ]
    },
    {
     "name": "stdout",
     "output_type": "stream",
     "text": [
      "기사 건수: ['352,817건']\n"
     ]
    }
   ],
   "source": [
    "from bs4 import BeautifulSoup\n",
    "import requests\n",
    "from urllib.parse import quote\n",
    "\n",
    "keyword = input('검색어:')\n",
    "target_URL = \"http://news.donga.com/search?p=16\" + '&query=' + quote(keyword) + '&check_news=91%7C4%7C5%7C92&sorting=1&search_date=1&v1=&v2=&more='\n",
    "source_code_from_URL = requests.get(target_URL)\n",
    "bs = BeautifulSoup(source_code_from_URL.text, 'html.parser')\n",
    "\n",
    "#기사 건수를 가져오기 위한 파싱\n",
    "cnt = bs.select(\"div.cntPage > span\")\n",
    "count = cnt[0].getText().split(' ')\n",
    "print(\"기사 건수:\",count) "
   ]
  },
  {
   "cell_type": "code",
   "execution_count": 2,
   "metadata": {},
   "outputs": [],
   "source": [
    "page_num = int(input(\"읽어올 기사의 개수:\")) / 15 + 1\n",
    "output_file = open(keyword + \".txt\", 'w', encoding=\"utf8\")\n",
    "\n",
    "for i in range(int(page_num)):\n",
    "    current_page_num = 1 + i * 15\n",
    "    target_URL = \"http://news.donga.com/search?p=\" + str(current_page_num) +  '&query=' + quote(\n",
    "        keyword) + '&check_news=91%7C4%7C5%7C92&sorting=1&search_date=1&v1=&v2=&more='\n",
    "    source_code_from_URL = requests.get(target_URL)\n",
    "    bs = BeautifulSoup(source_code_from_URL.text, 'html.parser')\n",
    "\n",
    "    for title in bs.find_all('p', 'tit'):\n",
    "        title_link = title.select('a')\n",
    "        article_URL = title_link[0]['href']\n",
    "        #print(article_URL)\n",
    "        source_code_from_url = requests.get(article_URL)\n",
    "        soup = BeautifulSoup(source_code_from_url.text, 'html.parser')\n",
    "        content_of_article = soup.select('div.article_txt')\n",
    "        for item in content_of_article:\n",
    "            string_item = str(item.find_all(text=True))\n",
    "            output_file.write(string_item)\n",
    "            \n",
    "output_file.close()"
   ]
  },
  {
   "cell_type": "markdown",
   "metadata": {},
   "source": [
    "## 한글 형태소 분석\n",
    "한글 텍스트 추출 (konlpy)"
   ]
  },
  {
   "cell_type": "code",
   "execution_count": 3,
   "metadata": {},
   "outputs": [],
   "source": [
    "from konlpy.tag import Hannanum\n"
   ]
  },
  {
   "cell_type": "code",
   "execution_count": 4,
   "metadata": {},
   "outputs": [
    {
     "name": "stdout",
     "output_type": "stream",
     "text": [
      "<_io.TextIOWrapper name='일본.txt' mode='r' encoding='utf8'>\n"
     ]
    }
   ],
   "source": [
    "\n",
    "open_text_file = open(keyword + \".txt\", 'r', encoding=\"utf8\")\n",
    "print(open_text_file)"
   ]
  },
  {
   "cell_type": "code",
   "execution_count": 5,
   "metadata": {},
   "outputs": [],
   "source": [
    "\n",
    "text = open_text_file.read()\n"
   ]
  },
  {
   "cell_type": "code",
   "execution_count": null,
   "metadata": {},
   "outputs": [],
   "source": [
    "\n"
   ]
  },
  {
   "cell_type": "code",
   "execution_count": 6,
   "metadata": {},
   "outputs": [
    {
     "ename": "",
     "evalue": "",
     "output_type": "error",
     "traceback": [
      "\u001b[1;31m코드를 실행할 수 없습니다. 세션이 삭제되었습니다. 커널을 다시 시작해 보세요."
     ]
    },
    {
     "ename": "",
     "evalue": "",
     "output_type": "error",
     "traceback": [
      "\u001b[1;31m현재 셀 또는 이전 셀에서 코드를 실행하는 동안 Kernel이 충돌했습니다. 셀의 코드를 검토하여 오류의 가능한 원인을 식별하세요. 자세한 내용을 보려면 <a href='https://aka.ms/vscodeJupyterKernelCrash'> 여기 </a> 를 클릭하세요. 자세한 내용은 Jupyter <a href='command:jupyter.viewOutput'>로그</a>를 참조하세요."
     ]
    }
   ],
   "source": [
    "\n",
    "nouns = Hannanum().nouns(text)\n"
   ]
  },
  {
   "cell_type": "code",
   "execution_count": null,
   "metadata": {},
   "outputs": [],
   "source": [
    "open_text_file.close()\n",
    "print(nouns)"
   ]
  },
  {
   "cell_type": "code",
   "execution_count": null,
   "metadata": {},
   "outputs": [],
   "source": []
  },
  {
   "cell_type": "code",
   "execution_count": null,
   "metadata": {},
   "outputs": [],
   "source": []
  },
  {
   "cell_type": "code",
   "execution_count": null,
   "metadata": {},
   "outputs": [],
   "source": []
  }
 ],
 "metadata": {
  "kernelspec": {
   "display_name": "Python 3",
   "language": "python",
   "name": "python3"
  },
  "language_info": {
   "codemirror_mode": {
    "name": "ipython",
    "version": 3
   },
   "file_extension": ".py",
   "mimetype": "text/x-python",
   "name": "python",
   "nbconvert_exporter": "python",
   "pygments_lexer": "ipython3",
   "version": "3.9.6"
  },
  "orig_nbformat": 4
 },
 "nbformat": 4,
 "nbformat_minor": 2
}
