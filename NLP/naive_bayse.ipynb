{
 "cells": [
  {
   "cell_type": "code",
   "execution_count": 10,
   "id": "d5d629c4",
   "metadata": {},
   "outputs": [
    {
     "data": {
      "text/plain": [
       "{'do', 'hate', 'i', 'like', 'love', 'not', 'you'}"
      ]
     },
     "execution_count": 10,
     "metadata": {},
     "output_type": "execute_result"
    }
   ],
   "source": [
    "#훈련 데이터 생성\n",
    "### 단어별 분류를 위한 패키지 import\n",
    "from nltk.tokenize import word_tokenize\n",
    "import nltk\n",
    "\n",
    "### 훈련 데이터 만들기\n",
    "train = [('i like you', 'pos'), \n",
    "         ('i do not like you', 'neg'),\n",
    "         ('i hate you', 'neg'), \n",
    "         ('i do not hate you', 'pos'),\n",
    "        ('i love you', 'pos'),\n",
    "        ('I do not love you', 'neg')]\n",
    "\n",
    "# 여러 번 등장하는 것은 일상에서 사용하는 관융구일 가능성이 높음.\n",
    "\n",
    "all_words = set(word.lower() for sentence in train \n",
    "            for word in word_tokenize(sentence[0]))\n",
    "all_words"
   ]
  },
  {
   "cell_type": "code",
   "execution_count": 11,
   "id": "f1cdbda9",
   "metadata": {},
   "outputs": [
    {
     "name": "stdout",
     "output_type": "stream",
     "text": [
      "[({'do': False, 'love': False, 'you': True, 'like': True, 'not': False, 'i': True, 'hate': False}, 'pos'), ({'do': True, 'love': False, 'you': True, 'like': True, 'not': True, 'i': True, 'hate': False}, 'neg'), ({'do': False, 'love': False, 'you': True, 'like': False, 'not': False, 'i': True, 'hate': True}, 'neg'), ({'do': True, 'love': False, 'you': True, 'like': False, 'not': True, 'i': True, 'hate': True}, 'pos'), ({'do': False, 'love': True, 'you': True, 'like': False, 'not': False, 'i': True, 'hate': False}, 'pos'), ({'do': True, 'love': True, 'you': True, 'like': False, 'not': True, 'i': False, 'hate': False}, 'neg')]\n",
      "Most Informative Features\n",
      "                      do = False             pos : neg    =      1.7 : 1.0\n",
      "                      do = True              neg : pos    =      1.7 : 1.0\n",
      "                     not = False             pos : neg    =      1.7 : 1.0\n",
      "                     not = True              neg : pos    =      1.7 : 1.0\n",
      "                       i = True              pos : neg    =      1.4 : 1.0\n",
      "                    hate = False             neg : pos    =      1.0 : 1.0\n",
      "                    hate = True              neg : pos    =      1.0 : 1.0\n",
      "                    like = False             neg : pos    =      1.0 : 1.0\n",
      "                    like = True              neg : pos    =      1.0 : 1.0\n"
     ]
    }
   ],
   "source": [
    "t = [({word: (word in word_tokenize(x[0])) for word in all_words}, x[1]) for x in train]\n",
    "\n",
    "print(t)\n",
    "\n",
    "classifier = nltk.NaiveBayesClassifier.train(t)\n",
    "classifier.show_most_informative_features()\n",
    "\n",
    "# hate와 like는 긍정과 부정이 반반이기 때문에 빼는 것이 좋다."
   ]
  },
  {
   "cell_type": "code",
   "execution_count": 12,
   "id": "3b03122f",
   "metadata": {},
   "outputs": [
    {
     "name": "stdout",
     "output_type": "stream",
     "text": [
      "{'do': True, 'love': False, 'you': False, 'like': True, 'not': True, 'i': True, 'hate': False}\n"
     ]
    },
    {
     "data": {
      "text/plain": [
       "'neg'"
      ]
     },
     "execution_count": 12,
     "metadata": {},
     "output_type": "execute_result"
    }
   ],
   "source": [
    "test_sentence = 'i do not like jessica'\n",
    "\n",
    "test_sentence_feature = {word.lower():(word in word_tokenize(test_sentence.lower())) for word in all_words}\n",
    "\n",
    "print(test_sentence_feature)\n",
    "\n",
    "classifier.classify(test_sentence_feature)"
   ]
  },
  {
   "cell_type": "code",
   "execution_count": 22,
   "id": "2e16f5d7",
   "metadata": {},
   "outputs": [],
   "source": [
    "train = [('나는 당신을 사랑합니다', 'pos'),\n",
    "         ('나는 당신을 사랑하지 않아요', 'neg'),\n",
    "         ('나는 당신을 만나는 것이 지루합니다', 'neg'),\n",
    "         ('나는 당신을 만나는 것이 지루하지 않습니다', 'pos'),\n",
    "         ('나는 당신이 좋습니다', 'pos'),\n",
    "         ('나는 당신이 좋지 않습니다', 'neg'),\n",
    "         ('나는 당신과 노는 것이 즐겁습니다', 'pos'),\n",
    "         ('나는 당신과 노는 것이 즐겁지 않습니다', 'neg'),\n",
    "        ('나는 제시카와 함께 있는 것이 즐겁습니다', 'pos'),\n",
    "        ('나는 일을 하는 것이 즐겁지 않습니다', 'neg'),\n",
    "         ('나는 일이 너무 힘들어', 'neg')]\n",
    "\n",
    "#단순 단어 분류 – 조사가 다른 경우 다른 단어로 구분됨'\n",
    "#영어가 있을 수도 있어서 lower 써주기"
   ]
  },
  {
   "cell_type": "code",
   "execution_count": 23,
   "id": "395b88d3",
   "metadata": {},
   "outputs": [
    {
     "data": {
      "text/plain": [
       "{'것이',\n",
       " '나는',\n",
       " '너무',\n",
       " '노는',\n",
       " '당신과',\n",
       " '당신을',\n",
       " '당신이',\n",
       " '만나는',\n",
       " '사랑하지',\n",
       " '사랑합니다',\n",
       " '않습니다',\n",
       " '않아요',\n",
       " '일을',\n",
       " '일이',\n",
       " '있는',\n",
       " '제시카와',\n",
       " '좋습니다',\n",
       " '좋지',\n",
       " '즐겁습니다',\n",
       " '즐겁지',\n",
       " '지루하지',\n",
       " '지루합니다',\n",
       " '하는',\n",
       " '함께',\n",
       " '힘들어'}"
      ]
     },
     "execution_count": 23,
     "metadata": {},
     "output_type": "execute_result"
    }
   ],
   "source": [
    "\n",
    "all_words = set(word.lower() for sentence in train \n",
    "            for word in word_tokenize(sentence[0]))\n",
    "all_words"
   ]
  },
  {
   "cell_type": "code",
   "execution_count": 24,
   "id": "01acf2bf",
   "metadata": {},
   "outputs": [],
   "source": [
    "from konlpy.tag import Twitter"
   ]
  },
  {
   "cell_type": "code",
   "execution_count": 25,
   "id": "bea76240",
   "metadata": {},
   "outputs": [],
   "source": [
    "twitter = Twitter()"
   ]
  },
  {
   "cell_type": "code",
   "execution_count": 26,
   "id": "6b70abd3",
   "metadata": {},
   "outputs": [
    {
     "name": "stdout",
     "output_type": "stream",
     "text": [
      "[(['나/Noun', '는/Josa', '당신/Noun', '을/Josa', '사랑/Noun', '하다/Verb'], 'pos'), (['나/Noun', '는/Josa', '당신/Noun', '을/Josa', '사랑/Noun', '하다/Verb', '않다/Verb'], 'neg'), (['나/Noun', '는/Josa', '당신/Noun', '을/Josa', '만나다/Verb', '것/Noun', '이/Josa', '지루하다/Adjective'], 'neg'), (['나/Noun', '는/Josa', '당신/Noun', '을/Josa', '만나다/Verb', '것/Noun', '이/Josa', '지루하다/Adjective', '않다/Verb'], 'pos'), (['나/Noun', '는/Josa', '당신/Noun', '이/Josa', '좋다/Adjective'], 'pos'), (['나/Noun', '는/Josa', '당신/Noun', '이/Josa', '좋다/Adjective', '않다/Verb'], 'neg'), (['나/Noun', '는/Josa', '당신/Noun', '과/Josa', '노/Noun', '는/Josa', '것/Noun', '이/Josa', '즐겁다/Adjective'], 'pos'), (['나/Noun', '는/Josa', '당신/Noun', '과/Josa', '노/Noun', '는/Josa', '것/Noun', '이/Josa', '즐겁다/Adjective', '않다/Verb'], 'neg'), (['나/Noun', '는/Josa', '제시카/Noun', '와/Josa', '함께/Adverb', '있다/Adjective', '것/Noun', '이/Josa', '즐겁다/Adjective'], 'pos'), (['나/Noun', '는/Josa', '일/Noun', '을/Josa', '하다/Verb', '것/Noun', '이/Josa', '즐겁다/Adjective', '않다/Verb'], 'neg'), (['나/Noun', '는/Josa', '일이/Modifier', '너무/Adverb', '힘들다/Adjective'], 'neg')]\n"
     ]
    }
   ],
   "source": [
    "def tokenize(doc):\n",
    "    return [\"/\".join(t) for t in twitter.pos(doc, norm=True, stem=True)]\n",
    "\n",
    "train_docs = [(tokenize(row[0]), row[1]) for row in train]\n",
    "\n",
    "print(train_docs)\n"
   ]
  },
  {
   "cell_type": "code",
   "execution_count": 27,
   "id": "be037f76",
   "metadata": {},
   "outputs": [
    {
     "name": "stdout",
     "output_type": "stream",
     "text": [
      "['나/Noun', '는/Josa', '당신/Noun', '을/Josa', '사랑/Noun', '하다/Verb', '나/Noun', '는/Josa', '당신/Noun', '을/Josa', '사랑/Noun', '하다/Verb', '않다/Verb', '나/Noun', '는/Josa', '당신/Noun', '을/Josa', '만나다/Verb', '것/Noun', '이/Josa', '지루하다/Adjective', '나/Noun', '는/Josa', '당신/Noun', '을/Josa', '만나다/Verb', '것/Noun', '이/Josa', '지루하다/Adjective', '않다/Verb', '나/Noun', '는/Josa', '당신/Noun', '이/Josa', '좋다/Adjective', '나/Noun', '는/Josa', '당신/Noun', '이/Josa', '좋다/Adjective', '않다/Verb', '나/Noun', '는/Josa', '당신/Noun', '과/Josa', '노/Noun', '는/Josa', '것/Noun', '이/Josa', '즐겁다/Adjective', '나/Noun', '는/Josa', '당신/Noun', '과/Josa', '노/Noun', '는/Josa', '것/Noun', '이/Josa', '즐겁다/Adjective', '않다/Verb', '나/Noun', '는/Josa', '제시카/Noun', '와/Josa', '함께/Adverb', '있다/Adjective', '것/Noun', '이/Josa', '즐겁다/Adjective', '나/Noun', '는/Josa', '일/Noun', '을/Josa', '하다/Verb', '것/Noun', '이/Josa', '즐겁다/Adjective', '않다/Verb', '나/Noun', '는/Josa', '일이/Modifier', '너무/Adverb', '힘들다/Adjective']\n"
     ]
    }
   ],
   "source": [
    "# 단어만 추출하기(pos, neg로 분류된 부분은 빼고 단어만 추출)\n",
    "# 형태소 분류를 한 후 단어 분류\n",
    "tokens = [t for d in train_docs for t in d[0]]\n",
    "print(tokens)\n"
   ]
  },
  {
   "cell_type": "code",
   "execution_count": 28,
   "id": "4409342e",
   "metadata": {},
   "outputs": [
    {
     "name": "stdout",
     "output_type": "stream",
     "text": [
      "[({'나/Noun': True, '는/Josa': True, '당신/Noun': True, '을/Josa': True, '사랑/Noun': True, '하다/Verb': True, '않다/Verb': False, '만나다/Verb': False, '것/Noun': False, '이/Josa': False, '지루하다/Adjective': False, '좋다/Adjective': False, '과/Josa': False, '노/Noun': False, '즐겁다/Adjective': False, '제시카/Noun': False, '와/Josa': False, '함께/Adverb': False, '있다/Adjective': False, '일/Noun': False, '일이/Modifier': False, '너무/Adverb': False, '힘들다/Adjective': False}, 'pos'), ({'나/Noun': True, '는/Josa': True, '당신/Noun': True, '을/Josa': True, '사랑/Noun': True, '하다/Verb': True, '않다/Verb': True, '만나다/Verb': False, '것/Noun': False, '이/Josa': False, '지루하다/Adjective': False, '좋다/Adjective': False, '과/Josa': False, '노/Noun': False, '즐겁다/Adjective': False, '제시카/Noun': False, '와/Josa': False, '함께/Adverb': False, '있다/Adjective': False, '일/Noun': False, '일이/Modifier': False, '너무/Adverb': False, '힘들다/Adjective': False}, 'neg'), ({'나/Noun': True, '는/Josa': True, '당신/Noun': True, '을/Josa': True, '사랑/Noun': False, '하다/Verb': False, '않다/Verb': False, '만나다/Verb': True, '것/Noun': True, '이/Josa': True, '지루하다/Adjective': True, '좋다/Adjective': False, '과/Josa': False, '노/Noun': False, '즐겁다/Adjective': False, '제시카/Noun': False, '와/Josa': False, '함께/Adverb': False, '있다/Adjective': False, '일/Noun': False, '일이/Modifier': False, '너무/Adverb': False, '힘들다/Adjective': False}, 'neg'), ({'나/Noun': True, '는/Josa': True, '당신/Noun': True, '을/Josa': True, '사랑/Noun': False, '하다/Verb': False, '않다/Verb': True, '만나다/Verb': True, '것/Noun': True, '이/Josa': True, '지루하다/Adjective': True, '좋다/Adjective': False, '과/Josa': False, '노/Noun': False, '즐겁다/Adjective': False, '제시카/Noun': False, '와/Josa': False, '함께/Adverb': False, '있다/Adjective': False, '일/Noun': False, '일이/Modifier': False, '너무/Adverb': False, '힘들다/Adjective': False}, 'pos'), ({'나/Noun': True, '는/Josa': True, '당신/Noun': True, '을/Josa': False, '사랑/Noun': False, '하다/Verb': False, '않다/Verb': False, '만나다/Verb': False, '것/Noun': False, '이/Josa': True, '지루하다/Adjective': False, '좋다/Adjective': True, '과/Josa': False, '노/Noun': False, '즐겁다/Adjective': False, '제시카/Noun': False, '와/Josa': False, '함께/Adverb': False, '있다/Adjective': False, '일/Noun': False, '일이/Modifier': False, '너무/Adverb': False, '힘들다/Adjective': False}, 'pos'), ({'나/Noun': True, '는/Josa': True, '당신/Noun': True, '을/Josa': False, '사랑/Noun': False, '하다/Verb': False, '않다/Verb': True, '만나다/Verb': False, '것/Noun': False, '이/Josa': True, '지루하다/Adjective': False, '좋다/Adjective': True, '과/Josa': False, '노/Noun': False, '즐겁다/Adjective': False, '제시카/Noun': False, '와/Josa': False, '함께/Adverb': False, '있다/Adjective': False, '일/Noun': False, '일이/Modifier': False, '너무/Adverb': False, '힘들다/Adjective': False}, 'neg'), ({'나/Noun': True, '는/Josa': True, '당신/Noun': True, '을/Josa': False, '사랑/Noun': False, '하다/Verb': False, '않다/Verb': False, '만나다/Verb': False, '것/Noun': True, '이/Josa': True, '지루하다/Adjective': False, '좋다/Adjective': False, '과/Josa': True, '노/Noun': True, '즐겁다/Adjective': True, '제시카/Noun': False, '와/Josa': False, '함께/Adverb': False, '있다/Adjective': False, '일/Noun': False, '일이/Modifier': False, '너무/Adverb': False, '힘들다/Adjective': False}, 'pos'), ({'나/Noun': True, '는/Josa': True, '당신/Noun': True, '을/Josa': False, '사랑/Noun': False, '하다/Verb': False, '않다/Verb': True, '만나다/Verb': False, '것/Noun': True, '이/Josa': True, '지루하다/Adjective': False, '좋다/Adjective': False, '과/Josa': True, '노/Noun': True, '즐겁다/Adjective': True, '제시카/Noun': False, '와/Josa': False, '함께/Adverb': False, '있다/Adjective': False, '일/Noun': False, '일이/Modifier': False, '너무/Adverb': False, '힘들다/Adjective': False}, 'neg'), ({'나/Noun': True, '는/Josa': True, '당신/Noun': False, '을/Josa': False, '사랑/Noun': False, '하다/Verb': False, '않다/Verb': False, '만나다/Verb': False, '것/Noun': True, '이/Josa': True, '지루하다/Adjective': False, '좋다/Adjective': False, '과/Josa': False, '노/Noun': False, '즐겁다/Adjective': True, '제시카/Noun': True, '와/Josa': True, '함께/Adverb': True, '있다/Adjective': True, '일/Noun': False, '일이/Modifier': False, '너무/Adverb': False, '힘들다/Adjective': False}, 'pos'), ({'나/Noun': True, '는/Josa': True, '당신/Noun': False, '을/Josa': True, '사랑/Noun': False, '하다/Verb': True, '않다/Verb': True, '만나다/Verb': False, '것/Noun': True, '이/Josa': True, '지루하다/Adjective': False, '좋다/Adjective': False, '과/Josa': False, '노/Noun': False, '즐겁다/Adjective': True, '제시카/Noun': False, '와/Josa': False, '함께/Adverb': False, '있다/Adjective': False, '일/Noun': True, '일이/Modifier': False, '너무/Adverb': False, '힘들다/Adjective': False}, 'neg'), ({'나/Noun': True, '는/Josa': True, '당신/Noun': False, '을/Josa': False, '사랑/Noun': False, '하다/Verb': False, '않다/Verb': False, '만나다/Verb': False, '것/Noun': False, '이/Josa': False, '지루하다/Adjective': False, '좋다/Adjective': False, '과/Josa': False, '노/Noun': False, '즐겁다/Adjective': False, '제시카/Noun': False, '와/Josa': False, '함께/Adverb': False, '있다/Adjective': False, '일/Noun': False, '일이/Modifier': True, '너무/Adverb': True, '힘들다/Adjective': True}, 'neg')]\n"
     ]
    }
   ],
   "source": [
    "# 분류기 만들기 - 문장에 단어의 존재 여부를 확인해주는 함수\n",
    "def term_exists(doc):\n",
    "    return {word:(word in set(doc)) for word in tokens}\n",
    "# 모든 문장을 해석해서 단어의 존재 여부와 감성을 가진 튜플의 list를 생성\n",
    "train_xy = [(term_exists(d), c) for d, c in train_docs]\n",
    "print(train_xy)\n"
   ]
  },
  {
   "cell_type": "code",
   "execution_count": 29,
   "id": "5840b542",
   "metadata": {},
   "outputs": [
    {
     "name": "stdout",
     "output_type": "stream",
     "text": [
      "Most Informative Features\n",
      "                 않다/Verb = True              neg : pos    =      2.6 : 1.0\n",
      "                 않다/Verb = False             pos : neg    =      2.1 : 1.0\n",
      "                 당신/Noun = False             neg : pos    =      1.4 : 1.0\n",
      "                  이/Josa = False             neg : pos    =      1.4 : 1.0\n",
      "                 하다/Verb = True              neg : pos    =      1.4 : 1.0\n",
      "                  와/Josa = False             neg : pos    =      1.2 : 1.0\n",
      "            있다/Adjective = False             neg : pos    =      1.2 : 1.0\n",
      "                제시카/Noun = False             neg : pos    =      1.2 : 1.0\n",
      "               함께/Adverb = False             neg : pos    =      1.2 : 1.0\n",
      "                  것/Noun = False             neg : pos    =      1.2 : 1.0\n"
     ]
    }
   ],
   "source": [
    "classifier = nltk.NaiveBayesClassifier.train(train_xy)\n",
    "classifier.show_most_informative_features()\n"
   ]
  },
  {
   "cell_type": "code",
   "execution_count": 30,
   "id": "a7327af2",
   "metadata": {},
   "outputs": [
    {
     "name": "stdout",
     "output_type": "stream",
     "text": [
      "[('여섯시', 'Noun'), ('부터', 'Noun'), ('일', 'Noun'), ('을', 'Josa'), ('해야해', 'Verb')]\n",
      "{('여섯시', 'Noun'): False, ('부터', 'Noun'): False, ('일', 'Noun'): False, ('을', 'Josa'): False, ('해야해', 'Verb'): False}\n",
      "neg\n"
     ]
    }
   ],
   "source": [
    "### 샘플 문장 테스트\n",
    "test_sentence = [(\"여섯시 부터 일을 해야해\")]\n",
    "test_docs = twitter.pos(test_sentence[0])\n",
    "print(test_docs)\n",
    "test_sent_features = {word: (word in tokens) for word in test_docs}\n",
    "print(test_sent_features)\n",
    "print(classifier.classify(test_sent_features))\n"
   ]
  }
 ],
 "metadata": {
  "kernelspec": {
   "display_name": "jupytervenv",
   "language": "python",
   "name": "pyvenv"
  },
  "language_info": {
   "codemirror_mode": {
    "name": "ipython",
    "version": 3
   },
   "file_extension": ".py",
   "mimetype": "text/x-python",
   "name": "python",
   "nbconvert_exporter": "python",
   "pygments_lexer": "ipython3",
   "version": "3.11.4"
  }
 },
 "nbformat": 4,
 "nbformat_minor": 5
}
