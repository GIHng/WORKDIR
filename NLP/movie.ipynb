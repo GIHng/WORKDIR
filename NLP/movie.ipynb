{
 "cells": [
  {
   "cell_type": "code",
   "execution_count": null,
   "id": "6a1b927a",
   "metadata": {},
   "outputs": [],
   "source": [
    "review_df = pd.read_csv('./imdb/labeledTrainData.tsv', header=0, sep=\"\\\\t\", quoting=3)\n",
    "review_df.head(3)\n",
    "# id : review를 구분하기 위한 데이터\n",
    "# sentiment : 감성(1이면 긍정 0이면 부정)\n",
    "# review가 review 데이터\n"
   ]
  }
 ],
 "metadata": {
  "kernelspec": {
   "display_name": "jupytervenv",
   "language": "python",
   "name": "pyvenv"
  },
  "language_info": {
   "codemirror_mode": {
    "name": "ipython",
    "version": 3
   },
   "file_extension": ".py",
   "mimetype": "text/x-python",
   "name": "python",
   "nbconvert_exporter": "python",
   "pygments_lexer": "ipython3",
   "version": "3.11.4"
  }
 },
 "nbformat": 4,
 "nbformat_minor": 5
}
