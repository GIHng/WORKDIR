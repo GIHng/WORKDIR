{
 "cells": [
  {
   "cell_type": "markdown",
   "id": "855e2374-6f43-4d1a-9533-98d5895a4313",
   "metadata": {},
   "source": [
    "# 데이터 탐색"
   ]
  },
  {
   "cell_type": "markdown",
   "id": "9c0d1a66-073d-4938-b000-1ee7432e1777",
   "metadata": {},
   "source": [
    "## 데이터의 요약이나 통계 정보를 출력"
   ]
  },
  {
   "cell_type": "code",
   "execution_count": null,
   "id": "36a6e8fd-e2bd-4631-80f3-4f75ac4dc6f2",
   "metadata": {},
   "outputs": [],
   "source": []
  },
  {
   "cell_type": "markdown",
   "id": "75eb7339-7a40-48db-8b7d-736e2c949a70",
   "metadata": {},
   "source": [
    "## 탐색적 시각화 적용"
   ]
  },
  {
   "cell_type": "markdown",
   "id": "5be8d3ad-602f-4716-9f03-2dc5462391e2",
   "metadata": {},
   "source": [
    "### Histogram"
   ]
  },
  {
   "cell_type": "code",
   "execution_count": 4,
   "id": "8cae1c7b-58ed-42b4-ab03-4542611d9824",
   "metadata": {},
   "outputs": [],
   "source": [
    "import numpy as np\n",
    "import pandas as pd\n",
    "import platform\n",
    "import matplotlib.pyplot as plt\n",
    "from matplotlib import font_manager, rc\n",
    "\n",
    "# matplotlib 기반의 그래프를 출력 시 한글 사용을 위한 설정\n",
    "\n",
    "# system이 Mac이면,\n",
    "if platform.system() == 'Darwin':\n",
    "    rc('font', family='AppleGothic')\n",
    "    \n",
    "# system이 Windows이면,\n",
    "elif platform.system() == 'Windows':\n",
    "    font_name = font_manager.FontProperties(\n",
    "    fname='c:/Windows/Fonts/malgun.ttf').get_name()\n",
    "    rc('font', family=font_name)"
   ]
  },
  {
   "cell_type": "code",
   "execution_count": 7,
   "id": "1ea28465-9dcc-4e8c-8d54-35b2f15a59a0",
   "metadata": {},
   "outputs": [
    {
     "data": {
      "text/html": [
       "<div>\n",
       "<style scoped>\n",
       "    .dataframe tbody tr th:only-of-type {\n",
       "        vertical-align: middle;\n",
       "    }\n",
       "\n",
       "    .dataframe tbody tr th {\n",
       "        vertical-align: top;\n",
       "    }\n",
       "\n",
       "    .dataframe thead th {\n",
       "        text-align: right;\n",
       "    }\n",
       "</style>\n",
       "<table border=\"1\" class=\"dataframe\">\n",
       "  <thead>\n",
       "    <tr style=\"text-align: right;\">\n",
       "      <th></th>\n",
       "      <th>이름</th>\n",
       "      <th>선호과일</th>\n",
       "    </tr>\n",
       "  </thead>\n",
       "  <tbody>\n",
       "    <tr>\n",
       "      <th>0</th>\n",
       "      <td>주시현</td>\n",
       "      <td>사과</td>\n",
       "    </tr>\n",
       "    <tr>\n",
       "      <th>1</th>\n",
       "      <td>김우진</td>\n",
       "      <td>바나나</td>\n",
       "    </tr>\n",
       "    <tr>\n",
       "      <th>2</th>\n",
       "      <td>권승진</td>\n",
       "      <td>포도</td>\n",
       "    </tr>\n",
       "    <tr>\n",
       "      <th>3</th>\n",
       "      <td>김은경</td>\n",
       "      <td>복숭아</td>\n",
       "    </tr>\n",
       "    <tr>\n",
       "      <th>4</th>\n",
       "      <td>김두호</td>\n",
       "      <td>체리</td>\n",
       "    </tr>\n",
       "  </tbody>\n",
       "</table>\n",
       "</div>"
      ],
      "text/plain": [
       "    이름 선호과일\n",
       "0  주시현   사과\n",
       "1  김우진  바나나\n",
       "2  권승진   포도\n",
       "3  김은경  복숭아\n",
       "4  김두호   체리"
      ]
     },
     "execution_count": 7,
     "metadata": {},
     "output_type": "execute_result"
    }
   ],
   "source": [
    "# lovefruits.csv 파일 읽기\n",
    "# 첫 행이 컬럼 이름, 구분자는 ',', 한글 있음.\n",
    "\n",
    "df = pd.read_csv('./data/lovefruits.csv', encoding='ms949')\n",
    "df.head()"
   ]
  },
  {
   "cell_type": "code",
   "execution_count": 9,
   "id": "2360aaec-836c-407e-bad9-79067d77d432",
   "metadata": {},
   "outputs": [
    {
     "data": {
      "text/plain": [
       "선호과일\n",
       "사과      4\n",
       "바나나     3\n",
       "포도      5\n",
       "복숭아    11\n",
       "체리      8\n",
       "Name: count, dtype: int64"
      ]
     },
     "execution_count": 9,
     "metadata": {},
     "output_type": "execute_result"
    }
   ],
   "source": [
    "# 컬럼 '선호과일'의 개수 카운트, 정렬 안 함\n",
    "data = df['선호과일'].value_counts(sort=False)\n",
    "data"
   ]
  },
  {
   "cell_type": "code",
   "execution_count": 10,
   "id": "91fba7c6-cbe7-4a84-b96c-905d720c3daf",
   "metadata": {},
   "outputs": [
    {
     "data": {
      "image/png": "[encoded data removed]",
      "text/plain": [
       "<Figure size 640x480 with 1 Axes>"
      ]
     },
     "metadata": {},
     "output_type": "display_data"
    }
   ],
   "source": [
    "plt.hist(df['선호과일'])\n",
    "plt.show()"
   ]
  },
  {
   "cell_type": "code",
   "execution_count": null,
   "id": "b132514a-1b2a-4e8e-b7ce-15245ec785fb",
   "metadata": {},
   "outputs": [],
   "source": []
  }
 ],
 "metadata": {
  "kernelspec": {
   "display_name": "Python 3 (ipykernel)",
   "language": "python",
   "name": "python3"
  },
  "language_info": {
   "codemirror_mode": {
    "name": "ipython",
    "version": 3
   },
   "file_extension": ".py",
   "mimetype": "text/x-python",
   "name": "python",
   "nbconvert_exporter": "python",
   "pygments_lexer": "ipython3",
   "version": "3.11.4"
  }
 },
 "nbformat": 4,
 "nbformat_minor": 5
}
