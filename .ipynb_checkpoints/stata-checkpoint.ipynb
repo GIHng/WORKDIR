{
 "cells": [
  {
   "cell_type": "code",
   "execution_count": 7,
   "id": "47e86aed-1b8e-4fb9-8bc1-fece7ccc60f0",
   "metadata": {},
   "outputs": [],
   "source": [
    "import pandas as pd"
   ]
  },
  {
   "cell_type": "code",
   "execution_count": 24,
   "id": "ee3b71a6-867e-4cd0-beae-bcc1095d28da",
   "metadata": {},
   "outputs": [
    {
     "name": "stdout",
     "output_type": "stream",
     "text": [
      "사과     1\n",
      "수박     2\n",
      "참외     3\n",
      "바나나    4\n",
      "레몬     5\n",
      "망고     6\n",
      "Name: code, dtype: int64\n",
      "<class 'pandas.core.series.Series'>\n",
      "<class 'pandas.core.frame.DataFrame'>\n"
     ]
    }
   ],
   "source": [
    "# csv파일 읽어오기\n",
    "df = pd.read_csv('./data/item.csv')\n",
    "# print(df)\n",
    "\n",
    "# 행 선택\n",
    "# 인덱스 변경 - DataFrame은 행에 붙이는 이름을 Index라고 함.\n",
    "df.index = ['사과', '수박', '참외', '바나나', '레몬', '망고']\n",
    "# print(df)\n",
    "\n",
    "# 열 선택\n",
    "print(df['code'])\n",
    "# 하나의 열을 선택하면 기본적으로 Series\n",
    "# <class 'pandas.core.series.Series'>\n",
    "print(type(df['code']))\n",
    "\n",
    "# 열을 선택할 때 list를 이용하면 DataFrame\n",
    "# <class 'pandas.core.frame.DataFrame'>\n",
    "print(type(df[['code']]))\n"
   ]
  },
  {
   "cell_type": "code",
   "execution_count": 23,
   "id": "42067093-0213-4ad9-840e-094a8985d74c",
   "metadata": {},
   "outputs": [
    {
     "name": "stdout",
     "output_type": "stream",
     "text": [
      "사과             apple\n",
      "수박        watermelon\n",
      "참외    oriental melon\n",
      "Name: name, dtype: object\n",
      "    code manufacture            name  price\n",
      "사과     1       korea           apple   1500\n",
      "수박     2       korea      watermelon  15000\n",
      "참외     3       korea  oriental melon   1000\n"
     ]
    }
   ],
   "source": [
    "# 범위 선택 - 슬라이싱\n",
    "print(df.loc['사과':'참외', 'name'])\n",
    "print(df.iloc[0:3])"
   ]
  },
  {
   "cell_type": "code",
   "execution_count": 26,
   "id": "8e0a5b8c-613c-4469-8acb-2127c5385732",
   "metadata": {},
   "outputs": [
    {
     "name": "stdout",
     "output_type": "stream",
     "text": [
      "    code manufacture        name  price\n",
      "사과     1       korea       apple   1500\n",
      "수박     2       korea  watermelon  15000\n",
      "레몬     5       korea       lemon   1500\n",
      "    code manufacture   name  price\n",
      "사과     1       korea  apple   1500\n",
      "레몬     5       korea  lemon   1500\n"
     ]
    }
   ],
   "source": [
    "print(df[df['price'] > 1000])\n",
    "print(df[(df['price'] > 1000) & (df['price'] < 2000)])"
   ]
  },
  {
   "cell_type": "code",
   "execution_count": 27,
   "id": "648d8b01-c47c-4889-ad80-5ce53ea4ce0b",
   "metadata": {},
   "outputs": [
    {
     "name": "stdout",
     "output_type": "stream",
     "text": [
      "사과      True\n",
      "수박     False\n",
      "참외      True\n",
      "바나나    False\n",
      "레몬      True\n",
      "망고     False\n",
      "Name: price, dtype: bool\n"
     ]
    }
   ],
   "source": [
    "# isin\n",
    "print(df['price'].isin([1000, 1500]))"
   ]
  },
  {
   "cell_type": "code",
   "execution_count": 41,
   "id": "5cc05d3c-a78f-4227-a102-080334dca2dd",
   "metadata": {},
   "outputs": [
    {
     "name": "stdout",
     "output_type": "stream",
     "text": [
      "(398, 9)\n",
      "<class 'pandas.core.frame.DataFrame'>\n",
      "RangeIndex: 398 entries, 0 to 397\n",
      "Data columns (total 9 columns):\n",
      " #   Column        Non-Null Count  Dtype  \n",
      "---  ------        --------------  -----  \n",
      " 0   mpg           398 non-null    float64\n",
      " 1   cylinders     398 non-null    int64  \n",
      " 2   displacement  398 non-null    float64\n",
      " 3   horsepower    398 non-null    object \n",
      " 4   weight        398 non-null    float64\n",
      " 5   acceleration  398 non-null    float64\n",
      " 6   model year    398 non-null    int64  \n",
      " 7   origin        398 non-null    int64  \n",
      " 8   name          398 non-null    object \n",
      "dtypes: float64(4), int64(3), object(2)\n",
      "memory usage: 28.1+ KB\n",
      "None\n",
      "              mpg   cylinders  displacement       weight  acceleration  \\\n",
      "count  398.000000  398.000000    398.000000   398.000000    398.000000   \n",
      "mean    23.514573    5.454774    193.425879  2970.424623     15.568090   \n",
      "std      7.815984    1.701004    104.269838   846.841774      2.757689   \n",
      "min      9.000000    3.000000     68.000000  1613.000000      8.000000   \n",
      "25%     17.500000    4.000000    104.250000  2223.750000     13.825000   \n",
      "50%     23.000000    4.000000    148.500000  2803.500000     15.500000   \n",
      "75%     29.000000    8.000000    262.000000  3608.000000     17.175000   \n",
      "max     46.600000    8.000000    455.000000  5140.000000     24.800000   \n",
      "\n",
      "       model year      origin  \n",
      "count  398.000000  398.000000  \n",
      "mean    76.010050    1.572864  \n",
      "std      3.697627    0.802055  \n",
      "min     70.000000    1.000000  \n",
      "25%     73.000000    1.000000  \n",
      "50%     76.000000    1.000000  \n",
      "75%     79.000000    2.000000  \n",
      "max     82.000000    3.000000  \n",
      "129\n",
      "mpg\n",
      "13.0    20\n",
      "14.0    19\n",
      "18.0    17\n",
      "15.0    16\n",
      "26.0    14\n",
      "        ..\n",
      "31.9     1\n",
      "16.9     1\n",
      "18.2     1\n",
      "22.3     1\n",
      "44.0     1\n",
      "Name: count, Length: 129, dtype: int64\n"
     ]
    }
   ],
   "source": [
    "df = pd.read_csv('./data/noheader_auto-mpg.csv', header = None)\n",
    "df.columns = ['mpg', 'cylinders', 'displacement', 'horsepower', 'weight', 'acceleration', 'model year', 'origin', 'name' ]\n",
    "# print(df)\n",
    "\n",
    "# print(df.head())\n",
    "# 데이터 개수 확인\n",
    "print(df.shape)\n",
    "# 데이터의 전반적인 정보 확인\n",
    "print(df.info())\n",
    "# 기술 통계 정보 확인\n",
    "print(df.describe())\n",
    "\n",
    "# 고유한 값의 개수 확인\n",
    "print(df['mpg'].nunique())\n",
    "\n",
    "# 고유한 값과 개수 확인\n",
    "print(df['mpg'].value_counts())\n"
   ]
  },
  {
   "cell_type": "code",
   "execution_count": null,
   "id": "e3aa3d31-f9b4-4aaf-bf80-1462f8e37234",
   "metadata": {},
   "outputs": [],
   "source": []
  }
 ],
 "metadata": {
  "kernelspec": {
   "display_name": "Python 3 (ipykernel)",
   "language": "python",
   "name": "python3"
  },
  "language_info": {
   "codemirror_mode": {
    "name": "ipython",
    "version": 3
   },
   "file_extension": ".py",
   "mimetype": "text/x-python",
   "name": "python",
   "nbconvert_exporter": "python",
   "pygments_lexer": "ipython3",
   "version": "3.11.4"
  }
 },
 "nbformat": 4,
 "nbformat_minor": 5
}
