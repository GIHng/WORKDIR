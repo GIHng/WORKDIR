{
 "cells": [
  {
   "cell_type": "code",
   "execution_count": 1,
   "id": "addbde0e",
   "metadata": {},
   "outputs": [],
   "source": [
    "import numpy as np\n",
    "import pandas as pd"
   ]
  },
  {
   "cell_type": "code",
   "execution_count": 2,
   "id": "fc9d7e8c",
   "metadata": {},
   "outputs": [
    {
     "name": "stdout",
     "output_type": "stream",
     "text": [
      "0    10\n",
      "1    20\n",
      "2    30\n",
      "3    40\n",
      "dtype: int64\n",
      "one      10\n",
      "two      20\n",
      "three    30\n",
      "four     40\n",
      "dtype: int64\n",
      "a    A\n",
      "b    B\n",
      "c    C\n",
      "dtype: object\n"
     ]
    }
   ],
   "source": [
    "series1 = pd.Series([10, 20, 30, 40])\n",
    "series2 = pd.Series([10, 20, 30, 40], index=['one', 'two', 'three', 'four'])\n",
    "print(series1)\n",
    "print(series2)\n",
    "\n",
    "series3 = pd.Series({'a':'A', 'b':'B', 'c':'C'})\n",
    "print(series3)\n",
    "\n"
   ]
  },
  {
   "cell_type": "code",
   "execution_count": 3,
   "id": "f8fa2a28",
   "metadata": {},
   "outputs": [
    {
     "name": "stdout",
     "output_type": "stream",
     "text": [
      "A\n",
      "B\n",
      "a    A\n",
      "b    B\n",
      "dtype: object\n",
      "Series([], dtype: object)\n"
     ]
    }
   ],
   "source": [
    "print(series3[0])\n",
    "print(series3[\"b\"])\n",
    "\n",
    "print(series3[0:2])\n",
    "print(series3[\"A\":\"C\"])"
   ]
  },
  {
   "cell_type": "code",
   "execution_count": 4,
   "id": "4e997ec0",
   "metadata": {},
   "outputs": [
    {
     "name": "stdout",
     "output_type": "stream",
     "text": [
      "   code name  price\n",
      "0     1    A   1000\n",
      "1     2    B   2000\n",
      "2     3    C   3000\n",
      "3     4    D   4000\n"
     ]
    }
   ],
   "source": [
    "# DataFrame을 만들기 위한 Dict 생성\n",
    "items = {\n",
    "    \"code\": [1, 2, 3, 4],\n",
    "    \"name\": ['A', 'B', 'C', 'D'],\n",
    "    \"price\": [1000, 2000, 3000, 4000]\n",
    "}\n",
    "\n",
    "df = pd.DataFrame(items)\n",
    "\n",
    "print(df)\n"
   ]
  },
  {
   "cell_type": "code",
   "execution_count": 5,
   "id": "b33141bd",
   "metadata": {},
   "outputs": [
    {
     "name": "stdout",
     "output_type": "stream",
     "text": [
      "RangeIndex(start=0, stop=4, step=1)\n",
      "Index(['code', 'name', 'price'], dtype='object')\n",
      "   코드 이름    가격\n",
      "1   1  A  1000\n",
      "2   2  B  2000\n",
      "3   3  C  3000\n",
      "4   4  D  4000\n"
     ]
    }
   ],
   "source": [
    "print(df.index)\n",
    "print(df.columns)\n",
    "df.index = range(1, 5)\n",
    "df.columns = ['코드', '이름', '가격']\n",
    "print(df)"
   ]
  },
  {
   "cell_type": "code",
   "execution_count": 6,
   "id": "bede08b3",
   "metadata": {},
   "outputs": [
    {
     "name": "stdout",
     "output_type": "stream",
     "text": [
      "   코드 이름    가격\n",
      "1   1  A  1000\n",
      "2   2  B  2000\n",
      "3   3  C  3000\n",
      "4   4  D  4000\n",
      "<class 'numpy.ndarray'>\n",
      "<class 'pandas.core.frame.DataFrame'>\n",
      "RangeIndex: 4 entries, 1 to 4\n",
      "Data columns (total 3 columns):\n",
      " #   Column  Non-Null Count  Dtype \n",
      "---  ------  --------------  ----- \n",
      " 0   코드      4 non-null      int64 \n",
      " 1   이름      4 non-null      object\n",
      " 2   가격      4 non-null      int64 \n",
      "dtypes: int64(2), object(1)\n",
      "memory usage: 228.0+ bytes\n",
      "None\n"
     ]
    }
   ],
   "source": [
    "# 데이터가 제대로 불러와졌는지 확인함.\n",
    "print(df.head())\n",
    "\n",
    "# 머신러닝은 numpy의 ndarray로만 가능\n",
    "print(type(df.values))\n",
    "\n",
    "# 데이터 분석 전 데이터에 대한 정보 확인\n",
    "print(df.info())"
   ]
  },
  {
   "cell_type": "code",
   "execution_count": null,
   "id": "3967378a",
   "metadata": {},
   "outputs": [],
   "source": []
  }
 ],
 "metadata": {
  "kernelspec": {
   "display_name": "Python 3 (ipykernel)",
   "language": "python",
   "name": "python3"
  },
  "language_info": {
   "codemirror_mode": {
    "name": "ipython",
    "version": 3
   },
   "file_extension": ".py",
   "mimetype": "text/x-python",
   "name": "python",
   "nbconvert_exporter": "python",
   "pygments_lexer": "ipython3",
   "version": "3.11.4"
  }
 },
 "nbformat": 4,
 "nbformat_minor": 5
}
