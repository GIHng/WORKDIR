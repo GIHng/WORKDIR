{
 "cells": [
  {
   "cell_type": "code",
   "execution_count": 1,
   "id": "09e7192f-f2a6-4c3e-8e04-6d853f38a485",
   "metadata": {},
   "outputs": [
    {
     "name": "stdout",
     "output_type": "stream",
     "text": [
      "<pymongo.cursor.Cursor object at 0x1040afd10>\n"
     ]
    }
   ],
   "source": [
    "from pymongo import MongoClient\n",
    "# Mongo DB 연결\n",
    "conn = MongoClient('127.0.0.1')\n",
    "# 데이터베이스 연결\n",
    "db = conn.mymongo\n",
    "# 컬렉션 연결\n",
    "collection = db.echo\n",
    "# 데이터 가져오기\n",
    "result = collection.find()\n",
    "\n",
    "# 데이터를 다 가져오면 너무 크기 때문에 Cursor형태로 데이터를 가져온다.\n",
    "print(result)"
   ]
  },
  {
   "cell_type": "code",
   "execution_count": null,
   "id": "3f32e478-9875-446a-96a6-ab5e9bc6cd77",
   "metadata": {},
   "outputs": [],
   "source": []
  }
 ],
 "metadata": {
  "kernelspec": {
   "display_name": "Python 3 (ipykernel)",
   "language": "python",
   "name": "python3"
  },
  "language_info": {
   "codemirror_mode": {
    "name": "ipython",
    "version": 3
   },
   "file_extension": ".py",
   "mimetype": "text/x-python",
   "name": "python",
   "nbconvert_exporter": "python",
   "pygments_lexer": "ipython3",
   "version": "3.11.4"
  }
 },
 "nbformat": 4,
 "nbformat_minor": 5
}
