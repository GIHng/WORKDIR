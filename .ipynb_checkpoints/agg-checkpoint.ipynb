{
 "cells": [
  {
   "cell_type": "code",
   "execution_count": 1,
   "id": "b5b982a5-ce32-4508-928b-a273b58facef",
   "metadata": {},
   "outputs": [],
   "source": [
    "# 사용자 정의 함수\n",
    "import numpy as np\n",
    "import pandas as pd\n",
    "import seaborn as sns"
   ]
  },
  {
   "cell_type": "code",
   "execution_count": 2,
   "id": "0b010a1c-e755-4cd7-84a8-8e517ceb3e06",
   "metadata": {},
   "outputs": [
    {
     "name": "stdout",
     "output_type": "stream",
     "text": [
      "    age     sex  class     fare  survived\n",
      "0  22.0    male  Third   7.2500         0\n",
      "1  38.0  female  First  71.2833         1\n",
      "2  26.0  female  Third   7.9250         1\n",
      "3  35.0  female  First  53.1000         1\n",
      "4  35.0    male  Third   8.0500         0\n"
     ]
    }
   ],
   "source": [
    "titanic = sns.load_dataset('titanic')\n",
    "\n",
    "df = titanic[['age', 'sex', 'class', 'fare', 'survived']]\n",
    "print(df.head())"
   ]
  },
  {
   "cell_type": "code",
   "execution_count": 3,
   "id": "e099dcfa-112a-4f2e-abdd-1bcc859f7c30",
   "metadata": {},
   "outputs": [
    {
     "name": "stdout",
     "output_type": "stream",
     "text": [
      "<pandas.core.groupby.generic.DataFrameGroupBy object at 0x11927aa90>\n"
     ]
    }
   ],
   "source": [
    "grouped = df.groupby(['class']) # iterator의 구조를 가짐.\n",
    "print(grouped)\n",
    "# dir(grouped)  # '__iter__'가 있으면 for을 쓸 수 있다.\n",
    "# groupd에 agg이 이용해서 적용하게 되면 매개변수로 각 그룹이 ㅐ입되느 ㄴㄱ곶"
   ]
  },
  {
   "cell_type": "code",
   "execution_count": 4,
   "id": "cf2491b0-4945-497d-a9ac-fd8b016c461d",
   "metadata": {},
   "outputs": [
    {
     "name": "stdout",
     "output_type": "stream",
     "text": [
      "         age           sex       fare           survived    \n",
      "         min   max     min   max  min       max      min max\n",
      "class                                                       \n",
      "First   0.92  80.0  female  male  0.0  512.3292        0   1\n",
      "Second  0.67  70.0  female  male  0.0   73.5000        0   1\n",
      "Third   0.42  74.0  female  male  0.0   69.5500        0   1\n"
     ]
    }
   ],
   "source": [
    "def f(group):\n",
    "    return group.max()\n",
    "\n",
    "agg_two = grouped.agg([min, max])\n",
    "print(agg_two)\n",
    "\n",
    "# 집계 함수와 사용자 정의 함수만 사용해야 함.\n",
    "# 오류 발생 (upper 함수는 집계함수가 아니기 때문)\n",
    "# agg_three = grouped.add({'fare':min, 'sex': str.upper})"
   ]
  },
  {
   "cell_type": "code",
   "execution_count": 9,
   "id": "36802451-c32d-4d93-be9b-8dbbd5568242",
   "metadata": {},
   "outputs": [
    {
     "name": "stdout",
     "output_type": "stream",
     "text": [
      "0   -0.251342\n",
      "1   -0.015770\n",
      "2    0.068776\n",
      "3   -0.218434\n",
      "4    0.789041\n",
      "Name: age, dtype: float64\n",
      "    age     sex  class     fare  survived\n",
      "0  22.0    male  Third   7.2500         0\n",
      "2  26.0  female  Third   7.9250         1\n",
      "4  35.0    male  Third   8.0500         0\n",
      "5   NaN    male  Third   8.4583         0\n",
      "7   2.0    male  Third  21.0750         0\n"
     ]
    }
   ],
   "source": [
    "# 셀 단위로 함수 적용 - transform 이나 apply를 사용해야 함.\n",
    "# 데이터 별로 구함.\n",
    "def z_score(x):\n",
    "    return (x - x.mean()) / x.std()\n",
    "\n",
    "age_zscore = grouped.age.transform(z_score)\n",
    "print(age_zscore.head())\n",
    "\n",
    "# 그룹별 항목이 300개 이상인 항목.\n",
    "group_filter = grouped.filter(lambda x : len(x) >= 300)\n",
    "print(group_filter.head())\n",
    "\n",
    "# SQL의 Having을 만들고자 할 때는 filter 함수를 이용\n",
    "# 그룹화한 항목에 filtering 해야 함"
   ]
  },
  {
   "cell_type": "code",
   "execution_count": 9,
   "id": "68ce927c-c54b-491f-b18e-097e311f7bea",
   "metadata": {},
   "outputs": [
    {
     "name": "stdout",
     "output_type": "stream",
     "text": [
      "class       First     Second      Third\n",
      "sex                                    \n",
      "female  34.611765  28.722973  21.750000\n",
      "male    41.281386  30.740707  26.507589\n"
     ]
    }
   ],
   "source": [
    "print(pd.pivot_table(df, index='sex', columns='class', values='age', aggfunc='mean'))"
   ]
  },
  {
   "cell_type": "code",
   "execution_count": null,
   "id": "32f3766c-503f-4e95-9d3c-5588a2e31891",
   "metadata": {},
   "outputs": [],
   "source": []
  }
 ],
 "metadata": {
  "kernelspec": {
   "display_name": "Python 3 (ipykernel)",
   "language": "python",
   "name": "python3"
  },
  "language_info": {
   "codemirror_mode": {
    "name": "ipython",
    "version": 3
   },
   "file_extension": ".py",
   "mimetype": "text/x-python",
   "name": "python",
   "nbconvert_exporter": "python",
   "pygments_lexer": "ipython3",
   "version": "3.11.4"
  }
 },
 "nbformat": 4,
 "nbformat_minor": 5
}
