{
 "cells": [
  {
   "cell_type": "code",
   "execution_count": 2,
   "id": "cef0145c-af83-4731-bb97-8719b21a4cd9",
   "metadata": {},
   "outputs": [],
   "source": [
    "import numpy as np\n",
    "import pandas as pd\n",
    "import platform\n",
    "import matplotlib.pyplot as plt\n"
   ]
  },
  {
   "cell_type": "code",
   "execution_count": 3,
   "id": "5fcdee49-59c6-460d-83ea-e4ba756fea88",
   "metadata": {},
   "outputs": [
    {
     "name": "stdout",
     "output_type": "stream",
     "text": [
      "<class 'numpy.ndarray'> [0.  2.5 2.  3.5 4.5 5. ]\n"
     ]
    }
   ],
   "source": [
    "a = pd.Series([np.nan, 2.5, np.nan, 3.5, 4.5, np.nan])\n",
    "b = pd.Series(np.arange(len(a), dtype=np.float64))\n",
    "\n",
    "# a = [NaN, 2.5, NaN, 3.5, 4.5, NaN]\n",
    "# b = [0. ,1. ,2. ,3. ,4. ,5. ]\n",
    "\n",
    "# np.where(condition, data1, data2)\n",
    "# condition == True: data1\n",
    "# condition == False: data2\n",
    "\n",
    "# a의 값이 NaN인 경우 b의 값으로 채우기\n",
    "r = np.where(pd.isnull(a), b, a)\n",
    "\n",
    "# type(r): <class 'numpy.ndarray'>\n",
    "print(type(r), r)\n",
    "\n",
    "# numpy의 1차원 배열은 출력할 때 행 방향으로 출력함.\n"
   ]
  },
  {
   "cell_type": "code",
   "execution_count": 4,
   "id": "6a5bb710-8e2e-4452-a1c1-d896c4f78d04",
   "metadata": {},
   "outputs": [
    {
     "name": "stdout",
     "output_type": "stream",
     "text": [
      "<class 'pandas.core.series.Series'> 0    0.0\n",
      "1    2.5\n",
      "2    2.0\n",
      "3    3.5\n",
      "4    4.5\n",
      "5    5.0\n",
      "dtype: float64\n"
     ]
    }
   ],
   "source": [
    "r = a.combine_first(b)\n",
    "\n",
    "# type(r): <class 'pandas.core.series.Series'>\n",
    "print(type(r), r)\n",
    "\n"
   ]
  },
  {
   "cell_type": "code",
   "execution_count": null,
   "id": "5d1007d6-c1c6-49e5-bf53-df8013f01029",
   "metadata": {},
   "outputs": [],
   "source": []
  }
 ],
 "metadata": {
  "kernelspec": {
   "display_name": "Python 3 (ipykernel)",
   "language": "python",
   "name": "python3"
  },
  "language_info": {
   "codemirror_mode": {
    "name": "ipython",
    "version": 3
   },
   "file_extension": ".py",
   "mimetype": "text/x-python",
   "name": "python",
   "nbconvert_exporter": "python",
   "pygments_lexer": "ipython3",
   "version": "3.11.4"
  }
 },
 "nbformat": 4,
 "nbformat_minor": 5
}
