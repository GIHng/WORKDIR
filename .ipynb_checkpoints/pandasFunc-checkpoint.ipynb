{
 "cells": [
  {
   "cell_type": "code",
   "execution_count": null,
   "id": "de9e6728-dc83-4c35-9344-ffdf4cc7472e",
   "metadata": {},
   "outputs": [],
   "source": [
    "import numpy as np\n",
    "import pandas as pd\n",
    "import platform\n",
    "import matplotlib.pyplot as plt\n",
    "from matplotlib import font_manager, rc\n",
    "import folium"
   ]
  },
  {
   "cell_type": "code",
   "execution_count": null,
   "id": "48c58d3e-6c87-4b0b-9120-c41760cf898f",
   "metadata": {},
   "outputs": [],
   "source": [
    "df = pd.DataFrame([['하이', '니하오', '하이'], ['헬로', '중국', '헬로']])\n",
    "df = df.T\n",
    "\n",
    "df.drop_duplicates(inplace=True)\n",
    "print(df.duplicated())"
   ]
  },
  {
   "cell_type": "code",
   "execution_count": null,
   "id": "6ac9df19-5c33-47a5-a5d9-82d605d31f95",
   "metadata": {},
   "outputs": [],
   "source": [
    "def f(data):\n",
    "    # broadcast 연산 (vector, scala data 연산)\n",
    "    return data + '...'\n",
    "\n",
    "#Series에 함수 적용\n",
    "# Series는 셀 단위 적용\n",
    "print(df[0].apply(f))\n",
    "# DataFrame은 행이나 열 단위 적용인데 기본은 열 단위 적용\n",
    "print(df.apply(f))\n"
   ]
  },
  {
   "cell_type": "code",
   "execution_count": null,
   "id": "879f838d-acaa-49ba-9e51-9917d49955f2",
   "metadata": {},
   "outputs": [],
   "source": [
    "import seaborn as sns\n",
    "titanic = sns.load_dataset('titanic')\n",
    "\n",
    "df = titanic[['age', 'fare']]\n",
    "# print(df.head())\n",
    "\n",
    "def min_max(data):\n",
    "    return data.max() - data.min()\n",
    "# 열 단위로 함수 적용\n",
    "result = df.apply(min_max, axis=0)\n",
    "\n",
    "print (result)"
   ]
  },
  {
   "cell_type": "code",
   "execution_count": null,
   "id": "15c213bd-9799-4bef-92dc-1da995fc9f92",
   "metadata": {},
   "outputs": [],
   "source": [
    "# print(titanic.head())\n",
    "df = titanic[['age', 'fare']]\n",
    "print(type(df))\n",
    "\n",
    "# 하나의 데이터를 가지고 null 여부를 판단해주는 함수를 대입\n",
    "# 셀 단위로 적용해서 DataFrame을 리턴함.\n",
    "print(df.pipe(lambda x: x.isnull()))"
   ]
  },
  {
   "cell_type": "code",
   "execution_count": null,
   "id": "15a1b1d9-3563-45bd-b893-364ed54dccd7",
   "metadata": {},
   "outputs": [],
   "source": [
    "def missing_count(x):\n",
    "    return missing_value(x).sum()\n",
    "print(df.pipe(lambda x : missing_count(x).sum()))"
   ]
  },
  {
   "cell_type": "code",
   "execution_count": null,
   "id": "8ddcc35c-622c-4cb9-a6da-a09c68b4cc2a",
   "metadata": {},
   "outputs": [],
   "source": []
  }
 ],
 "metadata": {
  "kernelspec": {
   "display_name": "Python 3 (ipykernel)",
   "language": "python",
   "name": "python3"
  },
  "language_info": {
   "codemirror_mode": {
    "name": "ipython",
    "version": 3
   },
   "file_extension": ".py",
   "mimetype": "text/x-python",
   "name": "python",
   "nbconvert_exporter": "python",
   "pygments_lexer": "ipython3",
   "version": "3.11.4"
  }
 },
 "nbformat": 4,
 "nbformat_minor": 5
}
