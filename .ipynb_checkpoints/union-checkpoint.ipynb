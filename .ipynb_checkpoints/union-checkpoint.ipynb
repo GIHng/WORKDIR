{
 "cells": [
  {
   "cell_type": "code",
   "execution_count": 1,
   "id": "c5ded68d-4e79-4655-90e9-ae11be037597",
   "metadata": {},
   "outputs": [],
   "source": [
    "import numpy as np\n",
    "import pandas as pd\n",
    "import platform\n",
    "import matplotlib.pyplot as plt\n"
   ]
  },
  {
   "cell_type": "code",
   "execution_count": 8,
   "id": "7253e58c-88c7-4e15-96dd-884a8e5f2123",
   "metadata": {},
   "outputs": [
    {
     "name": "stdout",
     "output_type": "stream",
     "text": [
      "<class 'pandas.core.frame.DataFrame'>\n",
      "RangeIndex: 10 entries, 0 to 9\n",
      "Data columns (total 4 columns):\n",
      " #   Column      Non-Null Count  Dtype  \n",
      "---  ------      --------------  -----  \n",
      " 0   id          10 non-null     int64  \n",
      " 1   stock_name  10 non-null     object \n",
      " 2   value       10 non-null     float64\n",
      " 3   price       10 non-null     int64  \n",
      "dtypes: float64(1), int64(2), object(1)\n",
      "memory usage: 452.0+ bytes\n",
      "None\n",
      "<class 'pandas.core.frame.DataFrame'>\n",
      "RangeIndex: 10 entries, 0 to 9\n",
      "Data columns (total 6 columns):\n",
      " #   Column  Non-Null Count  Dtype  \n",
      "---  ------  --------------  -----  \n",
      " 0   id      10 non-null     int64  \n",
      " 1   name    10 non-null     object \n",
      " 2   eps     10 non-null     float64\n",
      " 3   bps     10 non-null     int64  \n",
      " 4   per     10 non-null     float64\n",
      " 5   pbr     10 non-null     float64\n",
      "dtypes: float64(3), int64(2), object(1)\n",
      "memory usage: 612.0+ bytes\n",
      "None\n"
     ]
    }
   ],
   "source": [
    "price = pd.read_excel('./data/stock price.xlsx')\n",
    "valuation = pd.read_excel('./data/stock valuation.xlsx')\n",
    "\n",
    "print(price.info())\n",
    "print(valuation.info())\n",
    "\n"
   ]
  },
  {
   "cell_type": "code",
   "execution_count": null,
   "id": "1532a613-49c4-4ded-abf2-58eb573cc4b1",
   "metadata": {},
   "outputs": [],
   "source": []
  }
 ],
 "metadata": {
  "kernelspec": {
   "display_name": "Python 3 (ipykernel)",
   "language": "python",
   "name": "python3"
  },
  "language_info": {
   "codemirror_mode": {
    "name": "ipython",
    "version": 3
   },
   "file_extension": ".py",
   "mimetype": "text/x-python",
   "name": "python",
   "nbconvert_exporter": "python",
   "pygments_lexer": "ipython3",
   "version": "3.11.4"
  }
 },
 "nbformat": 4,
 "nbformat_minor": 5
}
