{
 "cells": [
  {
   "cell_type": "code",
   "execution_count": 4,
   "metadata": {},
   "outputs": [],
   "source": [
    "from sklearn import preprocessing\n",
    "import numpy as np\n",
    "import pandas as pd"
   ]
  },
  {
   "cell_type": "code",
   "execution_count": 5,
   "metadata": {},
   "outputs": [
    {
     "name": "stdout",
     "output_type": "stream",
     "text": [
      "    mpg  cylinders  displacement  horsepower  weight  acceleration  \\\n",
      "0  18.0          8         307.0       130.0  3504.0          12.0   \n",
      "1  15.0          8         350.0       165.0  3693.0          11.5   \n",
      "2  18.0          8         318.0       150.0  3436.0          11.0   \n",
      "3  16.0          8         304.0       150.0  3433.0          12.0   \n",
      "4  17.0          8         302.0       140.0  3449.0          10.5   \n",
      "\n",
      "   model year  origin                       name  \n",
      "0          70       1  chevrolet chevelle malibu  \n",
      "1          70       1          buick skylark 320  \n",
      "2          70       1         plymouth satellite  \n",
      "3          70       1              amc rebel sst  \n",
      "4          70       1                ford torino  \n"
     ]
    }
   ],
   "source": [
    "auto_mpg = pd.read_csv('../data/auto-mpg.csv', header=None)\n",
    "auto_mpg.columns = ['mpg', 'cylinders', 'displacement', 'horsepower', 'weight', 'acceleration', 'model year', 'origin', 'name']\n",
    "\n",
    "auto_mpg['horsepower'].replace('?', np.nan, inplace=True)\n",
    "auto_mpg.dropna(subset=['horsepower'], axis=0, inplace=True)\n",
    "auto_mpg['horsepower'] = auto_mpg['horsepower'].astype('float')\n",
    "\n",
    "print(auto_mpg.head())"
   ]
  },
  {
   "cell_type": "code",
   "execution_count": 6,
   "metadata": {},
   "outputs": [
    {
     "name": "stdout",
     "output_type": "stream",
     "text": [
      "[257 103  32] [ 46.         107.33333333 168.66666667 230.        ]\n"
     ]
    }
   ],
   "source": [
    "count, bin_dividers = np.histogram(auto_mpg['horsepower'], bins = 3)\n",
    "print(count, bin_dividers)\n",
    "# [257 103  32] [ 46.         107.33333333 168.66666667 230.        ]\n",
    "\n",
    "# 범주형의 형태로 생성\n",
    "auto_mpg['hp_bin'] = pd.cut(x = auto_mpg['horsepower'],\n",
    "                            bins = bin_dividers,\n",
    "                            labels=['저출력', '중간출력', '고출력'],\n",
    "                            include_lowest = True)"
   ]
  },
  {
   "cell_type": "code",
   "execution_count": 8,
   "metadata": {},
   "outputs": [
    {
     "name": "stdout",
     "output_type": "stream",
     "text": [
      "[[0 0 1]\n",
      " [0 0 1]\n",
      " [0 0 1]\n",
      " ...\n",
      " [0 1 0]\n",
      " [0 1 0]\n",
      " [0 1 0]]\n",
      "['고출력' '저출력' '중간출력']\n"
     ]
    }
   ],
   "source": [
    "from sklearn.preprocessing import LabelBinarizer\n",
    "\n",
    "one_hot = LabelBinarizer()\n",
    "print(one_hot.fit_transform(auto_mpg['hp_bin']))\n",
    "\n",
    "print(one_hot.classes_) "
   ]
  },
  {
   "cell_type": "code",
   "execution_count": 9,
   "metadata": {},
   "outputs": [
    {
     "name": "stdout",
     "output_type": "stream",
     "text": [
      "[[0 1 0 1 0 0 0]\n",
      " [0 1 0 0 0 1 0]\n",
      " [1 0 0 1 0 0 0]\n",
      " [0 0 0 1 1 0 0]\n",
      " [0 0 1 0 0 1 0]\n",
      " [0 0 0 0 0 1 1]]\n",
      "['C#' 'C++' 'Go' 'Java' 'Kotlin' 'Python' 'R']\n"
     ]
    }
   ],
   "source": [
    "# 2개 이상의 특성을 가지고 원 핫 인코딩\n",
    "# 2개 이상의 1이 등장할 수 있다.\n",
    "\n",
    "from sklearn.preprocessing import MultiLabelBinarizer\n",
    "\n",
    "multi_feature = [(\"Java\", \"C++\"), (\"C++\", \"Python\"), (\"Java\", \"C#\"), (\"Java\", \"Kotlin\"), (\"Python\", \"Go\"), (\"Python\", \"R\")]\n",
    "\n",
    "one_hot_classes = MultiLabelBinarizer()\n",
    "print(one_hot_classes.fit_transform(multi_feature))\n",
    "\n",
    "print(one_hot_classes.classes_)"
   ]
  },
  {
   "cell_type": "code",
   "execution_count": 10,
   "metadata": {},
   "outputs": [
    {
     "name": "stdout",
     "output_type": "stream",
     "text": [
      "  Score  encoder\n",
      "0    저조        1\n",
      "1    보통        2\n",
      "2    보통        2\n",
      "3    저조        1\n",
      "4    우수        3\n",
      "5  매우우수        4\n"
     ]
    }
   ],
   "source": [
    "df = pd.DataFrame({\"Score\":[\"저조\", '보통', '보통', '저조', '우수', '매우우수']})\n",
    "scale_mapper = {'저조': 1, '보통': 2, '우수': 3, '매우우수': 4}\n",
    "df['encoder'] = df['Score'].replace(scale_mapper)\n",
    "\n",
    "print(df)"
   ]
  },
  {
   "cell_type": "code",
   "execution_count": 13,
   "metadata": {},
   "outputs": [
    {
     "name": "stdout",
     "output_type": "stream",
     "text": [
      "[[1. 0.]\n",
      " [2. 2.]\n",
      " [0. 1.]]\n",
      "[array(['High', 'Low', 'Normal'], dtype='<U21'), array(['10', '15', '20'], dtype='<U21')]\n"
     ]
    }
   ],
   "source": [
    "from sklearn.preprocessing import OrdinalEncoder\n",
    "\n",
    "features = np.array([['Low', 10], ['Normal', 20], ['High', 15]])\n",
    "\n",
    "ordinal_encoder = OrdinalEncoder()\n",
    "print(ordinal_encoder.fit_transform(features))\n",
    "\n",
    "print(ordinal_encoder.categories_)"
   ]
  },
  {
   "cell_type": "code",
   "execution_count": 25,
   "metadata": {},
   "outputs": [
    {
     "name": "stdout",
     "output_type": "stream",
     "text": [
      "[0. 1.]\n",
      "[[ 0.    0.87  0.31]\n",
      " [ 1.   -0.67 -0.22]]\n",
      "[[ 0.    0.87  0.31]\n",
      " [ 1.   -0.67 -0.22]\n",
      " [ 0.    2.1   1.45]\n",
      " [ 1.    1.16  1.22]\n",
      " [ 0.    1.22  1.27]\n",
      " [ 1.   -0.21 -1.19]]\n"
     ]
    }
   ],
   "source": [
    "from sklearn.neighbors import KNeighborsClassifier\n",
    "\n",
    "# 훈련 데이터 생성\n",
    "X = np.array([[0, 2.10, 1.45], [1, 1.16, 1.22], [0, 1.22, 1.27], [1, -0.21, -1.19]])\n",
    "\n",
    "# 예측에 사용할 데이터\n",
    "X_with_nan = np.array([[np.nan, 0.87, 0.31], [np.nan, -0.67, -0.22]])\n",
    "\n",
    "clf = KNeighborsClassifier(3, weights='distance')\n",
    "\n",
    "# 첫 번째 데이터를 label로 하고 나머지 데이터를 feature로 설정해서 훈련\n",
    "trained_model = clf.fit(X[:, 1:], X[:, 0])\n",
    "\n",
    "# 예측\n",
    "imputed_values = trained_model.predict(X_with_nan[:, 1:])\n",
    "print(imputed_values)\n",
    "\n",
    "# 예측한 데이터와 원본 데이터를 합치기\n",
    "X_with_imputed = np.hstack((imputed_values.reshape(-1, 1), X_with_nan[:, 1:]))\n",
    "print(X_with_imputed)\n",
    "\n",
    "# 결측치를 대체한 데이터와 훈련에 사용한 데이터를 합치기\n",
    "result = np.vstack((X_with_imputed, X))\n",
    "print(result)\n"
   ]
  },
  {
   "cell_type": "code",
   "execution_count": 27,
   "metadata": {},
   "outputs": [
    {
     "name": "stdout",
     "output_type": "stream",
     "text": [
      "[[  nan  0.87  0.31]\n",
      " [  nan -0.67 -0.22]\n",
      " [ 0.    2.1   1.45]\n",
      " [ 1.    1.16  1.22]\n",
      " [ 0.    1.22  1.27]\n",
      " [ 1.   -0.21 -1.19]]\n"
     ]
    },
    {
     "data": {
      "text/plain": [
       "array([[ 0.  ,  0.87,  0.31],\n",
       "       [ 0.  , -0.67, -0.22],\n",
       "       [ 0.  ,  2.1 ,  1.45],\n",
       "       [ 1.  ,  1.16,  1.22],\n",
       "       [ 0.  ,  1.22,  1.27],\n",
       "       [ 1.  , -0.21, -1.19]])"
      ]
     },
     "execution_count": 27,
     "metadata": {},
     "output_type": "execute_result"
    }
   ],
   "source": [
    "# 가장 많이 나오는 데이터로 대체\n",
    "from sklearn.impute import SimpleImputer\n",
    "\n",
    "X_complete = np.vstack((X_with_nan, X))\n",
    "print(X_complete)\n",
    "\n",
    "imputer = SimpleImputer(strategy='most_frequent')\n",
    "imputer.fit_transform(X_complete)"
   ]
  },
  {
   "cell_type": "code",
   "execution_count": 36,
   "metadata": {},
   "outputs": [
    {
     "name": "stdout",
     "output_type": "stream",
     "text": [
      "<re.Match object; span=(0, 1), match='1'>\n",
      "None\n"
     ]
    }
   ],
   "source": [
    "import re\n",
    "match = re.match('[0-9]', '1234')\n",
    "print(match)\n",
    "\n",
    "match = re.match('[0-9]', 'abc')\n",
    "print(match)"
   ]
  },
  {
   "cell_type": "code",
   "execution_count": 41,
   "metadata": {},
   "outputs": [
    {
     "name": "stdout",
     "output_type": "stream",
     "text": [
      "ㄴㅁㄹㄴㅇㄹㄴㅇㄹㄹㄴㄹㅇㄹㄴ!@#$ !#!#!@ㅁㄹㄴㅇㄹㅁㄴㅇㄹㄴㅇㄹㅁㄴ!!!\n",
      "ㄴㅁㄹㄴㅇㄹㄴㅇㄹㄹㄴㄹㅇㄹㄴㅁㄹㄴㅇㄹㅁㄴㅇㄹㄴㅇㄹㅁㄴ\n"
     ]
    }
   ],
   "source": [
    "string = 'ㄴㅁㄹㄴㅇㄹㄴㅇㄹㄹㄴㄹㅇㄹㄴ!@#$123123123 12312321!#!#!@4ㅁㄹㄴㅇㄹㅁㄴㅇ123ㄹㄴㅇㄹㅁㄴ3!!!1'\n",
    "\n",
    "p = re.compile('[0-9]+')\n",
    "result = p.sub('', string)\n",
    "print(result)\n",
    "\n",
    "# \\W: 숫자나 문자를 제외한. (공백 포함 제거)\n",
    "p = re.compile('\\W+')\n",
    "result = p.sub('', result)\n",
    "print(result)"
   ]
  },
  {
   "cell_type": "code",
   "execution_count": 45,
   "metadata": {},
   "outputs": [
    {
     "name": "stdout",
     "output_type": "stream",
     "text": [
      "['안녕하세요', 'C  C++ ', 'Java ']\n"
     ]
    }
   ],
   "source": [
    "import unicodedata\n",
    "import sys\n",
    "\n",
    "text_data = ['안녕하세요.', 'C & C++ .', 'Java .']\n",
    "\n",
    "punctutaion = dict.fromkeys(i for i in range(sys.maxunicode)\n",
    "                            if unicodedata.category(chr(i)).startswith('P'))\n",
    "\n",
    "result = [string.translate(punctutaion) for string in text_data]\n",
    "print(result)"
   ]
  },
  {
   "cell_type": "code",
   "execution_count": null,
   "metadata": {},
   "outputs": [],
   "source": []
  }
 ],
 "metadata": {
  "kernelspec": {
   "display_name": "Python 3 (ipykernel)",
   "language": "python",
   "name": "python3"
  },
  "language_info": {
   "codemirror_mode": {
    "name": "ipython",
    "version": 3
   },
   "file_extension": ".py",
   "mimetype": "text/x-python",
   "name": "python",
   "nbconvert_exporter": "python",
   "pygments_lexer": "ipython3",
   "version": "3.11.4"
  }
 },
 "nbformat": 4,
 "nbformat_minor": 4
}
