{
 "cells": [
  {
   "cell_type": "code",
   "execution_count": 7,
   "metadata": {},
   "outputs": [
    {
     "name": "stdout",
     "output_type": "stream",
     "text": [
      "  (0, 7)\t1\n",
      "  (0, 8)\t2\n",
      "  (1, 9)\t1\n",
      "  (1, 5)\t1\n",
      "  (1, 3)\t1\n",
      "  (2, 4)\t1\n",
      "  (2, 6)\t1\n",
      "  (3, 2)\t1\n",
      "  (3, 0)\t1\n",
      "  (3, 1)\t1\n",
      "[[0 0 0 0 0 0 0 1 2 0]\n",
      " [0 0 0 1 0 1 0 0 0 1]\n",
      " [0 0 0 0 1 0 1 0 0 0]\n",
      " [1 1 1 0 0 0 0 0 0 0]]\n"
     ]
    }
   ],
   "source": [
    "import numpy as np\n",
    "from sklearn.feature_extraction.text import CountVectorizer\n",
    "\n",
    "text_data = np.array([\n",
    "    'I love Newziland newziland',\n",
    "    'Sweden is good',\n",
    "    'I hate japan',\n",
    "    'Germany beats both'\n",
    "])\n",
    "\n",
    "count = CountVectorizer()\n",
    "bag_of_words = count.fit_transform(text_data)\n",
    "print(bag_of_words)\n",
    "\n",
    "# 밀집 행렬의 형태로 불러옴\n",
    "print(bag_of_words.toarray())"
   ]
  },
  {
   "cell_type": "code",
   "execution_count": 15,
   "metadata": {},
   "outputs": [
    {
     "name": "stdout",
     "output_type": "stream",
     "text": [
      "{'love': 6, 'newziland': 7, 'newzliand': 8, 'you': 12, 'germany': 2, 'good': 3, 'beats': 0, 'both': 1, 'korea': 5, 'is': 4, 'top': 11, 'of': 9, 'the': 10}\n",
      "  (0, 7)\t0.7782829228046183\n",
      "  (0, 6)\t0.6279137616509933\n",
      "  (1, 12)\t0.6141889663426562\n",
      "  (1, 8)\t0.6141889663426562\n",
      "  (1, 6)\t0.49552379079705033\n",
      "  (2, 3)\t0.7782829228046183\n",
      "  (2, 2)\t0.6279137616509933\n",
      "  (3, 1)\t0.6141889663426562\n",
      "  (3, 0)\t0.6141889663426562\n",
      "  (3, 2)\t0.49552379079705033\n",
      "  (4, 10)\t0.35355339059327373\n",
      "  (4, 9)\t0.35355339059327373\n",
      "  (4, 11)\t0.7071067811865475\n",
      "  (4, 4)\t0.35355339059327373\n",
      "  (4, 5)\t0.35355339059327373\n",
      "[[0.         0.         0.         0.         0.         0.\n",
      "  0.62791376 0.77828292 0.         0.         0.         0.\n",
      "  0.        ]\n",
      " [0.         0.         0.         0.         0.         0.\n",
      "  0.49552379 0.         0.61418897 0.         0.         0.\n",
      "  0.61418897]\n",
      " [0.         0.         0.62791376 0.77828292 0.         0.\n",
      "  0.         0.         0.         0.         0.         0.\n",
      "  0.        ]\n",
      " [0.61418897 0.61418897 0.49552379 0.         0.         0.\n",
      "  0.         0.         0.         0.         0.         0.\n",
      "  0.        ]\n",
      " [0.         0.         0.         0.         0.35355339 0.35355339\n",
      "  0.         0.         0.         0.35355339 0.35355339 0.70710678\n",
      "  0.        ]]\n"
     ]
    }
   ],
   "source": [
    "from sklearn.feature_extraction.text import TfidfVectorizer\n",
    "\n",
    "text_data = np.array([\n",
    "    'I love Newziland',\n",
    "    'I Newzliand love you',\n",
    "    'Germany good',\n",
    "    'Germany beats both',\n",
    "    'korea is top of the top'\n",
    "])\n",
    "\n",
    "tfidf = TfidfVectorizer()\n",
    "feature_matrix = tfidf.fit_transform(text_data)\n",
    "\n",
    "print(tfidf.vocabulary_)\n",
    "print(feature_matrix)\n",
    "print(feature_matrix.toarray())"
   ]
  }
 ],
 "metadata": {
  "kernelspec": {
   "display_name": "Python 3",
   "language": "python",
   "name": "python3"
  },
  "language_info": {
   "codemirror_mode": {
    "name": "ipython",
    "version": 3
   },
   "file_extension": ".py",
   "mimetype": "text/x-python",
   "name": "python",
   "nbconvert_exporter": "python",
   "pygments_lexer": "ipython3",
   "version": "3.11.4"
  },
  "orig_nbformat": 4
 },
 "nbformat": 4,
 "nbformat_minor": 2
}
