{
 "cells": [
  {
   "cell_type": "code",
   "execution_count": 1,
   "id": "15af85fa-0d9e-41d2-ac2c-c5978270c356",
   "metadata": {},
   "outputs": [],
   "source": [
    "from sklearn import preprocessing\n",
    "import numpy as np\n",
    "import pandas as pd\n",
    "import platform\n",
    "import matplotlib.pyplot as plt\n",
    "from matplotlib import font_manager, rc\n",
    "\n",
    "# matplotlib 기반의 그래프를 출력 시 한글 사용을 위한 설정\n",
    "\n",
    "# system이 Mac이면,\n",
    "if platform.system() == 'Darwin':\n",
    "    rc('font', family='AppleGothic')\n",
    "\n",
    "# 음수를 사용하기 위함\n",
    "plt.rcParams['axes.unicode_minus'] = False"
   ]
  },
  {
   "cell_type": "code",
   "execution_count": 4,
   "id": "cad34eaa-f70b-4f9e-99e5-221c9498fece",
   "metadata": {},
   "outputs": [],
   "source": [
    "auto_mpg = pd.read_csv('../data/auto-mpg.csv', header=None)\n",
    "auto_mpg.columns = ['mpg', 'cylinders', 'displacement', 'horsepower', 'weight', 'acceleration', 'model year', 'origin', 'name']\n",
    "\n",
    "auto_mpg['horsepower'].replace('?', np.nan, inplace=True)\n",
    "auto_mpg.dropna(subset=['horsepower'], axis=0, inplace=True)\n",
    "auto_mpg['horsepower'] = auto_mpg['horsepower'].astype('float')\n",
    "\n",
    "# 스케일링을 수행할 데이터 가져오기\n",
    "x = auto_mpg[['horsepower']].values"
   ]
  },
  {
   "cell_type": "code",
   "execution_count": null,
   "id": "572ad6c7-29cf-497e-9f78-a181cdb77d4c",
   "metadata": {},
   "outputs": [],
   "source": []
  }
 ],
 "metadata": {
  "kernelspec": {
   "display_name": "Python 3 (ipykernel)",
   "language": "python",
   "name": "python3"
  },
  "language_info": {
   "codemirror_mode": {
    "name": "ipython",
    "version": 3
   },
   "file_extension": ".py",
   "mimetype": "text/x-python",
   "name": "python",
   "nbconvert_exporter": "python",
   "pygments_lexer": "ipython3",
   "version": "3.11.4"
  }
 },
 "nbformat": 4,
 "nbformat_minor": 5
}
