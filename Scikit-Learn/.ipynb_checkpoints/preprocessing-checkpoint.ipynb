{
 "cells": [
  {
   "cell_type": "code",
   "execution_count": 8,
   "metadata": {},
   "outputs": [],
   "source": [
    "from sklearn import preprocessing\n",
    "import numpy as np\n",
    "import pandas as pd\n",
    "import platform\n",
    "import matplotlib.pyplot as plt\n",
    "from matplotlib import font_manager, rc\n",
    "\n",
    "# matplotlib 기반의 그래프를 출력 시 한글 사용을 위한 설정\n",
    "\n",
    "# system이 Mac이면,\n",
    "if platform.system() == 'Darwin':\n",
    "    rc('font', family='AppleGothic')\n",
    "\n",
    "# 음수를 사용하기 위함\n",
    "plt.rcParams['axes.unicode_minus'] = False"
   ]
  },
  {
   "cell_type": "code",
   "execution_count": 18,
   "metadata": {},
   "outputs": [],
   "source": [
    "auto_mpg = pd.read_csv('../data/auto-mpg.csv', header=None)\n",
    "auto_mpg.columns = ['mpg', 'cylinders', 'displacement', 'horsepower', 'weight', 'acceleration', 'model year', 'origin', 'name']\n",
    "\n",
    "auto_mpg['horsepower'].replace('?', np.nan, inplace=True)\n",
    "auto_mpg.dropna(subset=['horsepower'], axis=0, inplace=True)\n",
    "auto_mpg['horsepower'] = auto_mpg['horsepower'].astype('float')\n",
    "\n",
    "# 스케일링을 수행할 데이터 가져오기\n",
    "x = auto_mpg[['horsepower']].values\n"
   ]
  },
  {
   "cell_type": "code",
   "execution_count": 19,
   "metadata": {},
   "outputs": [
    {
     "name": "stdout",
     "output_type": "stream",
     "text": [
      "평균:  104.46938775510205\n",
      "표준편차:  38.44203271442593\n",
      "최대값:  230.0\n",
      "최소값:  46.0\n",
      "------------------------\n",
      "StandardScaler()\n",
      "평균:  -1.812609019796174e-16\n",
      "표준편차:  0.9999999999999998\n",
      "최대값:  3.2654519904664348\n",
      "최소값:  -1.5209754434541274\n"
     ]
    }
   ],
   "source": [
    "\n",
    "print('평균: ',np.mean(x))\n",
    "print('표준편차: ',np.std(x))\n",
    "print('최대값: ',np.max(x))\n",
    "print('최소값: ',np.min(x))\n",
    "\n",
    "scaler = preprocessing.StandardScaler()\n",
    "# scaler.fit(x)\n",
    "# x_scaled = scaler.transform(x)\n",
    "x_scaled = scaler.fit_transform(x)\n",
    "print('------------------------')\n",
    "print(scaler)\n",
    "print('평균: ',np.mean(x_scaled))\n",
    "print('표준편차: ',np.std(x_scaled))\n",
    "print('최대값: ',np.max(x_scaled))\n",
    "print('최소값: ',np.min(x_scaled))"
   ]
  }
 ],
 "metadata": {
  "kernelspec": {
   "display_name": "Python 3 (ipykernel)",
   "language": "python",
   "name": "python3"
  },
  "language_info": {
   "codemirror_mode": {
    "name": "ipython",
    "version": 3
   },
   "file_extension": ".py",
   "mimetype": "text/x-python",
   "name": "python",
   "nbconvert_exporter": "python",
   "pygments_lexer": "ipython3",
   "version": "3.11.4"
  }
 },
 "nbformat": 4,
 "nbformat_minor": 4
}
