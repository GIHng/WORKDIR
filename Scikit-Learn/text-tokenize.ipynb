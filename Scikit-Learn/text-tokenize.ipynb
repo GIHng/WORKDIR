{
 "cells": [
  {
   "cell_type": "code",
   "execution_count": 8,
   "metadata": {},
   "outputs": [
    {
     "name": "stderr",
     "output_type": "stream",
     "text": [
      "[nltk_data] Downloading package punkt to\n",
      "[nltk_data]     /Users/hyeongihong/nltk_data...\n",
      "[nltk_data]   Unzipping tokenizers/punkt.zip.\n",
      "[nltk_data] Downloading package stopwords to\n",
      "[nltk_data]     /Users/hyeongihong/nltk_data...\n",
      "[nltk_data]   Unzipping corpora/stopwords.zip.\n"
     ]
    },
    {
     "data": {
      "text/plain": [
       "True"
      ]
     },
     "execution_count": 8,
     "metadata": {},
     "output_type": "execute_result"
    }
   ],
   "source": [
    "import nltk\n",
    "\n",
    "nltk.download('punkt')\n",
    "nltk.download('stopwords')"
   ]
  },
  {
   "cell_type": "code",
   "execution_count": 14,
   "metadata": {},
   "outputs": [],
   "source": [
    "string = '''한미일 정상회의 참석차 미국 도착한 윤석열 대통령\n",
    "(워싱턴=연합뉴스) 진성철 기자 = 윤석열 대통령이 17일(현지시간) 미국 워싱턴DC 인근 앤드루스 공군기지에 도착, 공군 1호기에서 내린 뒤 영접 인사의 안내를 받고 있다. 윤 대통령은 미국 대통령의 공식 별장인 캠프 데이비드에서 18일(현지시간) 열리는 한미일 정상회의에 참석한다.\n",
    "(메릴랜드=연합뉴스) 이동환 기자 = 윤석열 대통령이 17일(현지시간) 한미일 정상회의 참석차 미국에 도착했다.\n",
    "윤 대통령은 이날 저녁 대통령 전용기인 공군 1호기 편으로 미 워싱턴 DC 인근 메릴랜드주 앤드루스 공군기지에 도착했다.\n",
    "미국 측에서 로젠스바이그 의전장 대행, 존 틸럴리 한국전참전기념비재단(KWVMF) 이사장, 이주추크우 앤드루스 공군기지 공군 의료자문관이 맞이했다.\n",
    "우리 측은 조현동 주미한국대사가 마중나왔다.\n",
    "출국할 때와 마찬가지로 어두운 색 정장을 입은 윤 대통령은 이들과 악수하며 인사를 나눴다.\n",
    "이어 성조기와 태극기를 든 채 도열한 미 육·해·공군 의장대 사이를 지나 차량에 탑승했다.\n",
    "윤 대통령은 이후 한미일 정상회의 및 한미·한일 정상회담 준비상황을 최종 점검할 예정이다.'''"
   ]
  },
  {
   "cell_type": "code",
   "execution_count": 18,
   "metadata": {},
   "outputs": [
    {
     "data": {
      "text/plain": [
       "['한미일 정상회의 참석차 미국 도착한 윤석열 대통령\\n(워싱턴=연합뉴스) 진성철 기자 = 윤석열 대통령이 17일(현지시간) 미국 워싱턴DC 인근 앤드루스 공군기지에 도착, 공군 1호기에서 내린 뒤 영접 인사의 안내를 받고 있다.',\n",
       " '윤 대통령은 미국 대통령의 공식 별장인 캠프 데이비드에서 18일(현지시간) 열리는 한미일 정상회의에 참석한다.',\n",
       " '(메릴랜드=연합뉴스) 이동환 기자 = 윤석열 대통령이 17일(현지시간) 한미일 정상회의 참석차 미국에 도착했다.',\n",
       " '윤 대통령은 이날 저녁 대통령 전용기인 공군 1호기 편으로 미 워싱턴 DC 인근 메릴랜드주 앤드루스 공군기지에 도착했다.',\n",
       " '미국 측에서 로젠스바이그 의전장 대행, 존 틸럴리 한국전참전기념비재단(KWVMF) 이사장, 이주추크우 앤드루스 공군기지 공군 의료자문관이 맞이했다.',\n",
       " '우리 측은 조현동 주미한국대사가 마중나왔다.',\n",
       " '출국할 때와 마찬가지로 어두운 색 정장을 입은 윤 대통령은 이들과 악수하며 인사를 나눴다.',\n",
       " '이어 성조기와 태극기를 든 채 도열한 미 육·해·공군 의장대 사이를 지나 차량에 탑승했다.',\n",
       " '윤 대통령은 이후 한미일 정상회의 및 한미·한일 정상회담 준비상황을 최종 점검할 예정이다.']"
      ]
     },
     "execution_count": 18,
     "metadata": {},
     "output_type": "execute_result"
    }
   ],
   "source": [
    "from nltk.tokenize import word_tokenize\n",
    "from nltk.tokenize import sent_tokenize\n",
    "\n",
    "sent_tokenize(string)"
   ]
  },
  {
   "cell_type": "code",
   "execution_count": 19,
   "metadata": {},
   "outputs": [
    {
     "name": "stderr",
     "output_type": "stream",
     "text": [
      "[nltk_data] Downloading package averaged_perceptron_tagger to\n",
      "[nltk_data]     /Users/hyeongihong/nltk_data...\n",
      "[nltk_data]   Unzipping taggers/averaged_perceptron_tagger.zip.\n"
     ]
    },
    {
     "name": "stdout",
     "output_type": "stream",
     "text": [
      "[('The', 'DT'), ('little', 'JJ'), ('yellow', 'JJ'), ('don', 'NN'), ('barked', 'VBD'), ('at', 'IN'), ('the', 'DT'), ('Persian', 'JJ'), ('cat', 'NN')]\n"
     ]
    }
   ],
   "source": [
    "import nltk\n",
    "nltk.download('averaged_perceptron_tagger')\n",
    "\n",
    "from nltk import pos_tag\n",
    "from nltk import word_tokenize\n",
    "\n",
    "tokens = word_tokenize('The little yellow don barked at the Persian cat')\n",
    "tags_en = pos_tag(tokens)\n",
    "\n",
    "print(tags_en)\n",
    "\n"
   ]
  },
  {
   "cell_type": "code",
   "execution_count": null,
   "metadata": {},
   "outputs": [],
   "source": []
  }
 ],
 "metadata": {
  "kernelspec": {
   "display_name": "Python 3",
   "language": "python",
   "name": "python3"
  },
  "language_info": {
   "codemirror_mode": {
    "name": "ipython",
    "version": 3
   },
   "file_extension": ".py",
   "mimetype": "text/x-python",
   "name": "python",
   "nbconvert_exporter": "python",
   "pygments_lexer": "ipython3",
   "version": "3.11.4"
  },
  "orig_nbformat": 4
 },
 "nbformat": 4,
 "nbformat_minor": 2
}
