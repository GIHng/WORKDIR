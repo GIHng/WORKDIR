{
 "cells": [
  {
   "cell_type": "code",
   "execution_count": 1,
   "id": "15af85fa-0d9e-41d2-ac2c-c5978270c356",
   "metadata": {},
   "outputs": [],
   "source": [
    "from sklearn import preprocessing\n",
    "import numpy as np\n",
    "import pandas as pd\n",
    "import platform\n",
    "import matplotlib.pyplot as plt\n",
    "from matplotlib import font_manager, rc\n",
    "\n",
    "# matplotlib 기반의 그래프를 출력 시 한글 사용을 위한 설정\n",
    "\n",
    "# system이 Mac이면,\n",
    "if platform.system() == 'Darwin':\n",
    "    rc('font', family='AppleGothic')\n",
    "\n",
    "# 음수를 사용하기 위함\n",
    "plt.rcParams['axes.unicode_minus'] = False"
   ]
  },
  {
   "cell_type": "code",
   "execution_count": 2,
   "id": "cad34eaa-f70b-4f9e-99e5-221c9498fece",
   "metadata": {},
   "outputs": [
    {
     "name": "stdout",
     "output_type": "stream",
     "text": [
      "    mpg  cylinders  displacement  horsepower  weight  acceleration  \\\n",
      "0  18.0          8         307.0       130.0  3504.0          12.0   \n",
      "1  15.0          8         350.0       165.0  3693.0          11.5   \n",
      "2  18.0          8         318.0       150.0  3436.0          11.0   \n",
      "3  16.0          8         304.0       150.0  3433.0          12.0   \n",
      "4  17.0          8         302.0       140.0  3449.0          10.5   \n",
      "\n",
      "   model year  origin                       name  \n",
      "0          70       1  chevrolet chevelle malibu  \n",
      "1          70       1          buick skylark 320  \n",
      "2          70       1         plymouth satellite  \n",
      "3          70       1              amc rebel sst  \n",
      "4          70       1                ford torino  \n"
     ]
    }
   ],
   "source": [
    "auto_mpg = pd.read_csv('../data/auto-mpg.csv', header=None)\n",
    "auto_mpg.columns = ['mpg', 'cylinders', 'displacement', 'horsepower', 'weight', 'acceleration', 'model year', 'origin', 'name']\n",
    "\n",
    "auto_mpg['horsepower'].replace('?', np.nan, inplace=True)\n",
    "auto_mpg.dropna(subset=['horsepower'], axis=0, inplace=True)\n",
    "auto_mpg['horsepower'] = auto_mpg['horsepower'].astype('float')\n",
    "\n",
    "print(auto_mpg.head())"
   ]
  },
  {
   "cell_type": "code",
   "execution_count": 3,
   "id": "572ad6c7-29cf-497e-9f78-a181cdb77d4c",
   "metadata": {},
   "outputs": [
    {
     "name": "stdout",
     "output_type": "stream",
     "text": [
      "[257 103  32] [ 46.         107.33333333 168.66666667 230.        ]\n",
      "       저출력   중간출력    고출력\n",
      "0    False   True  False\n",
      "1    False   True  False\n",
      "2    False   True  False\n",
      "3    False   True  False\n",
      "4    False   True  False\n",
      "..     ...    ...    ...\n",
      "393   True  False  False\n",
      "394   True  False  False\n",
      "395   True  False  False\n",
      "396   True  False  False\n",
      "397   True  False  False\n",
      "\n",
      "[392 rows x 3 columns]\n"
     ]
    }
   ],
   "source": [
    "# One-Hot Encoding\n",
    "# horsepower 특성을 범주형으로 추가.\n",
    "\n",
    "# 3개의 구간으로 구분해서 개수와 경계값을 리턴 받아 저장.\n",
    "count, bin_dividers = np.histogram(auto_mpg['horsepower'], bins = 3)\n",
    "print(count, bin_dividers)\n",
    "# [257 103  32] [ 46.         107.33333333 168.66666667 230.        ]\n",
    "\n",
    "# 범주형의 형태로 생성\n",
    "auto_mpg['hp_bin'] = pd.cut(x = auto_mpg['horsepower'],\n",
    "                            bins = bin_dividers,\n",
    "                            labels=['저출력', '중간출력', '고출력'],\n",
    "                            include_lowest = True)\n",
    "\n",
    "# One-Hot Encoding 수행 - 값이 3종류 이므로 3개의 특성이 만들어지고 값은 하나만 할당됨.\n",
    "horsepower_dummies = pd.get_dummies(auto_mpg['hp_bin'])\n",
    "print(horsepower_dummies)\n",
    "#    저출력   중간출력    고출력\n",
    "# 0    False   True  False\n",
    "# 1    False   True  False\n",
    "# 2    False   True  False\n",
    "# 3    False   True  False\n",
    "# 4    False   True  False\n",
    "# ..     ...    ...    ...\n",
    "# 393   True  False  False\n",
    "# 394   True  False  False\n",
    "# 395   True  False  False\n",
    "# 396   True  False  False\n",
    "# 397   True  False  False"
   ]
  },
  {
   "cell_type": "code",
   "execution_count": null,
   "id": "9a10066f",
   "metadata": {},
   "outputs": [],
   "source": []
  }
 ],
 "metadata": {
  "kernelspec": {
   "display_name": "Python 3 (ipykernel)",
   "language": "python",
   "name": "python3"
  },
  "language_info": {
   "codemirror_mode": {
    "name": "ipython",
    "version": 3
   },
   "file_extension": ".py",
   "mimetype": "text/x-python",
   "name": "python",
   "nbconvert_exporter": "python",
   "pygments_lexer": "ipython3",
   "version": "3.11.4"
  }
 },
 "nbformat": 4,
 "nbformat_minor": 5
}
