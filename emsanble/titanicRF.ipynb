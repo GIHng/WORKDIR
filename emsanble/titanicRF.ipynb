{
 "cells": [
  {
   "cell_type": "code",
   "execution_count": 3,
   "metadata": {},
   "outputs": [],
   "source": [
    "# 파이썬 ≥3.5 필수\n",
    "import sys\n",
    "assert sys.version_info >= (3, 5)\n",
    "\n",
    "\n",
    "# 공통 모듈 임포트\n",
    "import numpy as np\n",
    "import pandas as pd\n",
    "import os\n",
    "\n",
    "\n",
    "# 깔끔한 그래프 출력을 위해\n",
    "%matplotlib inline\n",
    "import matplotlib as mpl\n",
    "import matplotlib.pyplot as plt\n",
    "mpl.rc('axes', labelsize=14)\n",
    "mpl.rc('xtick', labelsize=12)\n",
    "mpl.rc('ytick', labelsize=12)\n",
    "\n",
    "\n",
    "# 그림을 저장할 위치\n",
    "PROJECT_ROOT_DIR = \".\"\n",
    "CHAPTER_ID = \"classification\"\n",
    "IMAGES_PATH = os.path.join(PROJECT_ROOT_DIR, \"images\", CHAPTER_ID)\n",
    "os.makedirs(IMAGES_PATH, exist_ok=True)\n",
    "\n",
    "\n",
    "def save_fig(fig_id, tight_layout=True, fig_extension=\"png\", resolution=300):\n",
    "    path = os.path.join(IMAGES_PATH, fig_id + \".\" + fig_extension)\n",
    "    print(\"그림 저장:\", fig_id)\n",
    "    if tight_layout:\n",
    "        plt.tight_layout()\n",
    "    plt.savefig(path, format=fig_extension, dpi=resolution)\n",
    "    \n",
    "\n",
    "from matplotlib import font_manager, rc\n",
    "import platform\n",
    "\n",
    "\n",
    "path = \"c:/Windows/Fonts/malgun.ttf\"\n",
    "if platform.system() == 'Darwin':\n",
    "    rc('font', family='AppleGothic')\n",
    "elif platform.system() == 'Windows':\n",
    "    font_name = font_manager.FontProperties(fname=path).get_name()\n",
    "    rc('font', family=font_name)\n",
    "\n",
    "\n",
    "mpl.rcParams['axes.unicode_minus'] = False\n",
    "\n",
    "\n",
    "# Jupyter Notebook의 출력을 소수점 이하 3자리로 제한 \n",
    "%precision 3\n",
    "\n",
    "\n",
    "import seaborn as sns\n",
    "\n",
    "import scipy as sp\n",
    "from scipy import stats\n",
    "\n",
    "\n",
    "# 사이킷런 ≥0.20 필수\n",
    "import sklearn\n",
    "assert sklearn.__version__ >= \"0.20\"\n",
    "\n",
    "\n",
    "# 노트북 실행 결과를 동일하게 유지하기 위해\n",
    "# 데이터를 분할할 때 동일한 분할을 만들기 위해서\n",
    "# 모델을 만드는 작업을 여러 번에 걸쳐서 하는 경우 시드가 변경되면\n",
    "# 훈련용 데이터가 자주 변경되면 결국 모든 데터를 가지고 모델을 생성하는 결과\n",
    "# Outfit을 만드는 효과를 가져옴.\n",
    "np.random.seed(42)"
   ]
  },
  {
   "cell_type": "code",
   "execution_count": 4,
   "metadata": {},
   "outputs": [
    {
     "name": "stdout",
     "output_type": "stream",
     "text": [
      "<class 'pandas.core.frame.DataFrame'>\n",
      "RangeIndex: 891 entries, 0 to 890\n",
      "Data columns (total 15 columns):\n",
      " #   Column       Non-Null Count  Dtype   \n",
      "---  ------       --------------  -----   \n",
      " 0   survived     891 non-null    int64   \n",
      " 1   pclass       891 non-null    int64   \n",
      " 2   sex          891 non-null    object  \n",
      " 3   age          714 non-null    float64 \n",
      " 4   sibsp        891 non-null    int64   \n",
      " 5   parch        891 non-null    int64   \n",
      " 6   fare         891 non-null    float64 \n",
      " 7   embarked     889 non-null    object  \n",
      " 8   class        891 non-null    category\n",
      " 9   who          891 non-null    object  \n",
      " 10  adult_male   891 non-null    bool    \n",
      " 11  deck         203 non-null    category\n",
      " 12  embark_town  889 non-null    object  \n",
      " 13  alive        891 non-null    object  \n",
      " 14  alone        891 non-null    bool    \n",
      "dtypes: bool(2), category(2), float64(2), int64(4), object(5)\n",
      "memory usage: 80.7+ KB\n"
     ]
    }
   ],
   "source": [
    "df = sns.load_dataset('titanic')\n",
    "df.info()"
   ]
  },
  {
   "attachments": {},
   "cell_type": "markdown",
   "metadata": {},
   "source": [
    "# 결측치 처리"
   ]
  },
  {
   "cell_type": "code",
   "execution_count": 5,
   "metadata": {},
   "outputs": [
    {
     "name": "stdout",
     "output_type": "stream",
     "text": [
      "<class 'pandas.core.frame.DataFrame'>\n",
      "Int64Index: 714 entries, 0 to 890\n",
      "Data columns (total 13 columns):\n",
      " #   Column      Non-Null Count  Dtype   \n",
      "---  ------      --------------  -----   \n",
      " 0   survived    714 non-null    int64   \n",
      " 1   pclass      714 non-null    int64   \n",
      " 2   sex         714 non-null    object  \n",
      " 3   age         714 non-null    float64 \n",
      " 4   sibsp       714 non-null    int64   \n",
      " 5   parch       714 non-null    int64   \n",
      " 6   fare        714 non-null    float64 \n",
      " 7   embarked    714 non-null    object  \n",
      " 8   class       714 non-null    category\n",
      " 9   who         714 non-null    object  \n",
      " 10  adult_male  714 non-null    bool    \n",
      " 11  alive       714 non-null    object  \n",
      " 12  alone       714 non-null    bool    \n",
      "dtypes: bool(2), category(1), float64(2), int64(4), object(4)\n",
      "memory usage: 63.6+ KB\n"
     ]
    }
   ],
   "source": [
    "rdf = df.drop(['deck', 'embark_town'], axis=1)\n",
    "rdf = rdf.dropna(subset=['age'], how='any', axis=0)\n",
    "most_freq = rdf['embarked'].value_counts(dropna=True).idxmax()\n",
    "rdf['embarked'].fillna(most_freq, inplace=True)\n",
    "rdf.info()"
   ]
  },
  {
   "attachments": {},
   "cell_type": "markdown",
   "metadata": {},
   "source": [
    "# one hot encoding\n",
    "순서가 없는 범주형 데이터"
   ]
  },
  {
   "cell_type": "code",
   "execution_count": 6,
   "metadata": {},
   "outputs": [
    {
     "name": "stdout",
     "output_type": "stream",
     "text": [
      "<class 'pandas.core.frame.DataFrame'>\n",
      "Int64Index: 714 entries, 0 to 890\n",
      "Data columns (total 10 columns):\n",
      " #   Column    Non-Null Count  Dtype  \n",
      "---  ------    --------------  -----  \n",
      " 0   survived  714 non-null    int64  \n",
      " 1   pclass    714 non-null    int64  \n",
      " 2   age       714 non-null    float64\n",
      " 3   sibsp     714 non-null    int64  \n",
      " 4   parch     714 non-null    int64  \n",
      " 5   female    714 non-null    uint8  \n",
      " 6   male      714 non-null    uint8  \n",
      " 7   town_C    714 non-null    uint8  \n",
      " 8   town_Q    714 non-null    uint8  \n",
      " 9   town_S    714 non-null    uint8  \n",
      "dtypes: float64(1), int64(4), uint8(5)\n",
      "memory usage: 37.0 KB\n"
     ]
    }
   ],
   "source": [
    "ndf = rdf[['survived', 'pclass', 'sex', 'age', 'sibsp', 'parch', 'embarked']]\n",
    "\n",
    "# 순서가 없는 ㅓㅁ주형 데이터의 원 핫 인코딩\n",
    "onehot_sex = pd.get_dummies(ndf['sex'])\n",
    "ndf = pd.concat([ndf, onehot_sex], axis=1)\n",
    "\n",
    "onehot_embarked = pd.get_dummies(ndf['embarked'], prefix='town')\n",
    "ndf = pd.concat([ndf, onehot_embarked], axis=1)\n",
    "\n",
    "ndf.drop(['sex', 'embarked'], axis=1, inplace=True)\n",
    "\n",
    "ndf.info()"
   ]
  },
  {
   "cell_type": "code",
   "execution_count": 7,
   "metadata": {},
   "outputs": [
    {
     "name": "stdout",
     "output_type": "stream",
     "text": [
      "[[ 0.911 -0.53   0.525 -0.506 -0.759  0.759 -0.472 -0.202  0.533]\n",
      " [-1.476  0.572  0.525 -0.506  1.317 -1.317  2.12  -0.202 -1.876]\n",
      " [ 0.911 -0.255 -0.552 -0.506  1.317 -1.317 -0.472 -0.202  0.533]\n",
      " [-1.476  0.365  0.525 -0.506  1.317 -1.317 -0.472 -0.202  0.533]\n",
      " [ 0.911  0.365 -0.552 -0.506 -0.759  0.759 -0.472 -0.202  0.533]]\n"
     ]
    }
   ],
   "source": [
    "#피쳐 와 타켓을 분리\n",
    "X = ndf[['pclass', 'age', 'sibsp', 'parch', 'female', 'male', 'town_C', 'town_Q', 'town_S']]\n",
    "y = ndf ['survived']\n",
    "#정규화\n",
    "from sklearn import preprocessing\n",
    "X = preprocessing.StandardScaler().fit(X).transform(X)\n",
    "print(X[0:5])"
   ]
  },
  {
   "attachments": {},
   "cell_type": "markdown",
   "metadata": {},
   "source": [
    "#### 훈련 데이터와 테스트 데이터 분할\n",
    "데이터가 랜덤하게 배치되어 있다면 분할할 때 순서대로 앞에서 일정 부분은 <br/>\n",
    "훈련 데이터로 사용하고 일정 부분은 테스트 데이터로 할당<br/>\n",
    "\n",
    "타겟의 비율을 고려<br/>\n",
    "타겟의 비율이 고르지 않다면 여러가지 고려<br/>\n",
    "층화 추출, oversampling, undersampling 고려<br/>\n",
    "이상치 탐지에서 이 부분이 항상 고려 대상.<br/>\n",
    "\n",
    "**titanic은 항구별로 순차적인 데이터를 가지고 있을 가능성이 매우 높다**\n",
    "\n",
    "- 훈련 데이터의 비율 - 일반적으로 0.7, 0.8을 많이 사용"
   ]
  },
  {
   "cell_type": "code",
   "execution_count": 8,
   "metadata": {},
   "outputs": [],
   "source": [
    "from sklearn.model_selection import train_test_split\n",
    "\n",
    "X_train, X_test, y_train, y_test = train_test_split(X, y, test_size=0.3, random_state=42)"
   ]
  },
  {
   "cell_type": "code",
   "execution_count": 9,
   "metadata": {},
   "outputs": [
    {
     "data": {
      "text/html": [
       "<style>#sk-container-id-1 {color: black;}#sk-container-id-1 pre{padding: 0;}#sk-container-id-1 div.sk-toggleable {background-color: white;}#sk-container-id-1 label.sk-toggleable__label {cursor: pointer;display: block;width: 100%;margin-bottom: 0;padding: 0.3em;box-sizing: border-box;text-align: center;}#sk-container-id-1 label.sk-toggleable__label-arrow:before {content: \"▸\";float: left;margin-right: 0.25em;color: #696969;}#sk-container-id-1 label.sk-toggleable__label-arrow:hover:before {color: black;}#sk-container-id-1 div.sk-estimator:hover label.sk-toggleable__label-arrow:before {color: black;}#sk-container-id-1 div.sk-toggleable__content {max-height: 0;max-width: 0;overflow: hidden;text-align: left;background-color: #f0f8ff;}#sk-container-id-1 div.sk-toggleable__content pre {margin: 0.2em;color: black;border-radius: 0.25em;background-color: #f0f8ff;}#sk-container-id-1 input.sk-toggleable__control:checked~div.sk-toggleable__content {max-height: 200px;max-width: 100%;overflow: auto;}#sk-container-id-1 input.sk-toggleable__control:checked~label.sk-toggleable__label-arrow:before {content: \"▾\";}#sk-container-id-1 div.sk-estimator input.sk-toggleable__control:checked~label.sk-toggleable__label {background-color: #d4ebff;}#sk-container-id-1 div.sk-label input.sk-toggleable__control:checked~label.sk-toggleable__label {background-color: #d4ebff;}#sk-container-id-1 input.sk-hidden--visually {border: 0;clip: rect(1px 1px 1px 1px);clip: rect(1px, 1px, 1px, 1px);height: 1px;margin: -1px;overflow: hidden;padding: 0;position: absolute;width: 1px;}#sk-container-id-1 div.sk-estimator {font-family: monospace;background-color: #f0f8ff;border: 1px dotted black;border-radius: 0.25em;box-sizing: border-box;margin-bottom: 0.5em;}#sk-container-id-1 div.sk-estimator:hover {background-color: #d4ebff;}#sk-container-id-1 div.sk-parallel-item::after {content: \"\";width: 100%;border-bottom: 1px solid gray;flex-grow: 1;}#sk-container-id-1 div.sk-label:hover label.sk-toggleable__label {background-color: #d4ebff;}#sk-container-id-1 div.sk-serial::before {content: \"\";position: absolute;border-left: 1px solid gray;box-sizing: border-box;top: 0;bottom: 0;left: 50%;z-index: 0;}#sk-container-id-1 div.sk-serial {display: flex;flex-direction: column;align-items: center;background-color: white;padding-right: 0.2em;padding-left: 0.2em;position: relative;}#sk-container-id-1 div.sk-item {position: relative;z-index: 1;}#sk-container-id-1 div.sk-parallel {display: flex;align-items: stretch;justify-content: center;background-color: white;position: relative;}#sk-container-id-1 div.sk-item::before, #sk-container-id-1 div.sk-parallel-item::before {content: \"\";position: absolute;border-left: 1px solid gray;box-sizing: border-box;top: 0;bottom: 0;left: 50%;z-index: -1;}#sk-container-id-1 div.sk-parallel-item {display: flex;flex-direction: column;z-index: 1;position: relative;background-color: white;}#sk-container-id-1 div.sk-parallel-item:first-child::after {align-self: flex-end;width: 50%;}#sk-container-id-1 div.sk-parallel-item:last-child::after {align-self: flex-start;width: 50%;}#sk-container-id-1 div.sk-parallel-item:only-child::after {width: 0;}#sk-container-id-1 div.sk-dashed-wrapped {border: 1px dashed gray;margin: 0 0.4em 0.5em 0.4em;box-sizing: border-box;padding-bottom: 0.4em;background-color: white;}#sk-container-id-1 div.sk-label label {font-family: monospace;font-weight: bold;display: inline-block;line-height: 1.2em;}#sk-container-id-1 div.sk-label-container {text-align: center;}#sk-container-id-1 div.sk-container {/* jupyter's `normalize.less` sets `[hidden] { display: none; }` but bootstrap.min.css set `[hidden] { display: none !important; }` so we also need the `!important` here to be able to override the default hidden behavior on the sphinx rendered scikit-learn.org. See: https://github.com/scikit-learn/scikit-learn/issues/21755 */display: inline-block !important;position: relative;}#sk-container-id-1 div.sk-text-repr-fallback {display: none;}</style><div id=\"sk-container-id-1\" class=\"sk-top-container\"><div class=\"sk-text-repr-fallback\"><pre>RandomForestClassifier(n_estimators=25, n_jobs=-1, random_state=42)</pre><b>In a Jupyter environment, please rerun this cell to show the HTML representation or trust the notebook. <br />On GitHub, the HTML representation is unable to render, please try loading this page with nbviewer.org.</b></div><div class=\"sk-container\" hidden><div class=\"sk-item\"><div class=\"sk-estimator sk-toggleable\"><input class=\"sk-toggleable__control sk-hidden--visually\" id=\"sk-estimator-id-1\" type=\"checkbox\" checked><label for=\"sk-estimator-id-1\" class=\"sk-toggleable__label sk-toggleable__label-arrow\">RandomForestClassifier</label><div class=\"sk-toggleable__content\"><pre>RandomForestClassifier(n_estimators=25, n_jobs=-1, random_state=42)</pre></div></div></div></div></div>"
      ],
      "text/plain": [
       "RandomForestClassifier(n_estimators=25, n_jobs=-1, random_state=42)"
      ]
     },
     "execution_count": 9,
     "metadata": {},
     "output_type": "execute_result"
    }
   ],
   "source": [
    "# 모델을 만들어서 훈련\n",
    "from sklearn.ensemble import RandomForestClassifier\n",
    "\n",
    "forest = RandomForestClassifier(n_estimators=25, random_state=42, n_jobs=-1)\n",
    "\n",
    "forest.fit(X_train,y_train)"
   ]
  },
  {
   "attachments": {},
   "cell_type": "markdown",
   "metadata": {},
   "source": [
    "# 평가 지표 확인"
   ]
  },
  {
   "cell_type": "code",
   "execution_count": null,
   "metadata": {},
   "outputs": [],
   "source": []
  },
  {
   "cell_type": "code",
   "execution_count": 10,
   "metadata": {},
   "outputs": [
    {
     "name": "stdout",
     "output_type": "stream",
     "text": [
      "[0 1 1 1 0 1 0 1 1 1]\n",
      "[0 1 1 1 0 1 1 1 0 0]\n"
     ]
    }
   ],
   "source": [
    "y_hat = forest.predict(X_test)\n",
    "\n",
    "print(y_hat[0:10])\n",
    "print(y_test.values[0:10])"
   ]
  },
  {
   "cell_type": "code",
   "execution_count": 11,
   "metadata": {},
   "outputs": [
    {
     "name": "stdout",
     "output_type": "stream",
     "text": [
      "[[106  20]\n",
      " [ 24  65]]\n",
      "0.7953488372093023\n"
     ]
    }
   ],
   "source": [
    "from sklearn import metrics\n",
    "\n",
    "# 오차 행렬 확인\n",
    "tree_matrix = metrics.confusion_matrix(y_test, y_hat)\n",
    "print(tree_matrix)\n",
    "\n",
    "# 정확도 계산\n",
    "print((tree_matrix[0, 0] + tree_matrix[1, 1]) / np.sum(tree_matrix))"
   ]
  },
  {
   "cell_type": "code",
   "execution_count": 12,
   "metadata": {},
   "outputs": [
    {
     "name": "stdout",
     "output_type": "stream",
     "text": [
      "              precision    recall  f1-score   support\n",
      "\n",
      "           0       0.82      0.84      0.83       126\n",
      "           1       0.76      0.73      0.75        89\n",
      "\n",
      "    accuracy                           0.80       215\n",
      "   macro avg       0.79      0.79      0.79       215\n",
      "weighted avg       0.79      0.80      0.79       215\n",
      "\n"
     ]
    }
   ],
   "source": [
    "tree_report = metrics.classification_report(y_test, y_hat)\n",
    "print(tree_report)"
   ]
  },
  {
   "cell_type": "code",
   "execution_count": 13,
   "metadata": {},
   "outputs": [
    {
     "data": {
      "text/plain": [
       "<function matplotlib.pyplot.show(close=None, block=None)>"
      ]
     },
     "execution_count": 13,
     "metadata": {},
     "output_type": "execute_result"
    },
    {
     "data": {
      "image/png": "[encoded data removed]",
      "text/plain": [
       "<Figure size 640x480 with 1 Axes>"
      ]
     },
     "metadata": {},
     "output_type": "display_data"
    }
   ],
   "source": [
    "n_features = X.data.shape[1]\n",
    "plt.barh(np.arange(n_features), forest.feature_importances_, align='center')\n",
    "plt.yticks(np.arange(n_features),\n",
    "           ['pclass', 'age', 'sibsp', 'parch', 'female', 'male', 'town_C', 'town_Q', 'town_S'])\n",
    "plt.xlabel('특성 중요도')\n",
    "plt.ylabel('특성')\n",
    "plt.ylim(-1, n_features)\n",
    "plt.show\n",
    "           \n",
    "           "
   ]
  },
  {
   "cell_type": "code",
   "execution_count": 14,
   "metadata": {},
   "outputs": [
    {
     "name": "stdout",
     "output_type": "stream",
     "text": [
      "[0 1 1 1 0 0 0 0 1 1]\n",
      "[0 1 1 1 0 1 1 1 0 0]\n"
     ]
    }
   ],
   "source": [
    "# AdaBoost\n",
    "from sklearn.ensemble import AdaBoostClassifier\n",
    "from sklearn.tree import DecisionTreeClassifier\n",
    "\n",
    "# Algorithm 은 확률을 계산할 수 있으면 SAMME.R 이고 없으면 SAMME\n",
    "# learning_rate는 학습률\n",
    "# 학습률이 너무 크면 최적화되지 않을 가능성이 커지고, 너무 작으면 훈련 속도 느려짐. (overfitting)\n",
    "ada_clf = AdaBoostClassifier(\n",
    "    DecisionTreeClassifier(max_depth=1),\n",
    "    n_estimators= 200,\n",
    "    algorithm='SAMME.R',\n",
    "    learning_rate=0.5,\n",
    "    random_state=42\n",
    ")\n",
    "\n",
    "ada_clf.fit(X_train, y_train)\n",
    "\n",
    "# 평가 지표 확인\n",
    "y_hat = ada_clf.predict(X_test)\n",
    "\n",
    "print(y_hat[0:10])\n",
    "print(y_test.values[0:10])"
   ]
  },
  {
   "cell_type": "code",
   "execution_count": 15,
   "metadata": {},
   "outputs": [
    {
     "name": "stdout",
     "output_type": "stream",
     "text": [
      "[[99 27]\n",
      " [24 65]]\n",
      "0.7627906976744186\n",
      "              precision    recall  f1-score   support\n",
      "\n",
      "           0       0.80      0.79      0.80       126\n",
      "           1       0.71      0.73      0.72        89\n",
      "\n",
      "    accuracy                           0.76       215\n",
      "   macro avg       0.76      0.76      0.76       215\n",
      "weighted avg       0.76      0.76      0.76       215\n",
      "\n"
     ]
    }
   ],
   "source": [
    "#오차 행렬 확인\n",
    "ada_matrix = metrics.confusion_matrix(y_test, y_hat)\n",
    "print(ada_matrix)\n",
    "\n",
    "#정확도 계산\n",
    "print((ada_matrix[0, 0] + ada_matrix[1,1]) / np.sum(ada_matrix))\n",
    "\n",
    "ada_report = metrics.classification_report(y_test, y_hat)\n",
    "print(ada_report)"
   ]
  },
  {
   "cell_type": "code",
   "execution_count": 16,
   "metadata": {},
   "outputs": [
    {
     "name": "stdout",
     "output_type": "stream",
     "text": [
      "[0 1 1 1 0 1 0 1 0 1]\n",
      "[0 1 1 1 0 1 1 1 0 0]\n",
      "CPU times: user 39.4 ms, sys: 1.67 ms, total: 41.1 ms\n",
      "Wall time: 41.3 ms\n"
     ]
    }
   ],
   "source": [
    "%%time\n",
    "\n",
    "# Gradient Boosting\n",
    "from sklearn.ensemble import GradientBoostingClassifier\n",
    "from sklearn.tree import DecisionTreeClassifier\n",
    "\n",
    "gbm_clf = GradientBoostingClassifier(random_state=42)\n",
    "\n",
    "gbm_clf.fit(X_train, y_train)\n",
    "\n",
    "# 평가 지표 확인\n",
    "y_hat = gbm_clf.predict(X_test)\n",
    "\n",
    "print(y_hat[0:10])\n",
    "print(y_test.values[0:10])"
   ]
  },
  {
   "cell_type": "code",
   "execution_count": 17,
   "metadata": {},
   "outputs": [
    {
     "name": "stdout",
     "output_type": "stream",
     "text": [
      "[[108  18]\n",
      " [ 25  64]]\n",
      "0.8\n"
     ]
    }
   ],
   "source": [
    "# 오차 행렬\n",
    "gbm_matrix = metrics.confusion_matrix(y_test, y_hat)\n",
    "print(gbm_matrix)\n",
    "\n",
    "print((gbm_matrix[0, 0] + gbm_matrix[1, 1]) / np.sum(gbm_matrix))"
   ]
  },
  {
   "cell_type": "code",
   "execution_count": 20,
   "metadata": {},
   "outputs": [
    {
     "name": "stdout",
     "output_type": "stream",
     "text": [
      "Fitting 2 folds for each of 4 candidates, totalling 8 fits\n",
      "최적의 파라미터: {'learning_rate': 0.1, 'n_estimators': 100}\n",
      "최적의 정확도: 0.8136546184738955\n",
      "CPU times: user 675 ms, sys: 3.47 ms, total: 679 ms\n",
      "Wall time: 679 ms\n"
     ]
    }
   ],
   "source": [
    "%%time\n",
    "from sklearn.model_selection import GridSearchCV\n",
    "\n",
    "params = {\n",
    "    'n_estimators': [100, 500],\n",
    "    'learning_rate': [0.05, 0.1]\n",
    "}\n",
    "\n",
    "grid_cv = GridSearchCV(gbm_clf, param_grid=params, cv=2, verbose=1)\n",
    "grid_cv.fit(X_train, y_train)\n",
    "print('최적의 파라미터:', grid_cv.best_params_)\n",
    "print('최적의 정확도:', grid_cv.best_score_)\n"
   ]
  },
  {
   "cell_type": "code",
   "execution_count": 23,
   "metadata": {},
   "outputs": [
    {
     "name": "stdout",
     "output_type": "stream",
     "text": [
      "              precision    recall  f1-score   support\n",
      "\n",
      "           0       0.81      0.86      0.83       126\n",
      "           1       0.78      0.72      0.75        89\n",
      "\n",
      "    accuracy                           0.80       215\n",
      "   macro avg       0.80      0.79      0.79       215\n",
      "weighted avg       0.80      0.80      0.80       215\n",
      "\n"
     ]
    }
   ],
   "source": [
    "gbm_pred = grid_cv.best_estimator_.predict (X_test)\n",
    "gbm_report = metrics.classification_report (y_test, gbm_pred)\n",
    "print (gbm_report)"
   ]
  },
  {
   "cell_type": "code",
   "execution_count": null,
   "metadata": {},
   "outputs": [],
   "source": []
  }
 ],
 "metadata": {
  "kernelspec": {
   "display_name": "Python 3",
   "language": "python",
   "name": "python3"
  },
  "language_info": {
   "codemirror_mode": {
    "name": "ipython",
    "version": 3
   },
   "file_extension": ".py",
   "mimetype": "text/x-python",
   "name": "python",
   "nbconvert_exporter": "python",
   "pygments_lexer": "ipython3",
   "version": "3.11.4"
  },
  "orig_nbformat": 4
 },
 "nbformat": 4,
 "nbformat_minor": 2
}
